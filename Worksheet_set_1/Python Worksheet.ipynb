{
 "cells": [
  {
   "cell_type": "code",
   "execution_count": 1,
   "id": "a30f1863",
   "metadata": {},
   "outputs": [
    {
     "name": "stdout",
     "output_type": "stream",
     "text": [
      "Enter a Number:5\n",
      "Factorial of 5 is 120\n"
     ]
    }
   ],
   "source": [
    "'''11. Write a python program to find the factorial of a number.'''\n",
    "import math\n",
    "\n",
    "def factorial(x):\n",
    "    return(math.factorial(x))\n",
    "\n",
    "x = int(input('Enter a Number:'))\n",
    "print('Factorial of',x,'is',factorial(x))"
   ]
  },
  {
   "cell_type": "code",
   "execution_count": 2,
   "id": "25352732",
   "metadata": {},
   "outputs": [
    {
     "name": "stdout",
     "output_type": "stream",
     "text": [
      "Enter a number:90\n",
      "90 is not a prime number\n"
     ]
    }
   ],
   "source": [
    "'''12. Write a python program to find whether a number is prime or composite.'''\n",
    "n = int(input('Enter a number:'))\n",
    "if n > 1:\n",
    "    for i in range(2,n):\n",
    "        if (n % i) == 0:\n",
    "            print(n,'is not a prime number')\n",
    "            break\n",
    "    else:\n",
    "        print(n, 'is a prime number')\n",
    "elif n == 0 or 1:\n",
    "    print('Not prime nor composite')"
   ]
  },
  {
   "cell_type": "code",
   "execution_count": 10,
   "id": "2da4c691",
   "metadata": {},
   "outputs": [
    {
     "name": "stdout",
     "output_type": "stream",
     "text": [
      "Enter string :wow\n",
      "Given input is Palindrome\n"
     ]
    }
   ],
   "source": [
    "'''13. Write a python program to check whether a given string is palindrome or not.'''\n",
    "s = str(input('Enter string :'))\n",
    "if (s == s[::-1]):\n",
    "    print('Given input is Palindrome')\n",
    "else:\n",
    "    print('Input is not Palindrome')"
   ]
  },
  {
   "cell_type": "code",
   "execution_count": 6,
   "id": "db6ae6a2",
   "metadata": {},
   "outputs": [
    {
     "name": "stdout",
     "output_type": "stream",
     "text": [
      "Enter 1st angle of triangle :50\n",
      "Enter 2nd angle of triangle :70\n",
      "Third angle of triangle is :  60\n"
     ]
    }
   ],
   "source": [
    "'''14. Write a Python program to get the third side of right-angled triangle from two given sides.'''\n",
    "#a° + b° + c° = 180°\n",
    "a = int(input('Enter 1st angle of triangle :'))\n",
    "b = int(input('Enter 2nd angle of triangle :'))\n",
    "c = None\n",
    "\n",
    "c = 180 - (a + b)\n",
    "print('Third angle of triangle is : ', c)"
   ]
  },
  {
   "cell_type": "code",
   "execution_count": 9,
   "id": "4f0c15ea",
   "metadata": {},
   "outputs": [
    {
     "name": "stdout",
     "output_type": "stream",
     "text": [
      "Enter Sentence to check: Lets check the program.\n",
      "Frequency : \n",
      " Counter({'e': 3, ' ': 3, 't': 2, 'c': 2, 'h': 2, 'r': 2, 'L': 1, 's': 1, 'k': 1, 'p': 1, 'o': 1, 'g': 1, 'a': 1, 'm': 1, '.': 1})\n"
     ]
    }
   ],
   "source": [
    "'''15. Write a python program to print the frequency of each of the characters present in a given string.'''\n",
    "#Counter is a container that will hold the count of each of the elements present in the container.\n",
    "from collections import Counter \n",
    "s = str(input('Enter Sentence to check: '))\n",
    "r = Counter(s)\n",
    "print('Frequency : \\n',str(r))"
   ]
  },
  {
   "cell_type": "code",
   "execution_count": null,
   "id": "162ddc4d",
   "metadata": {},
   "outputs": [],
   "source": []
  }
 ],
 "metadata": {
  "kernelspec": {
   "display_name": "Python 3 (ipykernel)",
   "language": "python",
   "name": "python3"
  },
  "language_info": {
   "codemirror_mode": {
    "name": "ipython",
    "version": 3
   },
   "file_extension": ".py",
   "mimetype": "text/x-python",
   "name": "python",
   "nbconvert_exporter": "python",
   "pygments_lexer": "ipython3",
   "version": "3.9.7"
  }
 },
 "nbformat": 4,
 "nbformat_minor": 5
}
