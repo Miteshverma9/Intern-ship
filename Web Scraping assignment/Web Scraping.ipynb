{
 "cells": [
  {
   "cell_type": "code",
   "execution_count": null,
   "id": "29c63323",
   "metadata": {},
   "outputs": [],
   "source": [
    "'''1.Write a python program to display all the header tags from wikipedia.org.'''"
   ]
  },
  {
   "cell_type": "code",
   "execution_count": 400,
   "id": "1453a7ed",
   "metadata": {},
   "outputs": [],
   "source": [
    "from bs4 import BeautifulSoup\n",
    "import requests\n",
    "import pandas as pd"
   ]
  },
  {
   "cell_type": "code",
   "execution_count": 401,
   "id": "8b92c942",
   "metadata": {},
   "outputs": [
    {
     "data": {
      "text/plain": [
       "<Response [200]>"
      ]
     },
     "execution_count": 401,
     "metadata": {},
     "output_type": "execute_result"
    }
   ],
   "source": [
    "wiki = requests.get('https://en.wikipedia.org/wiki/Main_Page')\n",
    "wiki"
   ]
  },
  {
   "cell_type": "code",
   "execution_count": 402,
   "id": "1fa5c8cc",
   "metadata": {},
   "outputs": [],
   "source": [
    "con = BeautifulSoup(wiki.content)"
   ]
  },
  {
   "cell_type": "code",
   "execution_count": 403,
   "id": "575ae877",
   "metadata": {},
   "outputs": [],
   "source": [
    "head = []\n",
    "for i in con.find_all('span',class_=\"mw-headline\"):\n",
    "    head.append(i.text)"
   ]
  },
  {
   "cell_type": "code",
   "execution_count": 404,
   "id": "ba7d30ac",
   "metadata": {},
   "outputs": [
    {
     "data": {
      "text/html": [
       "<div>\n",
       "<style scoped>\n",
       "    .dataframe tbody tr th:only-of-type {\n",
       "        vertical-align: middle;\n",
       "    }\n",
       "\n",
       "    .dataframe tbody tr th {\n",
       "        vertical-align: top;\n",
       "    }\n",
       "\n",
       "    .dataframe thead th {\n",
       "        text-align: right;\n",
       "    }\n",
       "</style>\n",
       "<table border=\"1\" class=\"dataframe\">\n",
       "  <thead>\n",
       "    <tr style=\"text-align: right;\">\n",
       "      <th></th>\n",
       "      <th>Header Tags/Headlines</th>\n",
       "    </tr>\n",
       "  </thead>\n",
       "  <tbody>\n",
       "    <tr>\n",
       "      <th>0</th>\n",
       "      <td>Welcome to Wikipedia</td>\n",
       "    </tr>\n",
       "    <tr>\n",
       "      <th>1</th>\n",
       "      <td>From today's featured article</td>\n",
       "    </tr>\n",
       "    <tr>\n",
       "      <th>2</th>\n",
       "      <td>Did you know ...</td>\n",
       "    </tr>\n",
       "    <tr>\n",
       "      <th>3</th>\n",
       "      <td>In the news</td>\n",
       "    </tr>\n",
       "    <tr>\n",
       "      <th>4</th>\n",
       "      <td>On this day</td>\n",
       "    </tr>\n",
       "    <tr>\n",
       "      <th>5</th>\n",
       "      <td>Today's featured picture</td>\n",
       "    </tr>\n",
       "    <tr>\n",
       "      <th>6</th>\n",
       "      <td>Other areas of Wikipedia</td>\n",
       "    </tr>\n",
       "    <tr>\n",
       "      <th>7</th>\n",
       "      <td>Wikipedia's sister projects</td>\n",
       "    </tr>\n",
       "    <tr>\n",
       "      <th>8</th>\n",
       "      <td>Wikipedia languages</td>\n",
       "    </tr>\n",
       "  </tbody>\n",
       "</table>\n",
       "</div>"
      ],
      "text/plain": [
       "           Header Tags/Headlines\n",
       "0           Welcome to Wikipedia\n",
       "1  From today's featured article\n",
       "2               Did you know ...\n",
       "3                    In the news\n",
       "4                    On this day\n",
       "5       Today's featured picture\n",
       "6       Other areas of Wikipedia\n",
       "7    Wikipedia's sister projects\n",
       "8            Wikipedia languages"
      ]
     },
     "execution_count": 404,
     "metadata": {},
     "output_type": "execute_result"
    }
   ],
   "source": [
    "header = pd.DataFrame({'Header Tags/Headlines':head})\n",
    "header"
   ]
  },
  {
   "cell_type": "code",
   "execution_count": null,
   "id": "0cc88e94",
   "metadata": {},
   "outputs": [],
   "source": [
    "'''2.Write a python program to display IMDB’s Top rated 100 movies’ data (i.e. name, rating, year of release)\n",
    "and make data frame.'''"
   ]
  },
  {
   "cell_type": "code",
   "execution_count": 405,
   "id": "5f9d5d8d",
   "metadata": {},
   "outputs": [
    {
     "data": {
      "text/plain": [
       "<Response [200]>"
      ]
     },
     "execution_count": 405,
     "metadata": {},
     "output_type": "execute_result"
    }
   ],
   "source": [
    "page = requests.get('https://www.imdb.com/search/title/?groups=top_100&sort=user_rating,desc')\n",
    "page"
   ]
  },
  {
   "cell_type": "code",
   "execution_count": 406,
   "id": "4a03c2f7",
   "metadata": {},
   "outputs": [],
   "source": [
    "con = BeautifulSoup(page.content)"
   ]
  },
  {
   "cell_type": "code",
   "execution_count": 407,
   "id": "24557b0c",
   "metadata": {},
   "outputs": [],
   "source": [
    "name = []\n",
    "for i in con.find_all('h3',class_= \"lister-item-header\"):\n",
    "    name.append(i.text.replace('\\n','').split('.')[1].split('(')[0])"
   ]
  },
  {
   "cell_type": "code",
   "execution_count": 408,
   "id": "4a2106b5",
   "metadata": {},
   "outputs": [],
   "source": [
    "year = []\n",
    "for i in con.find_all('span',class_=\"lister-item-year text-muted unbold\"):\n",
    "    year.append(i.text.replace('(','').replace(')',''))"
   ]
  },
  {
   "cell_type": "code",
   "execution_count": 409,
   "id": "46ef60ed",
   "metadata": {},
   "outputs": [],
   "source": [
    "rating = []\n",
    "for i in con.find_all('div', class_ = \"inline-block ratings-imdb-rating\"):\n",
    "    rating.append(i.text.replace('\\n',''))"
   ]
  },
  {
   "cell_type": "code",
   "execution_count": 410,
   "id": "14111740",
   "metadata": {},
   "outputs": [],
   "source": [
    "data = pd.DataFrame({'Name':name, 'Year of Release':year, 'Rating':rating})"
   ]
  },
  {
   "cell_type": "code",
   "execution_count": 411,
   "id": "1558155b",
   "metadata": {},
   "outputs": [
    {
     "data": {
      "text/plain": [
       "<Response [200]>"
      ]
     },
     "execution_count": 411,
     "metadata": {},
     "output_type": "execute_result"
    }
   ],
   "source": [
    "page2 = requests.get('https://www.imdb.com/search/title/?groups=top_100&sort=user_rating,desc&start=51&ref_=adv_nxt')\n",
    "page2"
   ]
  },
  {
   "cell_type": "code",
   "execution_count": 412,
   "id": "7b0706a8",
   "metadata": {},
   "outputs": [],
   "source": [
    "con1 = BeautifulSoup(page2.content)"
   ]
  },
  {
   "cell_type": "code",
   "execution_count": 413,
   "id": "8bb47c61",
   "metadata": {},
   "outputs": [],
   "source": [
    "name = []\n",
    "for i in con1.find_all('h3',class_= \"lister-item-header\"):\n",
    "    name.append(i.text.replace('\\n','').split('.')[1].split('(')[0])"
   ]
  },
  {
   "cell_type": "code",
   "execution_count": 414,
   "id": "9a1bd46a",
   "metadata": {},
   "outputs": [],
   "source": [
    "year = []\n",
    "for i in con1.find_all('span',class_=\"lister-item-year text-muted unbold\"):\n",
    "    year.append(i.text.replace('(','').replace(')',''))"
   ]
  },
  {
   "cell_type": "code",
   "execution_count": 415,
   "id": "b940b22e",
   "metadata": {},
   "outputs": [],
   "source": [
    "rating = []\n",
    "for i in con1.find_all('div', class_ = \"inline-block ratings-imdb-rating\"):\n",
    "    rating.append(i.text.replace('\\n',''))"
   ]
  },
  {
   "cell_type": "code",
   "execution_count": 416,
   "id": "2a7182ad",
   "metadata": {},
   "outputs": [],
   "source": [
    "data1 = pd.DataFrame({'Name':name, 'Year of Release':year, 'Rating':rating})"
   ]
  },
  {
   "cell_type": "code",
   "execution_count": 954,
   "id": "c9dc4c55",
   "metadata": {},
   "outputs": [],
   "source": [
    "main = pd.concat([data,data1],axis = 0)"
   ]
  },
  {
   "cell_type": "code",
   "execution_count": 953,
   "id": "a731ece4",
   "metadata": {},
   "outputs": [
    {
     "data": {
      "text/html": [
       "<div>\n",
       "<style scoped>\n",
       "    .dataframe tbody tr th:only-of-type {\n",
       "        vertical-align: middle;\n",
       "    }\n",
       "\n",
       "    .dataframe tbody tr th {\n",
       "        vertical-align: top;\n",
       "    }\n",
       "\n",
       "    .dataframe thead th {\n",
       "        text-align: right;\n",
       "    }\n",
       "</style>\n",
       "<table border=\"1\" class=\"dataframe\">\n",
       "  <thead>\n",
       "    <tr style=\"text-align: right;\">\n",
       "      <th></th>\n",
       "      <th>index</th>\n",
       "      <th>Name</th>\n",
       "      <th>Year of Release</th>\n",
       "      <th>Rating</th>\n",
       "    </tr>\n",
       "  </thead>\n",
       "  <tbody>\n",
       "    <tr>\n",
       "      <th>0</th>\n",
       "      <td>0</td>\n",
       "      <td>The Shawshank Redemption</td>\n",
       "      <td>1994</td>\n",
       "      <td>9.3</td>\n",
       "    </tr>\n",
       "    <tr>\n",
       "      <th>1</th>\n",
       "      <td>1</td>\n",
       "      <td>The Godfather</td>\n",
       "      <td>1972</td>\n",
       "      <td>9.2</td>\n",
       "    </tr>\n",
       "    <tr>\n",
       "      <th>2</th>\n",
       "      <td>2</td>\n",
       "      <td>The Dark Knight</td>\n",
       "      <td>2008</td>\n",
       "      <td>9.0</td>\n",
       "    </tr>\n",
       "    <tr>\n",
       "      <th>3</th>\n",
       "      <td>3</td>\n",
       "      <td>The Lord of the Rings: The Return of the King</td>\n",
       "      <td>2003</td>\n",
       "      <td>9.0</td>\n",
       "    </tr>\n",
       "    <tr>\n",
       "      <th>4</th>\n",
       "      <td>4</td>\n",
       "      <td>Schindler's List</td>\n",
       "      <td>1993</td>\n",
       "      <td>9.0</td>\n",
       "    </tr>\n",
       "    <tr>\n",
       "      <th>...</th>\n",
       "      <td>...</td>\n",
       "      <td>...</td>\n",
       "      <td>...</td>\n",
       "      <td>...</td>\n",
       "    </tr>\n",
       "    <tr>\n",
       "      <th>95</th>\n",
       "      <td>45</td>\n",
       "      <td>North by Northwest</td>\n",
       "      <td>1959</td>\n",
       "      <td>8.3</td>\n",
       "    </tr>\n",
       "    <tr>\n",
       "      <th>96</th>\n",
       "      <td>46</td>\n",
       "      <td>Vertigo</td>\n",
       "      <td>1958</td>\n",
       "      <td>8.3</td>\n",
       "    </tr>\n",
       "    <tr>\n",
       "      <th>97</th>\n",
       "      <td>47</td>\n",
       "      <td>Singin' in the Rain</td>\n",
       "      <td>1952</td>\n",
       "      <td>8.3</td>\n",
       "    </tr>\n",
       "    <tr>\n",
       "      <th>98</th>\n",
       "      <td>48</td>\n",
       "      <td>Citizen Kane</td>\n",
       "      <td>1941</td>\n",
       "      <td>8.3</td>\n",
       "    </tr>\n",
       "    <tr>\n",
       "      <th>99</th>\n",
       "      <td>49</td>\n",
       "      <td>M - Eine Stadt sucht einen Mörder</td>\n",
       "      <td>1931</td>\n",
       "      <td>8.3</td>\n",
       "    </tr>\n",
       "  </tbody>\n",
       "</table>\n",
       "<p>100 rows × 4 columns</p>\n",
       "</div>"
      ],
      "text/plain": [
       "    index                                           Name Year of Release  \\\n",
       "0       0                       The Shawshank Redemption            1994   \n",
       "1       1                                  The Godfather            1972   \n",
       "2       2                                The Dark Knight            2008   \n",
       "3       3  The Lord of the Rings: The Return of the King            2003   \n",
       "4       4                               Schindler's List            1993   \n",
       "..    ...                                            ...             ...   \n",
       "95     45                             North by Northwest            1959   \n",
       "96     46                                        Vertigo            1958   \n",
       "97     47                            Singin' in the Rain            1952   \n",
       "98     48                                   Citizen Kane            1941   \n",
       "99     49              M - Eine Stadt sucht einen Mörder            1931   \n",
       "\n",
       "   Rating  \n",
       "0     9.3  \n",
       "1     9.2  \n",
       "2     9.0  \n",
       "3     9.0  \n",
       "4     9.0  \n",
       "..    ...  \n",
       "95    8.3  \n",
       "96    8.3  \n",
       "97    8.3  \n",
       "98    8.3  \n",
       "99    8.3  \n",
       "\n",
       "[100 rows x 4 columns]"
      ]
     },
     "execution_count": 953,
     "metadata": {},
     "output_type": "execute_result"
    }
   ],
   "source": [
    "main.reset_index()"
   ]
  },
  {
   "cell_type": "code",
   "execution_count": null,
   "id": "c56a4eb9",
   "metadata": {},
   "outputs": [],
   "source": [
    "'''3.Write a python program to display IMDB’s Top rated 100 Indian movies’ data (i.e. name, rating, year of\n",
    "release) and make data frame.'''"
   ]
  },
  {
   "cell_type": "code",
   "execution_count": 418,
   "id": "d7f30730",
   "metadata": {},
   "outputs": [
    {
     "data": {
      "text/plain": [
       "<Response [200]>"
      ]
     },
     "execution_count": 418,
     "metadata": {},
     "output_type": "execute_result"
    }
   ],
   "source": [
    "hindi = requests.get('https://www.imdb.com/list/ls009997493/')\n",
    "hindi"
   ]
  },
  {
   "cell_type": "code",
   "execution_count": 419,
   "id": "b96e00f3",
   "metadata": {},
   "outputs": [],
   "source": [
    "conn = BeautifulSoup(hindi.content)"
   ]
  },
  {
   "cell_type": "code",
   "execution_count": 420,
   "id": "6762f66a",
   "metadata": {},
   "outputs": [],
   "source": [
    "name = []\n",
    "for i in conn.find_all('h3',class_=\"lister-item-header\"):\n",
    "    name.append(i.text.replace('\\n','').split('.')[1].split('(')[0])"
   ]
  },
  {
   "cell_type": "code",
   "execution_count": 421,
   "id": "3b499499",
   "metadata": {},
   "outputs": [],
   "source": [
    "rate = []\n",
    "for i in conn.find_all('div',class_='ipl-rating-star small'):\n",
    "    rate.append(i.text.replace('\\n',''))"
   ]
  },
  {
   "cell_type": "code",
   "execution_count": 422,
   "id": "e160fefc",
   "metadata": {},
   "outputs": [],
   "source": [
    "year = []\n",
    "for i in conn.find_all('span', class_ = 'lister-item-year text-muted unbold'):\n",
    "    year.append(i.text.replace('(','').replace(')',''))"
   ]
  },
  {
   "cell_type": "code",
   "execution_count": 423,
   "id": "57ae1f5e",
   "metadata": {},
   "outputs": [
    {
     "name": "stdout",
     "output_type": "stream",
     "text": [
      "100 Top Rated IBDM Hindi Movies\n"
     ]
    },
    {
     "data": {
      "text/html": [
       "<div>\n",
       "<style scoped>\n",
       "    .dataframe tbody tr th:only-of-type {\n",
       "        vertical-align: middle;\n",
       "    }\n",
       "\n",
       "    .dataframe tbody tr th {\n",
       "        vertical-align: top;\n",
       "    }\n",
       "\n",
       "    .dataframe thead th {\n",
       "        text-align: right;\n",
       "    }\n",
       "</style>\n",
       "<table border=\"1\" class=\"dataframe\">\n",
       "  <thead>\n",
       "    <tr style=\"text-align: right;\">\n",
       "      <th></th>\n",
       "      <th>Name</th>\n",
       "      <th>Year</th>\n",
       "      <th>Rating</th>\n",
       "    </tr>\n",
       "  </thead>\n",
       "  <tbody>\n",
       "    <tr>\n",
       "      <th>0</th>\n",
       "      <td>Rang De Basanti</td>\n",
       "      <td>2006</td>\n",
       "      <td>8.1</td>\n",
       "    </tr>\n",
       "    <tr>\n",
       "      <th>1</th>\n",
       "      <td>3 Idiots</td>\n",
       "      <td>2009</td>\n",
       "      <td>8.4</td>\n",
       "    </tr>\n",
       "    <tr>\n",
       "      <th>2</th>\n",
       "      <td>Taare Zameen Par</td>\n",
       "      <td>2007</td>\n",
       "      <td>8.3</td>\n",
       "    </tr>\n",
       "    <tr>\n",
       "      <th>3</th>\n",
       "      <td>Dil Chahta Hai</td>\n",
       "      <td>2001</td>\n",
       "      <td>8.1</td>\n",
       "    </tr>\n",
       "    <tr>\n",
       "      <th>4</th>\n",
       "      <td>Swades: We, the People</td>\n",
       "      <td>2004</td>\n",
       "      <td>8.1</td>\n",
       "    </tr>\n",
       "    <tr>\n",
       "      <th>...</th>\n",
       "      <td>...</td>\n",
       "      <td>...</td>\n",
       "      <td>...</td>\n",
       "    </tr>\n",
       "    <tr>\n",
       "      <th>95</th>\n",
       "      <td>Wake Up Sid</td>\n",
       "      <td>2009</td>\n",
       "      <td>7.6</td>\n",
       "    </tr>\n",
       "    <tr>\n",
       "      <th>96</th>\n",
       "      <td>Rangeela</td>\n",
       "      <td>1995</td>\n",
       "      <td>7.4</td>\n",
       "    </tr>\n",
       "    <tr>\n",
       "      <th>97</th>\n",
       "      <td>Shatranj Ke Khilari</td>\n",
       "      <td>1977</td>\n",
       "      <td>7.5</td>\n",
       "    </tr>\n",
       "    <tr>\n",
       "      <th>98</th>\n",
       "      <td>Pyaar Ka Punchnama</td>\n",
       "      <td>2011</td>\n",
       "      <td>7.6</td>\n",
       "    </tr>\n",
       "    <tr>\n",
       "      <th>99</th>\n",
       "      <td>Ek Hasina Thi</td>\n",
       "      <td>2004</td>\n",
       "      <td>7.5</td>\n",
       "    </tr>\n",
       "  </tbody>\n",
       "</table>\n",
       "<p>100 rows × 3 columns</p>\n",
       "</div>"
      ],
      "text/plain": [
       "                      Name  Year Rating\n",
       "0          Rang De Basanti  2006    8.1\n",
       "1                 3 Idiots  2009    8.4\n",
       "2         Taare Zameen Par  2007    8.3\n",
       "3           Dil Chahta Hai  2001    8.1\n",
       "4   Swades: We, the People  2004    8.1\n",
       "..                     ...   ...    ...\n",
       "95             Wake Up Sid  2009    7.6\n",
       "96                Rangeela  1995    7.4\n",
       "97     Shatranj Ke Khilari  1977    7.5\n",
       "98      Pyaar Ka Punchnama  2011    7.6\n",
       "99           Ek Hasina Thi  2004    7.5\n",
       "\n",
       "[100 rows x 3 columns]"
      ]
     },
     "execution_count": 423,
     "metadata": {},
     "output_type": "execute_result"
    }
   ],
   "source": [
    "data_hi = pd.DataFrame({'Name':name, 'Year':year, 'Rating':rate})\n",
    "print('100 Top Rated IBDM Hindi Movies')\n",
    "data_hi"
   ]
  },
  {
   "cell_type": "code",
   "execution_count": null,
   "id": "713a9161",
   "metadata": {},
   "outputs": [],
   "source": [
    "'''4.Write s python program to display list of respected former presidents of India(i.e. Name , Term of office)\n",
    "from https://presidentofindia.nic.in/former-presidents.htm\n",
    "'''"
   ]
  },
  {
   "cell_type": "code",
   "execution_count": 424,
   "id": "7c479173",
   "metadata": {},
   "outputs": [
    {
     "data": {
      "text/plain": [
       "<Response [200]>"
      ]
     },
     "execution_count": 424,
     "metadata": {},
     "output_type": "execute_result"
    }
   ],
   "source": [
    "pre = requests.get('https://presidentofindia.nic.in/former-presidents.htm')\n",
    "pre"
   ]
  },
  {
   "cell_type": "code",
   "execution_count": 425,
   "id": "d3f5ea0d",
   "metadata": {},
   "outputs": [],
   "source": [
    "conn = BeautifulSoup(pre.content)"
   ]
  },
  {
   "cell_type": "code",
   "execution_count": 426,
   "id": "ce10015d",
   "metadata": {},
   "outputs": [],
   "source": [
    "name = []\n",
    "for i in conn.find_all('h3'):\n",
    "    name.append(i.text)"
   ]
  },
  {
   "cell_type": "code",
   "execution_count": 427,
   "id": "b4c30944",
   "metadata": {},
   "outputs": [],
   "source": [
    "import re\n",
    "of = []\n",
    "for i in conn.find_all('div',class_=\"presidentListing\"):\n",
    "    x = i.text.replace('\\n','').split(')')[1].replace('Term of Office:','')\n",
    "    y = re.sub(r\"http\\S+\", \"\", x)\n",
    "    of.append(y)"
   ]
  },
  {
   "cell_type": "code",
   "execution_count": 428,
   "id": "aa0d08a0",
   "metadata": {},
   "outputs": [
    {
     "name": "stdout",
     "output_type": "stream",
     "text": [
      "Former Presidents List\n"
     ]
    },
    {
     "data": {
      "text/html": [
       "<div>\n",
       "<style scoped>\n",
       "    .dataframe tbody tr th:only-of-type {\n",
       "        vertical-align: middle;\n",
       "    }\n",
       "\n",
       "    .dataframe tbody tr th {\n",
       "        vertical-align: top;\n",
       "    }\n",
       "\n",
       "    .dataframe thead th {\n",
       "        text-align: right;\n",
       "    }\n",
       "</style>\n",
       "<table border=\"1\" class=\"dataframe\">\n",
       "  <thead>\n",
       "    <tr style=\"text-align: right;\">\n",
       "      <th></th>\n",
       "      <th>Former Presidents</th>\n",
       "      <th>Term of Office</th>\n",
       "    </tr>\n",
       "  </thead>\n",
       "  <tbody>\n",
       "    <tr>\n",
       "      <th>0</th>\n",
       "      <td>Shri Pranab Mukherjee (1935-2020)</td>\n",
       "      <td>25 July, 2012 to 25 July, 2017</td>\n",
       "    </tr>\n",
       "    <tr>\n",
       "      <th>1</th>\n",
       "      <td>Smt Pratibha Devisingh Patil (birth - 1934)</td>\n",
       "      <td>25 July, 2007 to 25 July, 2012</td>\n",
       "    </tr>\n",
       "    <tr>\n",
       "      <th>2</th>\n",
       "      <td>DR. A.P.J. Abdul Kalam (1931-2015)</td>\n",
       "      <td>25 July, 2002 to 25 July, 2007</td>\n",
       "    </tr>\n",
       "    <tr>\n",
       "      <th>3</th>\n",
       "      <td>Shri K. R. Narayanan (1920 - 2005)</td>\n",
       "      <td>25 July, 1997 to 25 July, 2002</td>\n",
       "    </tr>\n",
       "    <tr>\n",
       "      <th>4</th>\n",
       "      <td>Dr Shankar Dayal Sharma (1918-1999)</td>\n",
       "      <td>25 July, 1992 to 25 July, 1997</td>\n",
       "    </tr>\n",
       "    <tr>\n",
       "      <th>5</th>\n",
       "      <td>Shri R Venkataraman (1910-2009)</td>\n",
       "      <td>25 July, 1987 to 25 July, 1992</td>\n",
       "    </tr>\n",
       "    <tr>\n",
       "      <th>6</th>\n",
       "      <td>Giani Zail Singh (1916-1994)</td>\n",
       "      <td>25 July, 1982 to 25 July, 1987</td>\n",
       "    </tr>\n",
       "    <tr>\n",
       "      <th>7</th>\n",
       "      <td>Shri Neelam Sanjiva Reddy (1913-1996)</td>\n",
       "      <td>25 July, 1977 to 25 July, 1982</td>\n",
       "    </tr>\n",
       "    <tr>\n",
       "      <th>8</th>\n",
       "      <td>Dr. Fakhruddin Ali Ahmed (1905-1977)</td>\n",
       "      <td>24 August, 1974 to 11 February, 1977</td>\n",
       "    </tr>\n",
       "    <tr>\n",
       "      <th>9</th>\n",
       "      <td>Shri Varahagiri Venkata Giri (1894-1980)</td>\n",
       "      <td>3 May, 1969 to 20 July, 1969 and 24 August, 1...</td>\n",
       "    </tr>\n",
       "    <tr>\n",
       "      <th>10</th>\n",
       "      <td>Dr. Zakir Husain (1897-1969)</td>\n",
       "      <td>13 May, 1967 to 3 May, 1969</td>\n",
       "    </tr>\n",
       "    <tr>\n",
       "      <th>11</th>\n",
       "      <td>Dr. Sarvepalli Radhakrishnan (1888-1975)</td>\n",
       "      <td>13 May, 1962 to 13 May, 1967</td>\n",
       "    </tr>\n",
       "    <tr>\n",
       "      <th>12</th>\n",
       "      <td>Dr. Rajendra Prasad (1884-1963)</td>\n",
       "      <td>26 January, 1950 to 13 May, 1962</td>\n",
       "    </tr>\n",
       "  </tbody>\n",
       "</table>\n",
       "</div>"
      ],
      "text/plain": [
       "                              Former Presidents  \\\n",
       "0             Shri Pranab Mukherjee (1935-2020)   \n",
       "1   Smt Pratibha Devisingh Patil (birth - 1934)   \n",
       "2            DR. A.P.J. Abdul Kalam (1931-2015)   \n",
       "3            Shri K. R. Narayanan (1920 - 2005)   \n",
       "4           Dr Shankar Dayal Sharma (1918-1999)   \n",
       "5               Shri R Venkataraman (1910-2009)   \n",
       "6                  Giani Zail Singh (1916-1994)   \n",
       "7         Shri Neelam Sanjiva Reddy (1913-1996)   \n",
       "8          Dr. Fakhruddin Ali Ahmed (1905-1977)   \n",
       "9      Shri Varahagiri Venkata Giri (1894-1980)   \n",
       "10                 Dr. Zakir Husain (1897-1969)   \n",
       "11     Dr. Sarvepalli Radhakrishnan (1888-1975)   \n",
       "12             Dr. Rajendra Prasad (1884-1963)    \n",
       "\n",
       "                                       Term of Office  \n",
       "0                     25 July, 2012 to 25 July, 2017   \n",
       "1                     25 July, 2007 to 25 July, 2012   \n",
       "2                     25 July, 2002 to 25 July, 2007   \n",
       "3                     25 July, 1997 to 25 July, 2002   \n",
       "4                     25 July, 1992 to 25 July, 1997   \n",
       "5                     25 July, 1987 to 25 July, 1992   \n",
       "6                     25 July, 1982 to 25 July, 1987   \n",
       "7                     25 July, 1977 to 25 July, 1982   \n",
       "8                24 August, 1974 to 11 February, 1977  \n",
       "9    3 May, 1969 to 20 July, 1969 and 24 August, 1...  \n",
       "10                        13 May, 1967 to 3 May, 1969  \n",
       "11                       13 May, 1962 to 13 May, 1967  \n",
       "12                   26 January, 1950 to 13 May, 1962  "
      ]
     },
     "execution_count": 428,
     "metadata": {},
     "output_type": "execute_result"
    }
   ],
   "source": [
    "presi = pd.DataFrame({'Former Presidents':name, 'Term of Office':of})\n",
    "print('Former Presidents List')\n",
    "presi"
   ]
  },
  {
   "cell_type": "code",
   "execution_count": 253,
   "id": "fbe63536",
   "metadata": {},
   "outputs": [],
   "source": [
    "'''5.Write a python program to scrape cricket rankings from icc-cricket.com. You have to scrape:\n",
    "a) Top 10 ODI teams in men’s cricket along with the records for matches, points and rating.\n",
    "b) Top 10 ODI Batsmen along with the records of their team and rating.\n",
    "c) Top 10 ODI bowlers along with the records of their team and rating.'''"
   ]
  },
  {
   "cell_type": "code",
   "execution_count": 894,
   "id": "98dda5f7",
   "metadata": {},
   "outputs": [
    {
     "data": {
      "text/plain": [
       "<Response [200]>"
      ]
     },
     "execution_count": 894,
     "metadata": {},
     "output_type": "execute_result"
    }
   ],
   "source": [
    "#a) Top 10 ODI teams in men’s cricket along with the records for matches, points and rating.\n",
    "cri = requests.get('https://www.icc-cricket.com/rankings/mens/team-rankings/odi')\n",
    "cri"
   ]
  },
  {
   "cell_type": "code",
   "execution_count": 895,
   "id": "de3a7256",
   "metadata": {},
   "outputs": [],
   "source": [
    "conn = BeautifulSoup(cri.content)"
   ]
  },
  {
   "cell_type": "code",
   "execution_count": 896,
   "id": "4b376d47",
   "metadata": {},
   "outputs": [],
   "source": [
    "team = []\n",
    "for i in conn.find_all('span',class_=\"u-hide-phablet\"):\n",
    "    team.append(i.text)\n",
    "del team[10:]"
   ]
  },
  {
   "cell_type": "code",
   "execution_count": 897,
   "id": "28612b6e",
   "metadata": {},
   "outputs": [],
   "source": [
    "rate = []\n",
    "for i in conn.find_all('td',class_=\"table-body__cell u-text-right rating\"):\n",
    "    rate.append(i.text)\n",
    "rate.insert(0,'125')\n",
    "del rate[10:]"
   ]
  },
  {
   "cell_type": "code",
   "execution_count": 898,
   "id": "07ab3df0",
   "metadata": {},
   "outputs": [],
   "source": [
    "match = []\n",
    "for i in conn.find_all('tr',class_=\"table-body\"):\n",
    "    match.append(i.text.split()[-3])\n",
    "match.insert(0,'12')\n",
    "del match[10:]"
   ]
  },
  {
   "cell_type": "code",
   "execution_count": 899,
   "id": "2439a81f",
   "metadata": {},
   "outputs": [],
   "source": [
    "point = []\n",
    "for i in conn.find_all('tr',class_=\"table-body\"):\n",
    "    point.append(i.text.split()[-2])\n",
    "point.insert(0,'1505')\n",
    "del point[10:]"
   ]
  },
  {
   "cell_type": "code",
   "execution_count": 906,
   "id": "571b8f8f",
   "metadata": {},
   "outputs": [
    {
     "name": "stdout",
     "output_type": "stream",
     "text": [
      "\tTop 10 ODI Teams \t\n",
      "------------------------------\n"
     ]
    },
    {
     "data": {
      "text/html": [
       "<div>\n",
       "<style scoped>\n",
       "    .dataframe tbody tr th:only-of-type {\n",
       "        vertical-align: middle;\n",
       "    }\n",
       "\n",
       "    .dataframe tbody tr th {\n",
       "        vertical-align: top;\n",
       "    }\n",
       "\n",
       "    .dataframe thead th {\n",
       "        text-align: right;\n",
       "    }\n",
       "</style>\n",
       "<table border=\"1\" class=\"dataframe\">\n",
       "  <thead>\n",
       "    <tr style=\"text-align: right;\">\n",
       "      <th></th>\n",
       "      <th>Team Name</th>\n",
       "      <th>Matches</th>\n",
       "      <th>Points</th>\n",
       "      <th>Rating</th>\n",
       "    </tr>\n",
       "  </thead>\n",
       "  <tbody>\n",
       "    <tr>\n",
       "      <th>0</th>\n",
       "      <td>New Zealand</td>\n",
       "      <td>12</td>\n",
       "      <td>1505</td>\n",
       "      <td>125</td>\n",
       "    </tr>\n",
       "    <tr>\n",
       "      <th>1</th>\n",
       "      <td>England</td>\n",
       "      <td>21</td>\n",
       "      <td>2,621</td>\n",
       "      <td>125</td>\n",
       "    </tr>\n",
       "    <tr>\n",
       "      <th>2</th>\n",
       "      <td>Pakistan</td>\n",
       "      <td>19</td>\n",
       "      <td>2,005</td>\n",
       "      <td>106</td>\n",
       "    </tr>\n",
       "    <tr>\n",
       "      <th>3</th>\n",
       "      <td>India</td>\n",
       "      <td>22</td>\n",
       "      <td>2,304</td>\n",
       "      <td>105</td>\n",
       "    </tr>\n",
       "    <tr>\n",
       "      <th>4</th>\n",
       "      <td>Australia</td>\n",
       "      <td>22</td>\n",
       "      <td>2,182</td>\n",
       "      <td>99</td>\n",
       "    </tr>\n",
       "    <tr>\n",
       "      <th>5</th>\n",
       "      <td>South Africa</td>\n",
       "      <td>19</td>\n",
       "      <td>1,872</td>\n",
       "      <td>99</td>\n",
       "    </tr>\n",
       "    <tr>\n",
       "      <th>6</th>\n",
       "      <td>Bangladesh</td>\n",
       "      <td>24</td>\n",
       "      <td>2,275</td>\n",
       "      <td>95</td>\n",
       "    </tr>\n",
       "    <tr>\n",
       "      <th>7</th>\n",
       "      <td>Sri Lanka</td>\n",
       "      <td>28</td>\n",
       "      <td>2,609</td>\n",
       "      <td>93</td>\n",
       "    </tr>\n",
       "    <tr>\n",
       "      <th>8</th>\n",
       "      <td>West Indies</td>\n",
       "      <td>32</td>\n",
       "      <td>2,306</td>\n",
       "      <td>72</td>\n",
       "    </tr>\n",
       "    <tr>\n",
       "      <th>9</th>\n",
       "      <td>Afghanistan</td>\n",
       "      <td>18</td>\n",
       "      <td>1,238</td>\n",
       "      <td>69</td>\n",
       "    </tr>\n",
       "  </tbody>\n",
       "</table>\n",
       "</div>"
      ],
      "text/plain": [
       "      Team Name Matches Points Rating\n",
       "0   New Zealand      12   1505    125\n",
       "1       England      21  2,621    125\n",
       "2      Pakistan      19  2,005    106\n",
       "3         India      22  2,304    105\n",
       "4     Australia      22  2,182     99\n",
       "5  South Africa      19  1,872     99\n",
       "6    Bangladesh      24  2,275     95\n",
       "7     Sri Lanka      28  2,609     93\n",
       "8   West Indies      32  2,306     72\n",
       "9   Afghanistan      18  1,238     69"
      ]
     },
     "execution_count": 906,
     "metadata": {},
     "output_type": "execute_result"
    }
   ],
   "source": [
    "oditeam = pd.DataFrame({'Team Name':team,'Matches':match, 'Points':point, 'Rating':rate})\n",
    "print('\\tTop 10 ODI Teams \\t')\n",
    "print('-'*30)\n",
    "oditeam"
   ]
  },
  {
   "cell_type": "code",
   "execution_count": 907,
   "id": "7f772653",
   "metadata": {},
   "outputs": [
    {
     "data": {
      "text/plain": [
       "<Response [200]>"
      ]
     },
     "execution_count": 907,
     "metadata": {},
     "output_type": "execute_result"
    }
   ],
   "source": [
    "#b) Top 10 ODI Batsmen along with the records of their team and rating.\n",
    "bat = requests.get('https://www.icc-cricket.com/rankings/mens/player-rankings/odi/batting')\n",
    "bat"
   ]
  },
  {
   "cell_type": "code",
   "execution_count": 908,
   "id": "102795f9",
   "metadata": {},
   "outputs": [],
   "source": [
    "conn = BeautifulSoup(bat.content)"
   ]
  },
  {
   "cell_type": "code",
   "execution_count": 909,
   "id": "0d496aeb",
   "metadata": {},
   "outputs": [
    {
     "data": {
      "text/plain": [
       "'Babar Azam'"
      ]
     },
     "execution_count": 909,
     "metadata": {},
     "output_type": "execute_result"
    }
   ],
   "source": [
    "p = conn.find('td',class_=\"rankings-block__top-player-container\")\n",
    "pl = p.text.replace('\\n','')\n",
    "pl"
   ]
  },
  {
   "cell_type": "code",
   "execution_count": 910,
   "id": "b98cb146",
   "metadata": {},
   "outputs": [
    {
     "data": {
      "text/plain": [
       "'PAK                    '"
      ]
     },
     "execution_count": 910,
     "metadata": {},
     "output_type": "execute_result"
    }
   ],
   "source": [
    "f = conn.find('div',class_=\"rankings-block__banner--nationality\")\n",
    "te = f.text.replace('\\n','')\n",
    "te"
   ]
  },
  {
   "cell_type": "code",
   "execution_count": 911,
   "id": "f910619e",
   "metadata": {},
   "outputs": [
    {
     "data": {
      "text/plain": [
       "'892'"
      ]
     },
     "execution_count": 911,
     "metadata": {},
     "output_type": "execute_result"
    }
   ],
   "source": [
    "r =conn.find('td',class_=\"u-text-left\")\n",
    "po = r.text.replace('\\n','')\n",
    "po"
   ]
  },
  {
   "cell_type": "code",
   "execution_count": 913,
   "id": "135802fa",
   "metadata": {},
   "outputs": [],
   "source": [
    "player = []\n",
    "for i in conn.find_all('td',class_=\"table-body__cell rankings-table__name name\"):\n",
    "    player.append(i.text.replace('\\n',''))"
   ]
  },
  {
   "cell_type": "code",
   "execution_count": 914,
   "id": "bb8abe7f",
   "metadata": {},
   "outputs": [],
   "source": [
    "team = []\n",
    "for i in conn.find_all('span',class_=\"table-body__logo-text\"):\n",
    "    team.append(i.text)"
   ]
  },
  {
   "cell_type": "code",
   "execution_count": 915,
   "id": "2dedec33",
   "metadata": {},
   "outputs": [],
   "source": [
    "point = []\n",
    "for i in conn.find_all('td',class_=\"table-body__cell rating\"):\n",
    "    point.append(i.text)"
   ]
  },
  {
   "cell_type": "code",
   "execution_count": 916,
   "id": "8aa07728",
   "metadata": {},
   "outputs": [],
   "source": [
    "batting = pd.DataFrame({'Player Name':player, 'Team':team, 'Points':point})"
   ]
  },
  {
   "cell_type": "code",
   "execution_count": 917,
   "id": "8e6f9708",
   "metadata": {},
   "outputs": [
    {
     "data": {
      "text/plain": [
       "Player Name                 Babar Azam\n",
       "Team           PAK                    \n",
       "Points                             892\n",
       "dtype: object"
      ]
     },
     "execution_count": 917,
     "metadata": {},
     "output_type": "execute_result"
    }
   ],
   "source": [
    "h = {'Player Name': pl,'Team':te,'Points':po}\n",
    "vr = pd.Series(h)\n",
    "vr"
   ]
  },
  {
   "cell_type": "code",
   "execution_count": 918,
   "id": "d281e5f2",
   "metadata": {},
   "outputs": [],
   "source": [
    "uh = pd.DataFrame([vr], index = [0])\n",
    "batting = pd.concat([uh,batting])"
   ]
  },
  {
   "cell_type": "code",
   "execution_count": 964,
   "id": "8f0be3a7",
   "metadata": {},
   "outputs": [
    {
     "name": "stdout",
     "output_type": "stream",
     "text": [
      "\tTop 10 ODI Batsman \t\n",
      "------------------------------\n"
     ]
    },
    {
     "data": {
      "text/html": [
       "<div>\n",
       "<style scoped>\n",
       "    .dataframe tbody tr th:only-of-type {\n",
       "        vertical-align: middle;\n",
       "    }\n",
       "\n",
       "    .dataframe tbody tr th {\n",
       "        vertical-align: top;\n",
       "    }\n",
       "\n",
       "    .dataframe thead th {\n",
       "        text-align: right;\n",
       "    }\n",
       "</style>\n",
       "<table border=\"1\" class=\"dataframe\">\n",
       "  <thead>\n",
       "    <tr style=\"text-align: right;\">\n",
       "      <th></th>\n",
       "      <th>index</th>\n",
       "      <th>Player Name</th>\n",
       "      <th>Team</th>\n",
       "      <th>Points</th>\n",
       "    </tr>\n",
       "  </thead>\n",
       "  <tbody>\n",
       "    <tr>\n",
       "      <th>0</th>\n",
       "      <td>0</td>\n",
       "      <td>Babar Azam</td>\n",
       "      <td>PAK</td>\n",
       "      <td>892</td>\n",
       "    </tr>\n",
       "    <tr>\n",
       "      <th>1</th>\n",
       "      <td>0</td>\n",
       "      <td>Imam-ul-Haq</td>\n",
       "      <td>PAK</td>\n",
       "      <td>815</td>\n",
       "    </tr>\n",
       "    <tr>\n",
       "      <th>2</th>\n",
       "      <td>1</td>\n",
       "      <td>Virat Kohli</td>\n",
       "      <td>IND</td>\n",
       "      <td>811</td>\n",
       "    </tr>\n",
       "    <tr>\n",
       "      <th>3</th>\n",
       "      <td>2</td>\n",
       "      <td>Rohit Sharma</td>\n",
       "      <td>IND</td>\n",
       "      <td>791</td>\n",
       "    </tr>\n",
       "    <tr>\n",
       "      <th>4</th>\n",
       "      <td>3</td>\n",
       "      <td>Quinton de Kock</td>\n",
       "      <td>SA</td>\n",
       "      <td>789</td>\n",
       "    </tr>\n",
       "    <tr>\n",
       "      <th>5</th>\n",
       "      <td>4</td>\n",
       "      <td>Ross Taylor</td>\n",
       "      <td>NZ</td>\n",
       "      <td>775</td>\n",
       "    </tr>\n",
       "    <tr>\n",
       "      <th>6</th>\n",
       "      <td>5</td>\n",
       "      <td>Rassie van der Dussen</td>\n",
       "      <td>SA</td>\n",
       "      <td>769</td>\n",
       "    </tr>\n",
       "    <tr>\n",
       "      <th>7</th>\n",
       "      <td>6</td>\n",
       "      <td>Jonny Bairstow</td>\n",
       "      <td>ENG</td>\n",
       "      <td>760</td>\n",
       "    </tr>\n",
       "    <tr>\n",
       "      <th>8</th>\n",
       "      <td>7</td>\n",
       "      <td>David Warner</td>\n",
       "      <td>AUS</td>\n",
       "      <td>745</td>\n",
       "    </tr>\n",
       "    <tr>\n",
       "      <th>9</th>\n",
       "      <td>8</td>\n",
       "      <td>Aaron Finch</td>\n",
       "      <td>AUS</td>\n",
       "      <td>727</td>\n",
       "    </tr>\n",
       "  </tbody>\n",
       "</table>\n",
       "</div>"
      ],
      "text/plain": [
       "   index            Player Name                     Team Points\n",
       "0      0             Babar Azam  PAK                        892\n",
       "1      0            Imam-ul-Haq                      PAK    815\n",
       "2      1            Virat Kohli                      IND    811\n",
       "3      2           Rohit Sharma                      IND    791\n",
       "4      3        Quinton de Kock                       SA    789\n",
       "5      4            Ross Taylor                       NZ    775\n",
       "6      5  Rassie van der Dussen                       SA    769\n",
       "7      6         Jonny Bairstow                      ENG    760\n",
       "8      7           David Warner                      AUS    745\n",
       "9      8            Aaron Finch                      AUS    727"
      ]
     },
     "execution_count": 964,
     "metadata": {},
     "output_type": "execute_result"
    }
   ],
   "source": [
    "print('\\tTop 10 ODI Batsman \\t')\n",
    "print('-'*30)\n",
    "batting.reset_index()[0:10]"
   ]
  },
  {
   "cell_type": "code",
   "execution_count": 920,
   "id": "fd39046f",
   "metadata": {},
   "outputs": [
    {
     "data": {
      "text/plain": [
       "<Response [200]>"
      ]
     },
     "execution_count": 920,
     "metadata": {},
     "output_type": "execute_result"
    }
   ],
   "source": [
    "#c) Top 10 ODI bowlers along with the records of their team and rating.\n",
    "bowl = requests.get('https://www.icc-cricket.com/rankings/mens/player-rankings/odi/bowling')\n",
    "bowl"
   ]
  },
  {
   "cell_type": "code",
   "execution_count": 921,
   "id": "bf9c48ed",
   "metadata": {},
   "outputs": [],
   "source": [
    "conn = BeautifulSoup(bowl.content)"
   ]
  },
  {
   "cell_type": "code",
   "execution_count": 922,
   "id": "8e85066d",
   "metadata": {},
   "outputs": [],
   "source": [
    "name = []\n",
    "for i in conn.find_all('td',class_=\"table-body__cell rankings-table__name name\"):\n",
    "    name.append(i.text.replace('\\n',''))\n",
    "name.insert(0,'Trent Boult')"
   ]
  },
  {
   "cell_type": "code",
   "execution_count": 923,
   "id": "35af3e5a",
   "metadata": {},
   "outputs": [],
   "source": [
    "team = []\n",
    "for i in conn.find_all('span',class_=\"table-body__logo-text\"):\n",
    "    team.append(i.text)\n",
    "team.insert(0,'NZ')"
   ]
  },
  {
   "cell_type": "code",
   "execution_count": 924,
   "id": "e5d2b2ad",
   "metadata": {},
   "outputs": [],
   "source": [
    "rat = []\n",
    "for i in conn.find_all('td',class_=\"table-body__cell rating\"):\n",
    "    rat.append(i.text)\n",
    "rat.insert(0,'726')"
   ]
  },
  {
   "cell_type": "code",
   "execution_count": 926,
   "id": "ca4e28e9",
   "metadata": {},
   "outputs": [
    {
     "name": "stdout",
     "output_type": "stream",
     "text": [
      "\tTop 10 ODI Bowler \t\n",
      "------------------------------\n"
     ]
    },
    {
     "data": {
      "text/html": [
       "<div>\n",
       "<style scoped>\n",
       "    .dataframe tbody tr th:only-of-type {\n",
       "        vertical-align: middle;\n",
       "    }\n",
       "\n",
       "    .dataframe tbody tr th {\n",
       "        vertical-align: top;\n",
       "    }\n",
       "\n",
       "    .dataframe thead th {\n",
       "        text-align: right;\n",
       "    }\n",
       "</style>\n",
       "<table border=\"1\" class=\"dataframe\">\n",
       "  <thead>\n",
       "    <tr style=\"text-align: right;\">\n",
       "      <th></th>\n",
       "      <th>Bowler Name</th>\n",
       "      <th>Team</th>\n",
       "      <th>Rating</th>\n",
       "    </tr>\n",
       "  </thead>\n",
       "  <tbody>\n",
       "    <tr>\n",
       "      <th>0</th>\n",
       "      <td>Trent Boult</td>\n",
       "      <td>NZ</td>\n",
       "      <td>726</td>\n",
       "    </tr>\n",
       "    <tr>\n",
       "      <th>1</th>\n",
       "      <td>Chris Woakes</td>\n",
       "      <td>ENG</td>\n",
       "      <td>686</td>\n",
       "    </tr>\n",
       "    <tr>\n",
       "      <th>2</th>\n",
       "      <td>Matt Henry</td>\n",
       "      <td>NZ</td>\n",
       "      <td>683</td>\n",
       "    </tr>\n",
       "    <tr>\n",
       "      <th>3</th>\n",
       "      <td>Shaheen Afridi</td>\n",
       "      <td>PAK</td>\n",
       "      <td>681</td>\n",
       "    </tr>\n",
       "    <tr>\n",
       "      <th>4</th>\n",
       "      <td>Jasprit Bumrah</td>\n",
       "      <td>IND</td>\n",
       "      <td>679</td>\n",
       "    </tr>\n",
       "    <tr>\n",
       "      <th>5</th>\n",
       "      <td>Mujeeb Ur Rahman</td>\n",
       "      <td>AFG</td>\n",
       "      <td>676</td>\n",
       "    </tr>\n",
       "    <tr>\n",
       "      <th>6</th>\n",
       "      <td>Josh Hazlewood</td>\n",
       "      <td>AUS</td>\n",
       "      <td>667</td>\n",
       "    </tr>\n",
       "    <tr>\n",
       "      <th>7</th>\n",
       "      <td>Mehedi Hasan</td>\n",
       "      <td>BAN</td>\n",
       "      <td>661</td>\n",
       "    </tr>\n",
       "    <tr>\n",
       "      <th>8</th>\n",
       "      <td>Mohammad Nabi</td>\n",
       "      <td>AFG</td>\n",
       "      <td>657</td>\n",
       "    </tr>\n",
       "    <tr>\n",
       "      <th>9</th>\n",
       "      <td>Shakib Al Hasan</td>\n",
       "      <td>BAN</td>\n",
       "      <td>657</td>\n",
       "    </tr>\n",
       "  </tbody>\n",
       "</table>\n",
       "</div>"
      ],
      "text/plain": [
       "        Bowler Name Team Rating\n",
       "0       Trent Boult   NZ    726\n",
       "1      Chris Woakes  ENG    686\n",
       "2        Matt Henry   NZ    683\n",
       "3    Shaheen Afridi  PAK    681\n",
       "4    Jasprit Bumrah  IND    679\n",
       "5  Mujeeb Ur Rahman  AFG    676\n",
       "6    Josh Hazlewood  AUS    667\n",
       "7      Mehedi Hasan  BAN    661\n",
       "8     Mohammad Nabi  AFG    657\n",
       "9   Shakib Al Hasan  BAN    657"
      ]
     },
     "execution_count": 926,
     "metadata": {},
     "output_type": "execute_result"
    }
   ],
   "source": [
    "odibat = pd.DataFrame({'Bowler Name':name, 'Team':team, 'Rating':rat})\n",
    "print('\\tTop 10 ODI Bowler \\t')\n",
    "print('-'*30)\n",
    "odibat[0:10]"
   ]
  },
  {
   "cell_type": "code",
   "execution_count": null,
   "id": "be65bf9e",
   "metadata": {},
   "outputs": [],
   "source": [
    "'''6. Write a python program to scrape cricket rankings from icc-cricket.com. You have to scrape:\n",
    "a) Top 10 ODI teams in women’s cricket along with the records for matches, points and rating.\n",
    "b) Top 10 women’s ODI Batting players along with the records of their team and rating.\n",
    "c) Top 10 women’s ODI all-rounder along with the records of their team and rating.'''"
   ]
  },
  {
   "cell_type": "code",
   "execution_count": 993,
   "id": "ab0a03d7",
   "metadata": {},
   "outputs": [
    {
     "data": {
      "text/plain": [
       "<Response [200]>"
      ]
     },
     "execution_count": 993,
     "metadata": {},
     "output_type": "execute_result"
    }
   ],
   "source": [
    "#a) Top 10 ODI teams in women’s cricket along with the records for matches, points and rating.\n",
    "odi = requests.get('https://www.icc-cricket.com/rankings/womens/team-rankings/odi')\n",
    "odi"
   ]
  },
  {
   "cell_type": "code",
   "execution_count": 994,
   "id": "161187ee",
   "metadata": {},
   "outputs": [],
   "source": [
    "conn = BeautifulSoup(odi.content)"
   ]
  },
  {
   "cell_type": "code",
   "execution_count": 995,
   "id": "bb33f999",
   "metadata": {},
   "outputs": [],
   "source": [
    "team = []\n",
    "for i in conn.find_all('span',class_=\"u-hide-phablet\"):\n",
    "    team.append(i.text)\n",
    "del team[11:]"
   ]
  },
  {
   "cell_type": "code",
   "execution_count": 996,
   "id": "c2f53dfb",
   "metadata": {},
   "outputs": [],
   "source": [
    "match = []\n",
    "for i in conn.find_all('tr',class_=\"table-body\"):\n",
    "    match.append(i.text.split()[-3])\n",
    "match.insert(0,'29')\n",
    "del match[11:]"
   ]
  },
  {
   "cell_type": "code",
   "execution_count": 997,
   "id": "9094a493",
   "metadata": {},
   "outputs": [],
   "source": [
    "point = []\n",
    "for i in conn.find_all('tr',class_=\"table-body\"):\n",
    "    point.append(i.text.split()[-2])\n",
    "point.insert(0,'4,837')\n",
    "del point[11:]"
   ]
  },
  {
   "cell_type": "code",
   "execution_count": 998,
   "id": "9c8a6340",
   "metadata": {},
   "outputs": [],
   "source": [
    "rate = []\n",
    "for i in conn.find_all('td',class_=\"table-body__cell u-text-right rating\"):\n",
    "    rate.append(i.text)\n",
    "rate.insert(0,'167')\n",
    "del rate[11:]"
   ]
  },
  {
   "cell_type": "code",
   "execution_count": 1002,
   "id": "2585ea30",
   "metadata": {},
   "outputs": [
    {
     "name": "stdout",
     "output_type": "stream",
     "text": [
      "Top 10 ODI Teams Women\n",
      "------------------------------\n"
     ]
    },
    {
     "data": {
      "text/html": [
       "<div>\n",
       "<style scoped>\n",
       "    .dataframe tbody tr th:only-of-type {\n",
       "        vertical-align: middle;\n",
       "    }\n",
       "\n",
       "    .dataframe tbody tr th {\n",
       "        vertical-align: top;\n",
       "    }\n",
       "\n",
       "    .dataframe thead th {\n",
       "        text-align: right;\n",
       "    }\n",
       "</style>\n",
       "<table border=\"1\" class=\"dataframe\">\n",
       "  <thead>\n",
       "    <tr style=\"text-align: right;\">\n",
       "      <th></th>\n",
       "      <th>Team Name</th>\n",
       "      <th>Matches</th>\n",
       "      <th>Points</th>\n",
       "      <th>Rating</th>\n",
       "    </tr>\n",
       "  </thead>\n",
       "  <tbody>\n",
       "    <tr>\n",
       "      <th>0</th>\n",
       "      <td>Australia</td>\n",
       "      <td>29</td>\n",
       "      <td>4,837</td>\n",
       "      <td>167</td>\n",
       "    </tr>\n",
       "    <tr>\n",
       "      <th>1</th>\n",
       "      <td>South Africa</td>\n",
       "      <td>32</td>\n",
       "      <td>3,949</td>\n",
       "      <td>123</td>\n",
       "    </tr>\n",
       "    <tr>\n",
       "      <th>2</th>\n",
       "      <td>England</td>\n",
       "      <td>30</td>\n",
       "      <td>3,531</td>\n",
       "      <td>118</td>\n",
       "    </tr>\n",
       "    <tr>\n",
       "      <th>3</th>\n",
       "      <td>India</td>\n",
       "      <td>29</td>\n",
       "      <td>2,889</td>\n",
       "      <td>100</td>\n",
       "    </tr>\n",
       "    <tr>\n",
       "      <th>4</th>\n",
       "      <td>New Zealand</td>\n",
       "      <td>31</td>\n",
       "      <td>3,019</td>\n",
       "      <td>97</td>\n",
       "    </tr>\n",
       "    <tr>\n",
       "      <th>5</th>\n",
       "      <td>West Indies</td>\n",
       "      <td>30</td>\n",
       "      <td>2,768</td>\n",
       "      <td>92</td>\n",
       "    </tr>\n",
       "    <tr>\n",
       "      <th>6</th>\n",
       "      <td>Bangladesh</td>\n",
       "      <td>12</td>\n",
       "      <td>930</td>\n",
       "      <td>78</td>\n",
       "    </tr>\n",
       "    <tr>\n",
       "      <th>7</th>\n",
       "      <td>Pakistan</td>\n",
       "      <td>30</td>\n",
       "      <td>1,962</td>\n",
       "      <td>65</td>\n",
       "    </tr>\n",
       "    <tr>\n",
       "      <th>8</th>\n",
       "      <td>Sri Lanka</td>\n",
       "      <td>8</td>\n",
       "      <td>384</td>\n",
       "      <td>48</td>\n",
       "    </tr>\n",
       "    <tr>\n",
       "      <th>9</th>\n",
       "      <td>Ireland</td>\n",
       "      <td>8</td>\n",
       "      <td>351</td>\n",
       "      <td>44</td>\n",
       "    </tr>\n",
       "    <tr>\n",
       "      <th>10</th>\n",
       "      <td>Zimbabwe</td>\n",
       "      <td>8</td>\n",
       "      <td>0</td>\n",
       "      <td>0</td>\n",
       "    </tr>\n",
       "  </tbody>\n",
       "</table>\n",
       "</div>"
      ],
      "text/plain": [
       "       Team Name Matches Points Rating\n",
       "0      Australia      29  4,837    167\n",
       "1   South Africa      32  3,949    123\n",
       "2        England      30  3,531    118\n",
       "3          India      29  2,889    100\n",
       "4    New Zealand      31  3,019     97\n",
       "5    West Indies      30  2,768     92\n",
       "6     Bangladesh      12    930     78\n",
       "7       Pakistan      30  1,962     65\n",
       "8      Sri Lanka       8    384     48\n",
       "9        Ireland       8    351     44\n",
       "10      Zimbabwe       8      0      0"
      ]
     },
     "execution_count": 1002,
     "metadata": {},
     "output_type": "execute_result"
    }
   ],
   "source": [
    "women = pd.DataFrame({'Team Name':team, 'Matches':match, 'Points':point, 'Rating':rate})\n",
    "print('Top 10 ODI Teams Women')\n",
    "print('-'*30)\n",
    "women"
   ]
  },
  {
   "cell_type": "code",
   "execution_count": 939,
   "id": "ae42e213",
   "metadata": {},
   "outputs": [
    {
     "data": {
      "text/plain": [
       "<Response [200]>"
      ]
     },
     "execution_count": 939,
     "metadata": {},
     "output_type": "execute_result"
    }
   ],
   "source": [
    "#b) Top 10 women’s ODI Batting players along with the records of their team and rating.\n",
    "bating = requests.get('https://www.icc-cricket.com/rankings/womens/player-rankings/odi/batting')\n",
    "bating"
   ]
  },
  {
   "cell_type": "code",
   "execution_count": 940,
   "id": "495d2bf3",
   "metadata": {},
   "outputs": [],
   "source": [
    "conn = BeautifulSoup(bating.content)"
   ]
  },
  {
   "cell_type": "code",
   "execution_count": 941,
   "id": "0c71ef39",
   "metadata": {},
   "outputs": [],
   "source": [
    "player = []\n",
    "for i in conn.find_all('td',class_=\"table-body__cell rankings-table__name name\"):\n",
    "    player.append(i.text.replace('\\n',''))\n",
    "player.insert(0,'Alyssa Healy')\n",
    "del player[10:]"
   ]
  },
  {
   "cell_type": "code",
   "execution_count": 942,
   "id": "4e8b51e9",
   "metadata": {},
   "outputs": [],
   "source": [
    "team = []\n",
    "for i in conn.find_all('span',class_=\"table-body__logo-text\"):\n",
    "    team.append(i.text)\n",
    "team.insert(0,'AUS')\n",
    "del team[10:]"
   ]
  },
  {
   "cell_type": "code",
   "execution_count": 943,
   "id": "197b03b5",
   "metadata": {},
   "outputs": [],
   "source": [
    "point = []\n",
    "for i in conn.find_all('td',class_=\"table-body__cell rating\"):\n",
    "    point.append(i.text)\n",
    "point.insert(0,'785')\n",
    "del point[10:]"
   ]
  },
  {
   "cell_type": "code",
   "execution_count": 944,
   "id": "6aacd3a2",
   "metadata": {},
   "outputs": [
    {
     "name": "stdout",
     "output_type": "stream",
     "text": [
      "Top 10 ODI Batting Women\n",
      "------------------------------\n"
     ]
    },
    {
     "data": {
      "text/html": [
       "<div>\n",
       "<style scoped>\n",
       "    .dataframe tbody tr th:only-of-type {\n",
       "        vertical-align: middle;\n",
       "    }\n",
       "\n",
       "    .dataframe tbody tr th {\n",
       "        vertical-align: top;\n",
       "    }\n",
       "\n",
       "    .dataframe thead th {\n",
       "        text-align: right;\n",
       "    }\n",
       "</style>\n",
       "<table border=\"1\" class=\"dataframe\">\n",
       "  <thead>\n",
       "    <tr style=\"text-align: right;\">\n",
       "      <th></th>\n",
       "      <th>Player Name</th>\n",
       "      <th>Team</th>\n",
       "      <th>Points</th>\n",
       "    </tr>\n",
       "  </thead>\n",
       "  <tbody>\n",
       "    <tr>\n",
       "      <th>0</th>\n",
       "      <td>Alyssa Healy</td>\n",
       "      <td>AUS</td>\n",
       "      <td>785</td>\n",
       "    </tr>\n",
       "    <tr>\n",
       "      <th>1</th>\n",
       "      <td>Natalie Sciver</td>\n",
       "      <td>ENG</td>\n",
       "      <td>750</td>\n",
       "    </tr>\n",
       "    <tr>\n",
       "      <th>2</th>\n",
       "      <td>Beth Mooney</td>\n",
       "      <td>AUS</td>\n",
       "      <td>748</td>\n",
       "    </tr>\n",
       "    <tr>\n",
       "      <th>3</th>\n",
       "      <td>Laura Wolvaardt</td>\n",
       "      <td>SA</td>\n",
       "      <td>713</td>\n",
       "    </tr>\n",
       "    <tr>\n",
       "      <th>4</th>\n",
       "      <td>Meg Lanning</td>\n",
       "      <td>AUS</td>\n",
       "      <td>710</td>\n",
       "    </tr>\n",
       "    <tr>\n",
       "      <th>5</th>\n",
       "      <td>Rachael Haynes</td>\n",
       "      <td>AUS</td>\n",
       "      <td>701</td>\n",
       "    </tr>\n",
       "    <tr>\n",
       "      <th>6</th>\n",
       "      <td>Amy Satterthwaite</td>\n",
       "      <td>NZ</td>\n",
       "      <td>681</td>\n",
       "    </tr>\n",
       "    <tr>\n",
       "      <th>7</th>\n",
       "      <td>Smriti Mandhana</td>\n",
       "      <td>IND</td>\n",
       "      <td>669</td>\n",
       "    </tr>\n",
       "    <tr>\n",
       "      <th>8</th>\n",
       "      <td>Tammy Beaumont</td>\n",
       "      <td>ENG</td>\n",
       "      <td>659</td>\n",
       "    </tr>\n",
       "    <tr>\n",
       "      <th>9</th>\n",
       "      <td>Ellyse Perry</td>\n",
       "      <td>AUS</td>\n",
       "      <td>642</td>\n",
       "    </tr>\n",
       "  </tbody>\n",
       "</table>\n",
       "</div>"
      ],
      "text/plain": [
       "         Player Name Team Points\n",
       "0       Alyssa Healy  AUS    785\n",
       "1     Natalie Sciver  ENG    750\n",
       "2        Beth Mooney  AUS    748\n",
       "3    Laura Wolvaardt   SA    713\n",
       "4        Meg Lanning  AUS    710\n",
       "5     Rachael Haynes  AUS    701\n",
       "6  Amy Satterthwaite   NZ    681\n",
       "7    Smriti Mandhana  IND    669\n",
       "8     Tammy Beaumont  ENG    659\n",
       "9       Ellyse Perry  AUS    642"
      ]
     },
     "execution_count": 944,
     "metadata": {},
     "output_type": "execute_result"
    }
   ],
   "source": [
    "womenbat = pd.DataFrame({'Player Name':player, 'Team':team, 'Points':point})\n",
    "print('Top 10 ODI Batting Women')\n",
    "print('-'*30)\n",
    "womenbat"
   ]
  },
  {
   "cell_type": "code",
   "execution_count": 945,
   "id": "d6ef01f8",
   "metadata": {},
   "outputs": [
    {
     "data": {
      "text/plain": [
       "<Response [200]>"
      ]
     },
     "execution_count": 945,
     "metadata": {},
     "output_type": "execute_result"
    }
   ],
   "source": [
    "#c) Top 10 women’s ODI all-rounder along with the records of their team and rating.\n",
    "womenbowl = requests.get('https://www.icc-cricket.com/rankings/womens/player-rankings/odi/bowling')\n",
    "womenbowl"
   ]
  },
  {
   "cell_type": "code",
   "execution_count": 946,
   "id": "adba7bdf",
   "metadata": {},
   "outputs": [],
   "source": [
    "conn = BeautifulSoup(womenbowl.content)"
   ]
  },
  {
   "cell_type": "code",
   "execution_count": 947,
   "id": "f56e3a81",
   "metadata": {},
   "outputs": [],
   "source": [
    "name = []\n",
    "for i in conn.find_all('td',class_=\"table-body__cell rankings-table__name name\"):\n",
    "    name.append(i.text.replace('\\n',''))\n",
    "name.insert(0,'Sophie Ecclestone')"
   ]
  },
  {
   "cell_type": "code",
   "execution_count": 948,
   "id": "08550621",
   "metadata": {},
   "outputs": [],
   "source": [
    "team = []\n",
    "for i in conn.find_all('span',class_=\"table-body__logo-text\"):\n",
    "    team.append(i.text)\n",
    "team.insert(0,'ENG')"
   ]
  },
  {
   "cell_type": "code",
   "execution_count": 949,
   "id": "ab4c6dd4",
   "metadata": {},
   "outputs": [],
   "source": [
    "rat = []\n",
    "for i in conn.find_all('td',class_=\"table-body__cell rating\"):\n",
    "    rat.append(i.text)\n",
    "rat.insert(0,'771')"
   ]
  },
  {
   "cell_type": "code",
   "execution_count": 950,
   "id": "49b55967",
   "metadata": {},
   "outputs": [
    {
     "name": "stdout",
     "output_type": "stream",
     "text": [
      "Top 10 ODI Bowling Women\n",
      "------------------------------\n"
     ]
    },
    {
     "data": {
      "text/html": [
       "<div>\n",
       "<style scoped>\n",
       "    .dataframe tbody tr th:only-of-type {\n",
       "        vertical-align: middle;\n",
       "    }\n",
       "\n",
       "    .dataframe tbody tr th {\n",
       "        vertical-align: top;\n",
       "    }\n",
       "\n",
       "    .dataframe thead th {\n",
       "        text-align: right;\n",
       "    }\n",
       "</style>\n",
       "<table border=\"1\" class=\"dataframe\">\n",
       "  <thead>\n",
       "    <tr style=\"text-align: right;\">\n",
       "      <th></th>\n",
       "      <th>Player Name</th>\n",
       "      <th>Team</th>\n",
       "      <th>Rating</th>\n",
       "    </tr>\n",
       "  </thead>\n",
       "  <tbody>\n",
       "    <tr>\n",
       "      <th>0</th>\n",
       "      <td>Sophie Ecclestone</td>\n",
       "      <td>ENG</td>\n",
       "      <td>771</td>\n",
       "    </tr>\n",
       "    <tr>\n",
       "      <th>1</th>\n",
       "      <td>Shabnim Ismail</td>\n",
       "      <td>SA</td>\n",
       "      <td>755</td>\n",
       "    </tr>\n",
       "    <tr>\n",
       "      <th>2</th>\n",
       "      <td>Jess Jonassen</td>\n",
       "      <td>AUS</td>\n",
       "      <td>725</td>\n",
       "    </tr>\n",
       "    <tr>\n",
       "      <th>3</th>\n",
       "      <td>Megan Schutt</td>\n",
       "      <td>AUS</td>\n",
       "      <td>722</td>\n",
       "    </tr>\n",
       "    <tr>\n",
       "      <th>4</th>\n",
       "      <td>Ayabonga Khaka</td>\n",
       "      <td>SA</td>\n",
       "      <td>668</td>\n",
       "    </tr>\n",
       "    <tr>\n",
       "      <th>5</th>\n",
       "      <td>Jhulan Goswami</td>\n",
       "      <td>IND</td>\n",
       "      <td>663</td>\n",
       "    </tr>\n",
       "    <tr>\n",
       "      <th>6</th>\n",
       "      <td>Marizanne Kapp</td>\n",
       "      <td>SA</td>\n",
       "      <td>642</td>\n",
       "    </tr>\n",
       "    <tr>\n",
       "      <th>7</th>\n",
       "      <td>Anya Shrubsole</td>\n",
       "      <td>ENG</td>\n",
       "      <td>629</td>\n",
       "    </tr>\n",
       "    <tr>\n",
       "      <th>8</th>\n",
       "      <td>Kate Cross</td>\n",
       "      <td>ENG</td>\n",
       "      <td>617</td>\n",
       "    </tr>\n",
       "    <tr>\n",
       "      <th>9</th>\n",
       "      <td>Hayley Matthews</td>\n",
       "      <td>WI</td>\n",
       "      <td>612</td>\n",
       "    </tr>\n",
       "  </tbody>\n",
       "</table>\n",
       "</div>"
      ],
      "text/plain": [
       "         Player Name Team Rating\n",
       "0  Sophie Ecclestone  ENG    771\n",
       "1     Shabnim Ismail   SA    755\n",
       "2      Jess Jonassen  AUS    725\n",
       "3       Megan Schutt  AUS    722\n",
       "4     Ayabonga Khaka   SA    668\n",
       "5     Jhulan Goswami  IND    663\n",
       "6     Marizanne Kapp   SA    642\n",
       "7     Anya Shrubsole  ENG    629\n",
       "8         Kate Cross  ENG    617\n",
       "9    Hayley Matthews   WI    612"
      ]
     },
     "execution_count": 950,
     "metadata": {},
     "output_type": "execute_result"
    }
   ],
   "source": [
    "bowling = pd.DataFrame({'Player Name':name, 'Team':team, 'Rating':rat})\n",
    "print('Top 10 ODI Bowling Women')\n",
    "print('-'*30)\n",
    "bowling[0:10]"
   ]
  },
  {
   "cell_type": "code",
   "execution_count": null,
   "id": "fd46ad97",
   "metadata": {},
   "outputs": [],
   "source": [
    "'''7.Write a python program to scrape mentioned news details from https://www.cnbc.com/world/?region=world : \n",
    "i) Headline\n",
    "ii) Time\n",
    "iii) News Link'''"
   ]
  },
  {
   "cell_type": "code",
   "execution_count": 966,
   "id": "49c0418b",
   "metadata": {},
   "outputs": [
    {
     "data": {
      "text/plain": [
       "<Response [200]>"
      ]
     },
     "execution_count": 966,
     "metadata": {},
     "output_type": "execute_result"
    }
   ],
   "source": [
    "new = requests.get('https://www.cnbc.com/world/?region=world')\n",
    "new"
   ]
  },
  {
   "cell_type": "code",
   "execution_count": 967,
   "id": "17a36ee8",
   "metadata": {},
   "outputs": [],
   "source": [
    "conn = BeautifulSoup(new.content, 'html.parser')"
   ]
  },
  {
   "cell_type": "code",
   "execution_count": 969,
   "id": "d4209866",
   "metadata": {},
   "outputs": [],
   "source": [
    "head = []\n",
    "for i in conn.find_all('div',class_=\"RiverPlusCard-container\"):\n",
    "    head.append(i.text.split('•')[0])"
   ]
  },
  {
   "cell_type": "code",
   "execution_count": 970,
   "id": "20b653db",
   "metadata": {},
   "outputs": [],
   "source": [
    "link = []\n",
    "for i in conn.find_all('div',class_=\"RiverPlusCard-container\"):\n",
    "    sub = i.find('a')\n",
    "    link.append(sub.get('href'))"
   ]
  },
  {
   "cell_type": "code",
   "execution_count": 971,
   "id": "5dd3adda",
   "metadata": {},
   "outputs": [
    {
     "data": {
      "text/html": [
       "<div>\n",
       "<style scoped>\n",
       "    .dataframe tbody tr th:only-of-type {\n",
       "        vertical-align: middle;\n",
       "    }\n",
       "\n",
       "    .dataframe tbody tr th {\n",
       "        vertical-align: top;\n",
       "    }\n",
       "\n",
       "    .dataframe thead th {\n",
       "        text-align: right;\n",
       "    }\n",
       "</style>\n",
       "<table border=\"1\" class=\"dataframe\">\n",
       "  <thead>\n",
       "    <tr style=\"text-align: right;\">\n",
       "      <th></th>\n",
       "      <th>Headlines,Time</th>\n",
       "      <th>Links</th>\n",
       "    </tr>\n",
       "  </thead>\n",
       "  <tbody>\n",
       "    <tr>\n",
       "      <th>0</th>\n",
       "      <td>Russia wants to 'destroy the whole Donbas step...</td>\n",
       "      <td>https://www.cnbc.com/2022/06/23/russia-ukraine...</td>\n",
       "    </tr>\n",
       "    <tr>\n",
       "      <th>1</th>\n",
       "      <td>Bank of America likes these lesser-known stock...</td>\n",
       "      <td>/pro/</td>\n",
       "    </tr>\n",
       "    <tr>\n",
       "      <th>2</th>\n",
       "      <td>European leaders expected to formally accept U...</td>\n",
       "      <td>https://www.cnbc.com/2022/06/23/ukraines-eu-ca...</td>\n",
       "    </tr>\n",
       "    <tr>\n",
       "      <th>3</th>\n",
       "      <td>Musk says Tesla's factories in Berlin and Texa...</td>\n",
       "      <td>https://www.cnbc.com/2022/06/23/musk-says-tesl...</td>\n",
       "    </tr>\n",
       "    <tr>\n",
       "      <th>4</th>\n",
       "      <td>Here's what China's e-commerce giants are tell...</td>\n",
       "      <td>https://www.cnbc.com/2022/06/23/heres-what-chi...</td>\n",
       "    </tr>\n",
       "    <tr>\n",
       "      <th>5</th>\n",
       "      <td>China's Xi vows 'more forceful' tools to achie...</td>\n",
       "      <td>https://www.cnbc.com/2022/06/23/chinas-xi-vows...</td>\n",
       "    </tr>\n",
       "    <tr>\n",
       "      <th>6</th>\n",
       "      <td>World's largest hybrid ship set to ferry passe...</td>\n",
       "      <td>https://www.cnbc.com/2022/06/23/worlds-largest...</td>\n",
       "    </tr>\n",
       "    <tr>\n",
       "      <th>7</th>\n",
       "      <td>Amazon demonstrates Alexa mimicking the voice ...</td>\n",
       "      <td>https://www.cnbc.com/2022/06/22/amazon-demonst...</td>\n",
       "    </tr>\n",
       "    <tr>\n",
       "      <th>8</th>\n",
       "      <td>Euro zone bond yields plunge as business activ...</td>\n",
       "      <td>https://www.cnbc.com/2022/06/23/euro-zone-bond...</td>\n",
       "    </tr>\n",
       "    <tr>\n",
       "      <th>9</th>\n",
       "      <td>These bank stocks did well during the 1994 Fed...</td>\n",
       "      <td>/pro/</td>\n",
       "    </tr>\n",
       "    <tr>\n",
       "      <th>10</th>\n",
       "      <td>This 32-year-old has a toy business worth mill...</td>\n",
       "      <td>https://www.cnbc.com/2022/06/22/dc-comics-to-n...</td>\n",
       "    </tr>\n",
       "    <tr>\n",
       "      <th>11</th>\n",
       "      <td>Stocks inch lower as rally attempt on Wall Str...</td>\n",
       "      <td>https://www.cnbc.com/2022/06/21/stock-market-f...</td>\n",
       "    </tr>\n",
       "    <tr>\n",
       "      <th>12</th>\n",
       "      <td>Tim Cook gives clearest hint yet that Apple's ...</td>\n",
       "      <td>https://www.cnbc.com/2022/06/22/tim-cook-gives...</td>\n",
       "    </tr>\n",
       "    <tr>\n",
       "      <th>13</th>\n",
       "      <td>Kevin O’Leary reveals 1 important lesson that ...</td>\n",
       "      <td>https://www.cnbc.com/2022/06/23/kevin-oleary-e...</td>\n",
       "    </tr>\n",
       "    <tr>\n",
       "      <th>14</th>\n",
       "      <td>Chinese influencers must now have a qualificat...</td>\n",
       "      <td>https://www.cnbc.com/2022/06/23/china-livestre...</td>\n",
       "    </tr>\n",
       "    <tr>\n",
       "      <th>15</th>\n",
       "      <td>Southeast Asia's start-ups have fired hundreds...</td>\n",
       "      <td>https://www.cnbc.com/2022/06/23/southeast-asia...</td>\n",
       "    </tr>\n",
       "    <tr>\n",
       "      <th>16</th>\n",
       "      <td>Powell tells Congress the Fed is 'strongly com...</td>\n",
       "      <td>https://www.cnbc.com/2022/06/22/powell-tells-c...</td>\n",
       "    </tr>\n",
       "    <tr>\n",
       "      <th>17</th>\n",
       "      <td>Cramer says a 'bull market within a bear marke...</td>\n",
       "      <td>https://www.cnbc.com/2022/06/22/cramer-6-thing...</td>\n",
       "    </tr>\n",
       "  </tbody>\n",
       "</table>\n",
       "</div>"
      ],
      "text/plain": [
       "                                       Headlines,Time  \\\n",
       "0   Russia wants to 'destroy the whole Donbas step...   \n",
       "1   Bank of America likes these lesser-known stock...   \n",
       "2   European leaders expected to formally accept U...   \n",
       "3   Musk says Tesla's factories in Berlin and Texa...   \n",
       "4   Here's what China's e-commerce giants are tell...   \n",
       "5   China's Xi vows 'more forceful' tools to achie...   \n",
       "6   World's largest hybrid ship set to ferry passe...   \n",
       "7   Amazon demonstrates Alexa mimicking the voice ...   \n",
       "8   Euro zone bond yields plunge as business activ...   \n",
       "9   These bank stocks did well during the 1994 Fed...   \n",
       "10  This 32-year-old has a toy business worth mill...   \n",
       "11  Stocks inch lower as rally attempt on Wall Str...   \n",
       "12  Tim Cook gives clearest hint yet that Apple's ...   \n",
       "13  Kevin O’Leary reveals 1 important lesson that ...   \n",
       "14  Chinese influencers must now have a qualificat...   \n",
       "15  Southeast Asia's start-ups have fired hundreds...   \n",
       "16  Powell tells Congress the Fed is 'strongly com...   \n",
       "17  Cramer says a 'bull market within a bear marke...   \n",
       "\n",
       "                                                Links  \n",
       "0   https://www.cnbc.com/2022/06/23/russia-ukraine...  \n",
       "1                                               /pro/  \n",
       "2   https://www.cnbc.com/2022/06/23/ukraines-eu-ca...  \n",
       "3   https://www.cnbc.com/2022/06/23/musk-says-tesl...  \n",
       "4   https://www.cnbc.com/2022/06/23/heres-what-chi...  \n",
       "5   https://www.cnbc.com/2022/06/23/chinas-xi-vows...  \n",
       "6   https://www.cnbc.com/2022/06/23/worlds-largest...  \n",
       "7   https://www.cnbc.com/2022/06/22/amazon-demonst...  \n",
       "8   https://www.cnbc.com/2022/06/23/euro-zone-bond...  \n",
       "9                                               /pro/  \n",
       "10  https://www.cnbc.com/2022/06/22/dc-comics-to-n...  \n",
       "11  https://www.cnbc.com/2022/06/21/stock-market-f...  \n",
       "12  https://www.cnbc.com/2022/06/22/tim-cook-gives...  \n",
       "13  https://www.cnbc.com/2022/06/23/kevin-oleary-e...  \n",
       "14  https://www.cnbc.com/2022/06/23/china-livestre...  \n",
       "15  https://www.cnbc.com/2022/06/23/southeast-asia...  \n",
       "16  https://www.cnbc.com/2022/06/22/powell-tells-c...  \n",
       "17  https://www.cnbc.com/2022/06/22/cramer-6-thing...  "
      ]
     },
     "execution_count": 971,
     "metadata": {},
     "output_type": "execute_result"
    }
   ],
   "source": [
    "cnb = pd.DataFrame({'Headlines,Time':head,'Links':link})\n",
    "cnb"
   ]
  },
  {
   "cell_type": "code",
   "execution_count": null,
   "id": "50aef00e",
   "metadata": {},
   "outputs": [],
   "source": [
    "'''8. Write a python program to scrape the details of most downloaded articles from AI in last 90 days. \n",
    "https://www.journals.elsevier.com/artificial-intelligence/most-downloaded-articles\n",
    "Scrape below mentioned details :\n",
    "i) Paper Title\n",
    "ii) Authors\n",
    "iii) Published Date\n",
    "iv) Paper URL'''"
   ]
  },
  {
   "cell_type": "code",
   "execution_count": 516,
   "id": "90000dc4",
   "metadata": {},
   "outputs": [
    {
     "data": {
      "text/plain": [
       "<Response [200]>"
      ]
     },
     "execution_count": 516,
     "metadata": {},
     "output_type": "execute_result"
    }
   ],
   "source": [
    "ai = requests.get('https://www.journals.elsevier.com/artificial-intelligence/most-downloaded-articles')\n",
    "ai"
   ]
  },
  {
   "cell_type": "code",
   "execution_count": 517,
   "id": "596bc4d2",
   "metadata": {},
   "outputs": [],
   "source": [
    "conn = BeautifulSoup(ai.content)"
   ]
  },
  {
   "cell_type": "code",
   "execution_count": 582,
   "id": "5722118c",
   "metadata": {},
   "outputs": [],
   "source": [
    "paper = []\n",
    "for i in conn.find_all('h2', class_=\"sc-1qrq3sd-1 MKjKb sc-1nmom32-0 sc-1nmom32-1 hqhUYH ebTA-dR\"):\n",
    "    paper.append(i.text)"
   ]
  },
  {
   "cell_type": "code",
   "execution_count": 581,
   "id": "4af35c17",
   "metadata": {},
   "outputs": [],
   "source": [
    "author = []\n",
    "for i in conn.find_all('span',class_=\"sc-1w3fpd7-0 pgLAT\"):\n",
    "    author.append(i.text)"
   ]
  },
  {
   "cell_type": "code",
   "execution_count": 580,
   "id": "59859dbb",
   "metadata": {},
   "outputs": [],
   "source": [
    "date = []\n",
    "for i in conn.find_all('span',class_=\"sc-1thf9ly-2 bKddwo\"):\n",
    "    date.append(i.text)"
   ]
  },
  {
   "cell_type": "code",
   "execution_count": 579,
   "id": "a972f632",
   "metadata": {},
   "outputs": [],
   "source": [
    "web = []\n",
    "for i in conn.find_all('a',class_=\"sc-5smygv-0 nrDZj\"):\n",
    "    web.append(i.get('href'))"
   ]
  },
  {
   "cell_type": "code",
   "execution_count": 578,
   "id": "af6d64e5",
   "metadata": {},
   "outputs": [
    {
     "data": {
      "text/html": [
       "<div>\n",
       "<style scoped>\n",
       "    .dataframe tbody tr th:only-of-type {\n",
       "        vertical-align: middle;\n",
       "    }\n",
       "\n",
       "    .dataframe tbody tr th {\n",
       "        vertical-align: top;\n",
       "    }\n",
       "\n",
       "    .dataframe thead th {\n",
       "        text-align: right;\n",
       "    }\n",
       "</style>\n",
       "<table border=\"1\" class=\"dataframe\">\n",
       "  <thead>\n",
       "    <tr style=\"text-align: right;\">\n",
       "      <th></th>\n",
       "      <th>Paper Title</th>\n",
       "      <th>Author</th>\n",
       "      <th>Published Date</th>\n",
       "      <th>Paper URL</th>\n",
       "    </tr>\n",
       "  </thead>\n",
       "  <tbody>\n",
       "    <tr>\n",
       "      <th>0</th>\n",
       "      <td>Reward is enough</td>\n",
       "      <td>Silver, David, Singh, Satinder, Precup, Doina,...</td>\n",
       "      <td>October 2021</td>\n",
       "      <td>https://www.sciencedirect.com/science/article/...</td>\n",
       "    </tr>\n",
       "    <tr>\n",
       "      <th>1</th>\n",
       "      <td>Making sense of raw input</td>\n",
       "      <td>Evans, Richard, Bošnjak, Matko and 5 more</td>\n",
       "      <td>October 2021</td>\n",
       "      <td>https://www.sciencedirect.com/science/article/...</td>\n",
       "    </tr>\n",
       "    <tr>\n",
       "      <th>2</th>\n",
       "      <td>Law and logic: A review from an argumentation ...</td>\n",
       "      <td>Prakken, Henry, Sartor, Giovanni</td>\n",
       "      <td>October 2015</td>\n",
       "      <td>https://www.sciencedirect.com/science/article/...</td>\n",
       "    </tr>\n",
       "    <tr>\n",
       "      <th>3</th>\n",
       "      <td>Creativity and artificial intelligence</td>\n",
       "      <td>Boden, Margaret A.</td>\n",
       "      <td>August 1998</td>\n",
       "      <td>https://www.sciencedirect.com/science/article/...</td>\n",
       "    </tr>\n",
       "    <tr>\n",
       "      <th>4</th>\n",
       "      <td>Artificial cognition for social human–robot in...</td>\n",
       "      <td>Lemaignan, Séverin, Warnier, Mathieu and 3 more</td>\n",
       "      <td>June 2017</td>\n",
       "      <td>https://www.sciencedirect.com/science/article/...</td>\n",
       "    </tr>\n",
       "    <tr>\n",
       "      <th>5</th>\n",
       "      <td>Explanation in artificial intelligence: Insigh...</td>\n",
       "      <td>Miller, Tim</td>\n",
       "      <td>February 2019</td>\n",
       "      <td>https://www.sciencedirect.com/science/article/...</td>\n",
       "    </tr>\n",
       "    <tr>\n",
       "      <th>6</th>\n",
       "      <td>Making sense of sensory input</td>\n",
       "      <td>Evans, Richard, Hernández-Orallo, José and 3 more</td>\n",
       "      <td>April 2021</td>\n",
       "      <td>https://www.sciencedirect.com/science/article/...</td>\n",
       "    </tr>\n",
       "    <tr>\n",
       "      <th>7</th>\n",
       "      <td>Conflict-based search for optimal multi-agent ...</td>\n",
       "      <td>Sharon, Guni, Stern, Roni, Felner, Ariel, Stur...</td>\n",
       "      <td>February 2015</td>\n",
       "      <td>https://www.sciencedirect.com/science/article/...</td>\n",
       "    </tr>\n",
       "    <tr>\n",
       "      <th>8</th>\n",
       "      <td>Between MDPs and semi-MDPs: A framework for te...</td>\n",
       "      <td>Sutton, Richard S., Precup, Doina, Singh, Sati...</td>\n",
       "      <td>August 1999</td>\n",
       "      <td>https://www.sciencedirect.com/science/article/...</td>\n",
       "    </tr>\n",
       "    <tr>\n",
       "      <th>9</th>\n",
       "      <td>The Hanabi challenge: A new frontier for AI re...</td>\n",
       "      <td>Bard, Nolan, Foerster, Jakob N. and 13 more</td>\n",
       "      <td>March 2020</td>\n",
       "      <td>https://www.sciencedirect.com/science/article/...</td>\n",
       "    </tr>\n",
       "    <tr>\n",
       "      <th>10</th>\n",
       "      <td>Evaluating XAI: A comparison of rule-based and...</td>\n",
       "      <td>van der Waa, Jasper, Nieuwburg, Elisabeth, Cre...</td>\n",
       "      <td>February 2021</td>\n",
       "      <td>https://www.sciencedirect.com/science/article/...</td>\n",
       "    </tr>\n",
       "    <tr>\n",
       "      <th>11</th>\n",
       "      <td>Argumentation in artificial intelligence</td>\n",
       "      <td>Bench-Capon, T.J.M., Dunne, Paul E.</td>\n",
       "      <td>October 2007</td>\n",
       "      <td>https://www.sciencedirect.com/science/article/...</td>\n",
       "    </tr>\n",
       "    <tr>\n",
       "      <th>12</th>\n",
       "      <td>Algorithms for computing strategies in two-pla...</td>\n",
       "      <td>Bošanský, Branislav, Lisý, Viliam and 3 more</td>\n",
       "      <td>August 2016</td>\n",
       "      <td>https://www.sciencedirect.com/science/article/...</td>\n",
       "    </tr>\n",
       "    <tr>\n",
       "      <th>13</th>\n",
       "      <td>Multiple object tracking: A literature review</td>\n",
       "      <td>Luo, Wenhan, Xing, Junliang and 4 more</td>\n",
       "      <td>April 2021</td>\n",
       "      <td>https://www.sciencedirect.com/science/article/...</td>\n",
       "    </tr>\n",
       "    <tr>\n",
       "      <th>14</th>\n",
       "      <td>Selection of relevant features and examples in...</td>\n",
       "      <td>Blum, Avrim L., Langley, Pat</td>\n",
       "      <td>December 1997</td>\n",
       "      <td>https://www.sciencedirect.com/science/article/...</td>\n",
       "    </tr>\n",
       "    <tr>\n",
       "      <th>15</th>\n",
       "      <td>A survey of inverse reinforcement learning: Ch...</td>\n",
       "      <td>Arora, Saurabh, Doshi, Prashant</td>\n",
       "      <td>August 2021</td>\n",
       "      <td>https://www.sciencedirect.com/science/article/...</td>\n",
       "    </tr>\n",
       "    <tr>\n",
       "      <th>16</th>\n",
       "      <td>Explaining individual predictions when feature...</td>\n",
       "      <td>Aas, Kjersti, Jullum, Martin, Løland, Anders</td>\n",
       "      <td>September 2021</td>\n",
       "      <td>https://www.sciencedirect.com/science/article/...</td>\n",
       "    </tr>\n",
       "    <tr>\n",
       "      <th>17</th>\n",
       "      <td>A review of possible effects of cognitive bias...</td>\n",
       "      <td>Kliegr, Tomáš, Bahník, Štěpán, Fürnkranz, Joha...</td>\n",
       "      <td>June 2021</td>\n",
       "      <td>https://www.sciencedirect.com/science/article/...</td>\n",
       "    </tr>\n",
       "    <tr>\n",
       "      <th>18</th>\n",
       "      <td>Integrating social power into the decision-mak...</td>\n",
       "      <td>Pereira, Gonçalo, Prada, Rui, Santos, Pedro A.</td>\n",
       "      <td>December 2016</td>\n",
       "      <td>https://www.sciencedirect.com/science/article/...</td>\n",
       "    </tr>\n",
       "    <tr>\n",
       "      <th>19</th>\n",
       "      <td>“That's (not) the output I expected!” On the r...</td>\n",
       "      <td>Riveiro, Maria, Thill, Serge</td>\n",
       "      <td>September 2021</td>\n",
       "      <td>https://www.sciencedirect.com/science/article/...</td>\n",
       "    </tr>\n",
       "    <tr>\n",
       "      <th>20</th>\n",
       "      <td>Explaining black-box classifiers using post-ho...</td>\n",
       "      <td>Kenny, Eoin M., Ford, Courtney, Quinn, Molly, ...</td>\n",
       "      <td>May 2021</td>\n",
       "      <td>https://www.sciencedirect.com/science/article/...</td>\n",
       "    </tr>\n",
       "    <tr>\n",
       "      <th>21</th>\n",
       "      <td>Algorithm runtime prediction: Methods &amp; evalua...</td>\n",
       "      <td>Hutter, Frank, Xu, Lin, Hoos, Holger H., Leyto...</td>\n",
       "      <td>January 2014</td>\n",
       "      <td>https://www.sciencedirect.com/science/article/...</td>\n",
       "    </tr>\n",
       "    <tr>\n",
       "      <th>22</th>\n",
       "      <td>Wrappers for feature subset selection</td>\n",
       "      <td>Kohavi, Ron, John, George H.</td>\n",
       "      <td>December 1997</td>\n",
       "      <td>https://www.sciencedirect.com/science/article/...</td>\n",
       "    </tr>\n",
       "    <tr>\n",
       "      <th>23</th>\n",
       "      <td>Commonsense visual sensemaking for autonomous ...</td>\n",
       "      <td>Suchan, Jakob, Bhatt, Mehul, Varadarajan, Srik...</td>\n",
       "      <td>October 2021</td>\n",
       "      <td>https://www.sciencedirect.com/science/article/...</td>\n",
       "    </tr>\n",
       "    <tr>\n",
       "      <th>24</th>\n",
       "      <td>Quantum computation, quantum theory and AI</td>\n",
       "      <td>Ying, Mingsheng</td>\n",
       "      <td>February 2010</td>\n",
       "      <td>https://www.sciencedirect.com/science/article/...</td>\n",
       "    </tr>\n",
       "  </tbody>\n",
       "</table>\n",
       "</div>"
      ],
      "text/plain": [
       "                                          Paper Title  \\\n",
       "0                                    Reward is enough   \n",
       "1                           Making sense of raw input   \n",
       "2   Law and logic: A review from an argumentation ...   \n",
       "3              Creativity and artificial intelligence   \n",
       "4   Artificial cognition for social human–robot in...   \n",
       "5   Explanation in artificial intelligence: Insigh...   \n",
       "6                       Making sense of sensory input   \n",
       "7   Conflict-based search for optimal multi-agent ...   \n",
       "8   Between MDPs and semi-MDPs: A framework for te...   \n",
       "9   The Hanabi challenge: A new frontier for AI re...   \n",
       "10  Evaluating XAI: A comparison of rule-based and...   \n",
       "11           Argumentation in artificial intelligence   \n",
       "12  Algorithms for computing strategies in two-pla...   \n",
       "13      Multiple object tracking: A literature review   \n",
       "14  Selection of relevant features and examples in...   \n",
       "15  A survey of inverse reinforcement learning: Ch...   \n",
       "16  Explaining individual predictions when feature...   \n",
       "17  A review of possible effects of cognitive bias...   \n",
       "18  Integrating social power into the decision-mak...   \n",
       "19  “That's (not) the output I expected!” On the r...   \n",
       "20  Explaining black-box classifiers using post-ho...   \n",
       "21  Algorithm runtime prediction: Methods & evalua...   \n",
       "22              Wrappers for feature subset selection   \n",
       "23  Commonsense visual sensemaking for autonomous ...   \n",
       "24         Quantum computation, quantum theory and AI   \n",
       "\n",
       "                                               Author  Published Date  \\\n",
       "0   Silver, David, Singh, Satinder, Precup, Doina,...    October 2021   \n",
       "1           Evans, Richard, Bošnjak, Matko and 5 more    October 2021   \n",
       "2                   Prakken, Henry, Sartor, Giovanni     October 2015   \n",
       "3                                 Boden, Margaret A.      August 1998   \n",
       "4     Lemaignan, Séverin, Warnier, Mathieu and 3 more       June 2017   \n",
       "5                                        Miller, Tim    February 2019   \n",
       "6   Evans, Richard, Hernández-Orallo, José and 3 more      April 2021   \n",
       "7   Sharon, Guni, Stern, Roni, Felner, Ariel, Stur...   February 2015   \n",
       "8   Sutton, Richard S., Precup, Doina, Singh, Sati...     August 1999   \n",
       "9         Bard, Nolan, Foerster, Jakob N. and 13 more      March 2020   \n",
       "10  van der Waa, Jasper, Nieuwburg, Elisabeth, Cre...   February 2021   \n",
       "11               Bench-Capon, T.J.M., Dunne, Paul E.     October 2007   \n",
       "12       Bošanský, Branislav, Lisý, Viliam and 3 more     August 2016   \n",
       "13             Luo, Wenhan, Xing, Junliang and 4 more      April 2021   \n",
       "14                      Blum, Avrim L., Langley, Pat    December 1997   \n",
       "15                   Arora, Saurabh, Doshi, Prashant      August 2021   \n",
       "16      Aas, Kjersti, Jullum, Martin, Løland, Anders   September 2021   \n",
       "17  Kliegr, Tomáš, Bahník, Štěpán, Fürnkranz, Joha...       June 2021   \n",
       "18    Pereira, Gonçalo, Prada, Rui, Santos, Pedro A.    December 2016   \n",
       "19                      Riveiro, Maria, Thill, Serge   September 2021   \n",
       "20  Kenny, Eoin M., Ford, Courtney, Quinn, Molly, ...        May 2021   \n",
       "21  Hutter, Frank, Xu, Lin, Hoos, Holger H., Leyto...    January 2014   \n",
       "22                      Kohavi, Ron, John, George H.    December 1997   \n",
       "23  Suchan, Jakob, Bhatt, Mehul, Varadarajan, Srik...    October 2021   \n",
       "24                                   Ying, Mingsheng    February 2010   \n",
       "\n",
       "                                            Paper URL  \n",
       "0   https://www.sciencedirect.com/science/article/...  \n",
       "1   https://www.sciencedirect.com/science/article/...  \n",
       "2   https://www.sciencedirect.com/science/article/...  \n",
       "3   https://www.sciencedirect.com/science/article/...  \n",
       "4   https://www.sciencedirect.com/science/article/...  \n",
       "5   https://www.sciencedirect.com/science/article/...  \n",
       "6   https://www.sciencedirect.com/science/article/...  \n",
       "7   https://www.sciencedirect.com/science/article/...  \n",
       "8   https://www.sciencedirect.com/science/article/...  \n",
       "9   https://www.sciencedirect.com/science/article/...  \n",
       "10  https://www.sciencedirect.com/science/article/...  \n",
       "11  https://www.sciencedirect.com/science/article/...  \n",
       "12  https://www.sciencedirect.com/science/article/...  \n",
       "13  https://www.sciencedirect.com/science/article/...  \n",
       "14  https://www.sciencedirect.com/science/article/...  \n",
       "15  https://www.sciencedirect.com/science/article/...  \n",
       "16  https://www.sciencedirect.com/science/article/...  \n",
       "17  https://www.sciencedirect.com/science/article/...  \n",
       "18  https://www.sciencedirect.com/science/article/...  \n",
       "19  https://www.sciencedirect.com/science/article/...  \n",
       "20  https://www.sciencedirect.com/science/article/...  \n",
       "21  https://www.sciencedirect.com/science/article/...  \n",
       "22  https://www.sciencedirect.com/science/article/...  \n",
       "23  https://www.sciencedirect.com/science/article/...  \n",
       "24  https://www.sciencedirect.com/science/article/...  "
      ]
     },
     "execution_count": 578,
     "metadata": {},
     "output_type": "execute_result"
    }
   ],
   "source": [
    "journal = pd.DataFrame({'Paper Title':paper, 'Author':author, 'Published Date':date, 'Paper URL':web})\n",
    "journal"
   ]
  },
  {
   "cell_type": "code",
   "execution_count": null,
   "id": "9463b101",
   "metadata": {},
   "outputs": [],
   "source": [
    "'''9) Write a python program to scrape mentioned details from dineout.co.in :\n",
    "i) Restaurant name\n",
    "ii) Cuisine\n",
    "iii) Location\n",
    "iv) Ratings\n",
    "v) Image URL'''"
   ]
  },
  {
   "cell_type": "code",
   "execution_count": 984,
   "id": "328de3ec",
   "metadata": {},
   "outputs": [
    {
     "data": {
      "text/plain": [
       "<Response [200]>"
      ]
     },
     "execution_count": 984,
     "metadata": {},
     "output_type": "execute_result"
    }
   ],
   "source": [
    "dine = requests.get('https://www.dineout.co.in/delhi-restaurants/buffet-special')\n",
    "dine"
   ]
  },
  {
   "cell_type": "code",
   "execution_count": 985,
   "id": "6cb31794",
   "metadata": {},
   "outputs": [],
   "source": [
    "conn = BeautifulSoup(dine.content)"
   ]
  },
  {
   "cell_type": "code",
   "execution_count": 986,
   "id": "acdea8f8",
   "metadata": {},
   "outputs": [],
   "source": [
    "name = []\n",
    "for i in conn.find_all('a',class_=\"restnt-name ellipsis\"):\n",
    "    name.append(i.text)"
   ]
  },
  {
   "cell_type": "code",
   "execution_count": 987,
   "id": "3fa04ec5",
   "metadata": {},
   "outputs": [],
   "source": [
    "cuisine = []\n",
    "for i in conn.find_all('span',class_=\"double-line-ellipsis\"):\n",
    "    cuisine.append(i.text.split('|')[1])"
   ]
  },
  {
   "cell_type": "code",
   "execution_count": 988,
   "id": "c819670f",
   "metadata": {},
   "outputs": [],
   "source": [
    "loc = []\n",
    "for i in conn.find_all('div',class_=\"restnt-loc ellipsis\"):\n",
    "    loc.append(i.text)"
   ]
  },
  {
   "cell_type": "code",
   "execution_count": 989,
   "id": "dac9712b",
   "metadata": {},
   "outputs": [],
   "source": [
    "rating = []\n",
    "for i in conn.find_all('div',class_=\"restnt-rating rating-4\"):\n",
    "    rating.append(i.text)"
   ]
  },
  {
   "cell_type": "code",
   "execution_count": 990,
   "id": "44c64dd6",
   "metadata": {},
   "outputs": [],
   "source": [
    "image = []\n",
    "for i in conn.find_all('img',class_=\"no-img\"):\n",
    "    image.append(i['data-src'])"
   ]
  },
  {
   "cell_type": "code",
   "execution_count": 991,
   "id": "6e74f3d8",
   "metadata": {},
   "outputs": [
    {
     "data": {
      "text/html": [
       "<div>\n",
       "<style scoped>\n",
       "    .dataframe tbody tr th:only-of-type {\n",
       "        vertical-align: middle;\n",
       "    }\n",
       "\n",
       "    .dataframe tbody tr th {\n",
       "        vertical-align: top;\n",
       "    }\n",
       "\n",
       "    .dataframe thead th {\n",
       "        text-align: right;\n",
       "    }\n",
       "</style>\n",
       "<table border=\"1\" class=\"dataframe\">\n",
       "  <thead>\n",
       "    <tr style=\"text-align: right;\">\n",
       "      <th></th>\n",
       "      <th>Restaurant Name</th>\n",
       "      <th>Cuisine</th>\n",
       "      <th>Location</th>\n",
       "      <th>Rating</th>\n",
       "      <th>Image URL</th>\n",
       "    </tr>\n",
       "  </thead>\n",
       "  <tbody>\n",
       "    <tr>\n",
       "      <th>0</th>\n",
       "      <td>Castle Barbeque</td>\n",
       "      <td>North Indian, Chinese</td>\n",
       "      <td>Connaught Place, Central Delhi</td>\n",
       "      <td>3.5</td>\n",
       "      <td>https://im1.dineout.co.in/images/uploads/resta...</td>\n",
       "    </tr>\n",
       "    <tr>\n",
       "      <th>1</th>\n",
       "      <td>Jungle Jamboree</td>\n",
       "      <td>North Indian, Asian, Italian</td>\n",
       "      <td>3CS Mall,Lajpat Nagar - 3, South Delhi</td>\n",
       "      <td>3.9</td>\n",
       "      <td>https://im1.dineout.co.in/images/uploads/resta...</td>\n",
       "    </tr>\n",
       "    <tr>\n",
       "      <th>2</th>\n",
       "      <td>Castle Barbeque</td>\n",
       "      <td>Chinese, North Indian</td>\n",
       "      <td>Pacific Mall,Tagore Garden, West Delhi</td>\n",
       "      <td>3.9</td>\n",
       "      <td>https://im1.dineout.co.in/images/uploads/resta...</td>\n",
       "    </tr>\n",
       "    <tr>\n",
       "      <th>3</th>\n",
       "      <td>Cafe Knosh</td>\n",
       "      <td>Italian, Continental</td>\n",
       "      <td>The Leela Ambience Convention Hotel,Shahdara, ...</td>\n",
       "      <td>4.3</td>\n",
       "      <td>https://im1.dineout.co.in/images/uploads/resta...</td>\n",
       "    </tr>\n",
       "    <tr>\n",
       "      <th>4</th>\n",
       "      <td>The Barbeque Company</td>\n",
       "      <td>North Indian, Chinese</td>\n",
       "      <td>Gardens Galleria,Sector 38A, Noida</td>\n",
       "      <td>4</td>\n",
       "      <td>https://im1.dineout.co.in/images/uploads/resta...</td>\n",
       "    </tr>\n",
       "    <tr>\n",
       "      <th>5</th>\n",
       "      <td>India Grill</td>\n",
       "      <td>North Indian, Italian</td>\n",
       "      <td>Hilton Garden Inn,Saket, South Delhi</td>\n",
       "      <td>3.9</td>\n",
       "      <td>https://im1.dineout.co.in/images/uploads/resta...</td>\n",
       "    </tr>\n",
       "    <tr>\n",
       "      <th>6</th>\n",
       "      <td>Delhi Barbeque</td>\n",
       "      <td>North Indian</td>\n",
       "      <td>Taurus Sarovar Portico,Mahipalpur, South Delhi</td>\n",
       "      <td>3.7</td>\n",
       "      <td>https://im1.dineout.co.in/images/uploads/resta...</td>\n",
       "    </tr>\n",
       "    <tr>\n",
       "      <th>7</th>\n",
       "      <td>The Monarch - Bar Be Que Village</td>\n",
       "      <td>North Indian</td>\n",
       "      <td>Indirapuram Habitat Centre,Indirapuram, Ghaziabad</td>\n",
       "      <td>3.8</td>\n",
       "      <td>https://im1.dineout.co.in/images/uploads/resta...</td>\n",
       "    </tr>\n",
       "    <tr>\n",
       "      <th>8</th>\n",
       "      <td>World Cafe</td>\n",
       "      <td>North Indian, Italian</td>\n",
       "      <td>Vibe by The Lalit Traveller,Sector 35, Faridabad</td>\n",
       "      <td>4.3</td>\n",
       "      <td>https://im1.dineout.co.in/images/uploads/resta...</td>\n",
       "    </tr>\n",
       "    <tr>\n",
       "      <th>9</th>\n",
       "      <td>Indian Grill Room</td>\n",
       "      <td>North Indian, Mughlai</td>\n",
       "      <td>Suncity Business Tower,Golf Course Road, Gurgaon</td>\n",
       "      <td>4.3</td>\n",
       "      <td>https://im1.dineout.co.in/images/uploads/resta...</td>\n",
       "    </tr>\n",
       "    <tr>\n",
       "      <th>10</th>\n",
       "      <td>Mad 4 Bar B Que</td>\n",
       "      <td>North Indian</td>\n",
       "      <td>Sector 29, Faridabad</td>\n",
       "      <td>3.6</td>\n",
       "      <td>https://im1.dineout.co.in/images/uploads/resta...</td>\n",
       "    </tr>\n",
       "    <tr>\n",
       "      <th>11</th>\n",
       "      <td>Barbeque 29</td>\n",
       "      <td>North Indian, Mughlai, Desserts, Beverages</td>\n",
       "      <td>NIT, Faridabad</td>\n",
       "      <td>4.2</td>\n",
       "      <td>https://im1.dineout.co.in/images/uploads/resta...</td>\n",
       "    </tr>\n",
       "    <tr>\n",
       "      <th>12</th>\n",
       "      <td>Glasshouse</td>\n",
       "      <td>European, Italian, Asian, Continental</td>\n",
       "      <td>DoubleTree By Hilton Gurugram Baani Square,Sec...</td>\n",
       "      <td>4</td>\n",
       "      <td>https://im1.dineout.co.in/images/uploads/resta...</td>\n",
       "    </tr>\n",
       "  </tbody>\n",
       "</table>\n",
       "</div>"
      ],
      "text/plain": [
       "                     Restaurant Name  \\\n",
       "0                    Castle Barbeque   \n",
       "1                    Jungle Jamboree   \n",
       "2                    Castle Barbeque   \n",
       "3                         Cafe Knosh   \n",
       "4               The Barbeque Company   \n",
       "5                        India Grill   \n",
       "6                     Delhi Barbeque   \n",
       "7   The Monarch - Bar Be Que Village   \n",
       "8                         World Cafe   \n",
       "9                  Indian Grill Room   \n",
       "10                   Mad 4 Bar B Que   \n",
       "11                       Barbeque 29   \n",
       "12                        Glasshouse   \n",
       "\n",
       "                                        Cuisine  \\\n",
       "0                         North Indian, Chinese   \n",
       "1                  North Indian, Asian, Italian   \n",
       "2                         Chinese, North Indian   \n",
       "3                          Italian, Continental   \n",
       "4                         North Indian, Chinese   \n",
       "5                         North Indian, Italian   \n",
       "6                                  North Indian   \n",
       "7                                  North Indian   \n",
       "8                         North Indian, Italian   \n",
       "9                         North Indian, Mughlai   \n",
       "10                                 North Indian   \n",
       "11   North Indian, Mughlai, Desserts, Beverages   \n",
       "12        European, Italian, Asian, Continental   \n",
       "\n",
       "                                             Location Rating  \\\n",
       "0                      Connaught Place, Central Delhi    3.5   \n",
       "1              3CS Mall,Lajpat Nagar - 3, South Delhi    3.9   \n",
       "2              Pacific Mall,Tagore Garden, West Delhi    3.9   \n",
       "3   The Leela Ambience Convention Hotel,Shahdara, ...    4.3   \n",
       "4                  Gardens Galleria,Sector 38A, Noida      4   \n",
       "5                Hilton Garden Inn,Saket, South Delhi    3.9   \n",
       "6      Taurus Sarovar Portico,Mahipalpur, South Delhi    3.7   \n",
       "7   Indirapuram Habitat Centre,Indirapuram, Ghaziabad    3.8   \n",
       "8    Vibe by The Lalit Traveller,Sector 35, Faridabad    4.3   \n",
       "9    Suncity Business Tower,Golf Course Road, Gurgaon    4.3   \n",
       "10                               Sector 29, Faridabad    3.6   \n",
       "11                                     NIT, Faridabad    4.2   \n",
       "12  DoubleTree By Hilton Gurugram Baani Square,Sec...      4   \n",
       "\n",
       "                                            Image URL  \n",
       "0   https://im1.dineout.co.in/images/uploads/resta...  \n",
       "1   https://im1.dineout.co.in/images/uploads/resta...  \n",
       "2   https://im1.dineout.co.in/images/uploads/resta...  \n",
       "3   https://im1.dineout.co.in/images/uploads/resta...  \n",
       "4   https://im1.dineout.co.in/images/uploads/resta...  \n",
       "5   https://im1.dineout.co.in/images/uploads/resta...  \n",
       "6   https://im1.dineout.co.in/images/uploads/resta...  \n",
       "7   https://im1.dineout.co.in/images/uploads/resta...  \n",
       "8   https://im1.dineout.co.in/images/uploads/resta...  \n",
       "9   https://im1.dineout.co.in/images/uploads/resta...  \n",
       "10  https://im1.dineout.co.in/images/uploads/resta...  \n",
       "11  https://im1.dineout.co.in/images/uploads/resta...  \n",
       "12  https://im1.dineout.co.in/images/uploads/resta...  "
      ]
     },
     "execution_count": 991,
     "metadata": {},
     "output_type": "execute_result"
    }
   ],
   "source": [
    "dineout = pd.DataFrame({'Restaurant Name':name, 'Cuisine':cuisine, 'Location':loc, 'Rating':rating, 'Image URL':image})\n",
    "dineout"
   ]
  },
  {
   "cell_type": "code",
   "execution_count": null,
   "id": "d0255c1a",
   "metadata": {},
   "outputs": [],
   "source": [
    "'''10. Write a python program to scrape the details of top publications from Google Scholar from\n",
    "https://scholar.google.com/citations?view_op=top_venues&hl=en\n",
    "i) Rank\n",
    "ii) Publication\n",
    "iii) h5-index\n",
    "iv) h5-median'''"
   ]
  },
  {
   "cell_type": "code",
   "execution_count": 606,
   "id": "4a95d4a9",
   "metadata": {},
   "outputs": [
    {
     "data": {
      "text/plain": [
       "<Response [200]>"
      ]
     },
     "execution_count": 606,
     "metadata": {},
     "output_type": "execute_result"
    }
   ],
   "source": [
    "scholer = requests.get('https://scholar.google.com/citations?view_op=top_venues&hl=en')\n",
    "scholer"
   ]
  },
  {
   "cell_type": "code",
   "execution_count": 607,
   "id": "60e510bf",
   "metadata": {},
   "outputs": [],
   "source": [
    "conn = BeautifulSoup(scholer.content)"
   ]
  },
  {
   "cell_type": "code",
   "execution_count": 620,
   "id": "2bd9a18f",
   "metadata": {},
   "outputs": [],
   "source": [
    "publication = []\n",
    "for i in conn.find_all('td',class_=\"gsc_mvt_t\"):\n",
    "    publication.append(i.text)"
   ]
  },
  {
   "cell_type": "code",
   "execution_count": 621,
   "id": "c47ec356",
   "metadata": {},
   "outputs": [],
   "source": [
    "h5index = []\n",
    "for i in conn.find_all('a',class_=\"gs_ibl gsc_mp_anchor\"):\n",
    "    h5index.append(i.text)"
   ]
  },
  {
   "cell_type": "code",
   "execution_count": 622,
   "id": "95757a8d",
   "metadata": {},
   "outputs": [],
   "source": [
    "h5median = []\n",
    "for i in conn.find_all('span',class_=\"gs_ibl gsc_mp_anchor\"):\n",
    "    h5median.append(i.text)"
   ]
  },
  {
   "cell_type": "code",
   "execution_count": 627,
   "id": "f4f38bd5",
   "metadata": {},
   "outputs": [],
   "source": [
    "rank = []\n",
    "for i in range(1,101):\n",
    "    rank.append(i)"
   ]
  },
  {
   "cell_type": "code",
   "execution_count": 980,
   "id": "50ad5015",
   "metadata": {},
   "outputs": [
    {
     "data": {
      "text/html": [
       "<div>\n",
       "<style scoped>\n",
       "    .dataframe tbody tr th:only-of-type {\n",
       "        vertical-align: middle;\n",
       "    }\n",
       "\n",
       "    .dataframe tbody tr th {\n",
       "        vertical-align: top;\n",
       "    }\n",
       "\n",
       "    .dataframe thead th {\n",
       "        text-align: right;\n",
       "    }\n",
       "</style>\n",
       "<table border=\"1\" class=\"dataframe\">\n",
       "  <thead>\n",
       "    <tr style=\"text-align: right;\">\n",
       "      <th></th>\n",
       "      <th>Publication</th>\n",
       "      <th>h5-index</th>\n",
       "      <th>h5-median</th>\n",
       "    </tr>\n",
       "  </thead>\n",
       "  <tbody>\n",
       "    <tr>\n",
       "      <th>1</th>\n",
       "      <td>Nature</td>\n",
       "      <td>414</td>\n",
       "      <td>607</td>\n",
       "    </tr>\n",
       "    <tr>\n",
       "      <th>2</th>\n",
       "      <td>The New England Journal of Medicine</td>\n",
       "      <td>410</td>\n",
       "      <td>704</td>\n",
       "    </tr>\n",
       "    <tr>\n",
       "      <th>3</th>\n",
       "      <td>Science</td>\n",
       "      <td>391</td>\n",
       "      <td>564</td>\n",
       "    </tr>\n",
       "    <tr>\n",
       "      <th>4</th>\n",
       "      <td>IEEE/CVF Conference on Computer Vision and Pat...</td>\n",
       "      <td>356</td>\n",
       "      <td>583</td>\n",
       "    </tr>\n",
       "    <tr>\n",
       "      <th>5</th>\n",
       "      <td>The Lancet</td>\n",
       "      <td>345</td>\n",
       "      <td>600</td>\n",
       "    </tr>\n",
       "    <tr>\n",
       "      <th>...</th>\n",
       "      <td>...</td>\n",
       "      <td>...</td>\n",
       "      <td>...</td>\n",
       "    </tr>\n",
       "    <tr>\n",
       "      <th>96</th>\n",
       "      <td>Frontiers in Immunology</td>\n",
       "      <td>134</td>\n",
       "      <td>177</td>\n",
       "    </tr>\n",
       "    <tr>\n",
       "      <th>97</th>\n",
       "      <td>Small</td>\n",
       "      <td>134</td>\n",
       "      <td>173</td>\n",
       "    </tr>\n",
       "    <tr>\n",
       "      <th>98</th>\n",
       "      <td>Nature Immunology</td>\n",
       "      <td>133</td>\n",
       "      <td>210</td>\n",
       "    </tr>\n",
       "    <tr>\n",
       "      <th>99</th>\n",
       "      <td>JAMA Oncology</td>\n",
       "      <td>133</td>\n",
       "      <td>202</td>\n",
       "    </tr>\n",
       "    <tr>\n",
       "      <th>100</th>\n",
       "      <td>The Lancet Neurology</td>\n",
       "      <td>133</td>\n",
       "      <td>200</td>\n",
       "    </tr>\n",
       "  </tbody>\n",
       "</table>\n",
       "<p>100 rows × 3 columns</p>\n",
       "</div>"
      ],
      "text/plain": [
       "                                           Publication h5-index h5-median\n",
       "1                                               Nature      414       607\n",
       "2                  The New England Journal of Medicine      410       704\n",
       "3                                              Science      391       564\n",
       "4    IEEE/CVF Conference on Computer Vision and Pat...      356       583\n",
       "5                                           The Lancet      345       600\n",
       "..                                                 ...      ...       ...\n",
       "96                             Frontiers in Immunology      134       177\n",
       "97                                               Small      134       173\n",
       "98                                   Nature Immunology      133       210\n",
       "99                                       JAMA Oncology      133       202\n",
       "100                               The Lancet Neurology      133       200\n",
       "\n",
       "[100 rows x 3 columns]"
      ]
     },
     "execution_count": 980,
     "metadata": {},
     "output_type": "execute_result"
    }
   ],
   "source": [
    "metrics = pd.DataFrame({'Publication':publication, 'h5-index':h5index,'h5-median':h5median}, index = rank)\n",
    "metrics"
   ]
  },
  {
   "cell_type": "code",
   "execution_count": null,
   "id": "684f8bf2",
   "metadata": {},
   "outputs": [],
   "source": []
  }
 ],
 "metadata": {
  "kernelspec": {
   "display_name": "Python 3 (ipykernel)",
   "language": "python",
   "name": "python3"
  },
  "language_info": {
   "codemirror_mode": {
    "name": "ipython",
    "version": 3
   },
   "file_extension": ".py",
   "mimetype": "text/x-python",
   "name": "python",
   "nbconvert_exporter": "python",
   "pygments_lexer": "ipython3",
   "version": "3.9.7"
  }
 },
 "nbformat": 4,
 "nbformat_minor": 5
}
