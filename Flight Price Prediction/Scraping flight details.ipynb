{
 "cells": [
  {
   "cell_type": "code",
   "execution_count": 187,
   "id": "7edcca6a",
   "metadata": {},
   "outputs": [],
   "source": [
    "import selenium\n",
    "from selenium import webdriver\n",
    "import pandas as pd\n",
    "from selenium.webdriver.common.by import By\n",
    "from selenium.common.exceptions import NoSuchElementException\n",
    "\n",
    "import time\n",
    "import warnings\n",
    "warnings.filterwarnings('ignore')"
   ]
  },
  {
   "cell_type": "markdown",
   "id": "b373d841",
   "metadata": {},
   "source": [
    "## Yatra.com"
   ]
  },
  {
   "cell_type": "markdown",
   "id": "47bbd914",
   "metadata": {},
   "source": [
    "**New Delhi - Bangalore**\n",
    "\n",
    "**Date : 29/09/2022**"
   ]
  },
  {
   "cell_type": "code",
   "execution_count": 277,
   "id": "432fdd2d",
   "metadata": {},
   "outputs": [],
   "source": [
    "driver = webdriver.Chrome(r'/Users/mitssverma/FlipRobo/chromedriver')\n",
    "driver.get('https://flight.yatra.com/air-search-ui/dom2/trigger?type=O&viewName=normal&flexi=0&noOfSegments=1&origin=DEL&originCountry=IN&destination=BLR&destinationCountry=IN&flight_depart_date=29%2F09%2F2022&ADT=1&CHD=0&INF=0&class=Economy&source=fresco-home&unqvaldesktop=535632926034')"
   ]
  },
  {
   "cell_type": "code",
   "execution_count": 189,
   "id": "8d7fc14a",
   "metadata": {},
   "outputs": [],
   "source": [
    "for _ in range(500):\n",
    "    driver.execute_script(\"window.scrollBy(0,500)\")"
   ]
  },
  {
   "cell_type": "code",
   "execution_count": 190,
   "id": "befedc27",
   "metadata": {},
   "outputs": [],
   "source": [
    "airline,date,source,destination,dep,arr,stop,dur,pr,meal = [],[],[],[],[],[],[],[],[],[]"
   ]
  },
  {
   "cell_type": "code",
   "execution_count": 191,
   "id": "4f8dd901",
   "metadata": {},
   "outputs": [],
   "source": [
    "for i in driver.find_elements(By.XPATH,'//span[@class=\"i-b text ellipsis\"]'):\n",
    "    airline.append(i.text)\n",
    "    date.append('29/09/2022')\n",
    "    source.append('New Delhi')\n",
    "    destination.append('Bangalore')\n",
    "\n",
    "for i in driver.find_elements(By.XPATH,'//div[@class=\"i-b pr\"]'):\n",
    "    dep.append(i.text)\n",
    "    \n",
    "for i in driver.find_elements(By.XPATH,'//p[@class=\"bold fs-15 mb-2 pr time\"]'):\n",
    "    arr.append(i.text.split('\\n')[0])\n",
    "    \n",
    "for i in driver.find_elements(By.XPATH,'//div[@class=\" font-lightgrey fs-10 tipsy i-b fs-10\"]'):\n",
    "    stop.append(i.text)\n",
    "    \n",
    "for i in driver.find_elements(By.XPATH,'//p[@class=\"fs-12 bold du mb-2\"]'):\n",
    "    dur.append(i.text)\n",
    "    \n",
    "for i in driver.find_elements(By.XPATH,'//div[@class=\"pr i-b mr-2\"]'):\n",
    "    pr.append(i.text)\n",
    "    \n",
    "for i in driver.find_elements(By.XPATH,'//div[@class=\"features pull-right fs-12 flex\"]'):\n",
    "    try:\n",
    "        meal.append(i.text.split('\\n')[-3])\n",
    "    except:\n",
    "        meal.append('No Meal')"
   ]
  },
  {
   "cell_type": "code",
   "execution_count": 192,
   "id": "e91afa7d",
   "metadata": {},
   "outputs": [
    {
     "data": {
      "text/plain": [
       "(166, 166, 166, 166, 166, 166, 166, 166, 166, 166)"
      ]
     },
     "execution_count": 192,
     "metadata": {},
     "output_type": "execute_result"
    }
   ],
   "source": [
    "len(airline),len(date),len(source),len(destination),len(dep),len(arr),len(stop),len(dur),len(pr),len(meal)"
   ]
  },
  {
   "cell_type": "markdown",
   "id": "6eb3c62e",
   "metadata": {},
   "source": [
    "**New Delhi - Bangalore**\n",
    "\n",
    "**Date : 30/09/2022**"
   ]
  },
  {
   "cell_type": "code",
   "execution_count": 194,
   "id": "597ff1c9",
   "metadata": {},
   "outputs": [],
   "source": [
    "nex = driver.find_element(By.XPATH,'/html/body/section[2]/section/section[2]/section[1]/div[1]/div/div[1]/div/ul/li[8]/div/p[1]')\n",
    "nex.click()"
   ]
  },
  {
   "cell_type": "code",
   "execution_count": 195,
   "id": "e14cdf18",
   "metadata": {},
   "outputs": [],
   "source": [
    "for _ in range(500):\n",
    "    driver.execute_script(\"window.scrollBy(0,500)\")"
   ]
  },
  {
   "cell_type": "code",
   "execution_count": 196,
   "id": "eeebcb71",
   "metadata": {},
   "outputs": [],
   "source": [
    "for i in driver.find_elements(By.XPATH,'//span[@class=\"i-b text ellipsis\"]'):\n",
    "    airline.append(i.text)\n",
    "    date.append('30/09/2022')\n",
    "    source.append('New Delhi')\n",
    "    destination.append('Bangalore')\n",
    "\n",
    "for i in driver.find_elements(By.XPATH,'//div[@class=\"i-b pr\"]'):\n",
    "    dep.append(i.text)\n",
    "    \n",
    "for i in driver.find_elements(By.XPATH,'//p[@class=\"bold fs-15 mb-2 pr time\"]'):\n",
    "    arr.append(i.text.split('\\n')[0])\n",
    "    \n",
    "for i in driver.find_elements(By.XPATH,'//div[@class=\" font-lightgrey fs-10 tipsy i-b fs-10\"]'):\n",
    "    stop.append(i.text)\n",
    "    \n",
    "for i in driver.find_elements(By.XPATH,'//p[@class=\"fs-12 bold du mb-2\"]'):\n",
    "    dur.append(i.text)\n",
    "    \n",
    "for i in driver.find_elements(By.XPATH,'//div[@class=\"pr i-b mr-2\"]'):\n",
    "    pr.append(i.text)\n",
    "    \n",
    "for i in driver.find_elements(By.XPATH,'//div[@class=\"features pull-right fs-12 flex\"]'):\n",
    "    try:\n",
    "        meal.append(i.text.split('\\n')[-3])\n",
    "    except:\n",
    "        meal.append('No Meal')"
   ]
  },
  {
   "cell_type": "code",
   "execution_count": 197,
   "id": "34aee6ee",
   "metadata": {},
   "outputs": [
    {
     "data": {
      "text/plain": [
       "(329, 329, 329, 329, 329, 329, 329, 329, 329, 329)"
      ]
     },
     "execution_count": 197,
     "metadata": {},
     "output_type": "execute_result"
    }
   ],
   "source": [
    "len(airline),len(date),len(source),len(destination),len(dep),len(arr),len(stop),len(dur),len(pr),len(meal)"
   ]
  },
  {
   "cell_type": "markdown",
   "id": "c1c3930f",
   "metadata": {},
   "source": [
    "**New Delhi - Bangalore**\n",
    "\n",
    "**Date : 01/10/2022**"
   ]
  },
  {
   "cell_type": "code",
   "execution_count": 198,
   "id": "55c02c07",
   "metadata": {},
   "outputs": [],
   "source": [
    "nex = driver.find_element(By.XPATH,'/html/body/section[2]/section/section[2]/section[1]/div[1]/div/div[1]/div/ul/li[9]/div/p[1]')\n",
    "nex.click()"
   ]
  },
  {
   "cell_type": "code",
   "execution_count": 199,
   "id": "ec8bbc1a",
   "metadata": {},
   "outputs": [],
   "source": [
    "for _ in range(500):\n",
    "    driver.execute_script(\"window.scrollBy(0,500)\")"
   ]
  },
  {
   "cell_type": "code",
   "execution_count": 200,
   "id": "f0733138",
   "metadata": {},
   "outputs": [],
   "source": [
    "for i in driver.find_elements(By.XPATH,'//span[@class=\"i-b text ellipsis\"]'):\n",
    "    airline.append(i.text)\n",
    "    date.append('01/10/2022')\n",
    "    source.append('New Delhi')\n",
    "    destination.append('Bangalore')\n",
    "\n",
    "for i in driver.find_elements(By.XPATH,'//div[@class=\"i-b pr\"]'):\n",
    "    dep.append(i.text)\n",
    "    \n",
    "for i in driver.find_elements(By.XPATH,'//p[@class=\"bold fs-15 mb-2 pr time\"]'):\n",
    "    arr.append(i.text.split('\\n')[0])\n",
    "    \n",
    "for i in driver.find_elements(By.XPATH,'//div[@class=\" font-lightgrey fs-10 tipsy i-b fs-10\"]'):\n",
    "    stop.append(i.text)\n",
    "    \n",
    "for i in driver.find_elements(By.XPATH,'//p[@class=\"fs-12 bold du mb-2\"]'):\n",
    "    dur.append(i.text)\n",
    "    \n",
    "for i in driver.find_elements(By.XPATH,'//div[@class=\"pr i-b mr-2\"]'):\n",
    "    pr.append(i.text)\n",
    "    \n",
    "for i in driver.find_elements(By.XPATH,'//div[@class=\"features pull-right fs-12 flex\"]'):\n",
    "    try:\n",
    "        meal.append(i.text.split('\\n')[-3])\n",
    "    except:\n",
    "        meal.append('No Meal')"
   ]
  },
  {
   "cell_type": "code",
   "execution_count": 201,
   "id": "1f3e0dc5",
   "metadata": {},
   "outputs": [
    {
     "data": {
      "text/plain": [
       "(496, 496, 496, 496, 496, 496, 496, 496, 496, 496)"
      ]
     },
     "execution_count": 201,
     "metadata": {},
     "output_type": "execute_result"
    }
   ],
   "source": [
    "len(airline),len(date),len(source),len(destination),len(dep),len(arr),len(stop),len(dur),len(pr),len(meal)"
   ]
  },
  {
   "cell_type": "markdown",
   "id": "7a2fadf2",
   "metadata": {},
   "source": [
    "**New Delhi - Bangalore**\n",
    "\n",
    "**Date : 02/10/2022**"
   ]
  },
  {
   "cell_type": "code",
   "execution_count": 202,
   "id": "576834fd",
   "metadata": {},
   "outputs": [],
   "source": [
    "nex = driver.find_element(By.XPATH,'/html/body/section[2]/section/section[2]/section[1]/div[1]/div/div[1]/div/ul/li[10]/div/p[1]')\n",
    "nex.click()"
   ]
  },
  {
   "cell_type": "code",
   "execution_count": 203,
   "id": "b3eb2f25",
   "metadata": {},
   "outputs": [],
   "source": [
    "for _ in range(500):\n",
    "    driver.execute_script(\"window.scrollBy(0,500)\")"
   ]
  },
  {
   "cell_type": "code",
   "execution_count": 204,
   "id": "9c6a125f",
   "metadata": {},
   "outputs": [],
   "source": [
    "for i in driver.find_elements(By.XPATH,'//span[@class=\"i-b text ellipsis\"]'):\n",
    "    airline.append(i.text)\n",
    "    date.append('02/10/2022')\n",
    "    source.append('New Delhi')\n",
    "    destination.append('Bangalore')\n",
    "\n",
    "for i in driver.find_elements(By.XPATH,'//div[@class=\"i-b pr\"]'):\n",
    "    dep.append(i.text)\n",
    "    \n",
    "for i in driver.find_elements(By.XPATH,'//p[@class=\"bold fs-15 mb-2 pr time\"]'):\n",
    "    arr.append(i.text.split('\\n')[0])\n",
    "    \n",
    "for i in driver.find_elements(By.XPATH,'//div[@class=\" font-lightgrey fs-10 tipsy i-b fs-10\"]'):\n",
    "    stop.append(i.text)\n",
    "    \n",
    "for i in driver.find_elements(By.XPATH,'//p[@class=\"fs-12 bold du mb-2\"]'):\n",
    "    dur.append(i.text)\n",
    "    \n",
    "for i in driver.find_elements(By.XPATH,'//div[@class=\"pr i-b mr-2\"]'):\n",
    "    pr.append(i.text)\n",
    "    \n",
    "for i in driver.find_elements(By.XPATH,'//div[@class=\"features pull-right fs-12 flex\"]'):\n",
    "    try:\n",
    "        meal.append(i.text.split('\\n')[-3])\n",
    "    except:\n",
    "        meal.append('No Meal')"
   ]
  },
  {
   "cell_type": "code",
   "execution_count": 205,
   "id": "70c07136",
   "metadata": {},
   "outputs": [
    {
     "data": {
      "text/plain": [
       "(665, 665, 665, 665, 665, 665, 665, 665, 665, 665)"
      ]
     },
     "execution_count": 205,
     "metadata": {},
     "output_type": "execute_result"
    }
   ],
   "source": [
    "len(airline),len(date),len(source),len(destination),len(dep),len(arr),len(stop),len(dur),len(pr),len(meal)"
   ]
  },
  {
   "cell_type": "markdown",
   "id": "e6fba0d5",
   "metadata": {},
   "source": [
    "**Pune - Indore**\n",
    "\n",
    "**Date : 29/09/2022**"
   ]
  },
  {
   "cell_type": "code",
   "execution_count": 206,
   "id": "d41cac81",
   "metadata": {},
   "outputs": [],
   "source": [
    "driver.get('https://flight.yatra.com/air-search-ui/dom2/trigger?type=O&viewName=normal&flexi=0&noOfSegments=1&origin=PNQ&originCountry=IN&destination=IDR&destinationCountry=IN&flight_depart_date=29%2F09%2F2022&ADT=1&CHD=0&INF=0&class=Economy&source=fresco-home&unqvaldesktop=22931696932')"
   ]
  },
  {
   "cell_type": "code",
   "execution_count": 207,
   "id": "a4b06852",
   "metadata": {},
   "outputs": [],
   "source": [
    "for i in driver.find_elements(By.XPATH,'//span[@class=\"i-b text ellipsis\"]'):\n",
    "    airline.append(i.text)\n",
    "    date.append('29/09/2022')\n",
    "    source.append('Pune')\n",
    "    destination.append('Indore')\n",
    "\n",
    "for i in driver.find_elements(By.XPATH,'//div[@class=\"i-b pr\"]'):\n",
    "    dep.append(i.text)\n",
    "    \n",
    "for i in driver.find_elements(By.XPATH,'//p[@class=\"bold fs-15 mb-2 pr time\"]'):\n",
    "    arr.append(i.text.split('\\n')[0])\n",
    "    \n",
    "for i in driver.find_elements(By.XPATH,'//div[@class=\" font-lightgrey fs-10 tipsy i-b fs-10\"]'):\n",
    "    stop.append(i.text)\n",
    "    \n",
    "for i in driver.find_elements(By.XPATH,'//p[@class=\"fs-12 bold du mb-2\"]'):\n",
    "    dur.append(i.text)\n",
    "    \n",
    "for i in driver.find_elements(By.XPATH,'//div[@class=\"pr i-b mr-2\"]'):\n",
    "    pr.append(i.text)\n",
    "    \n",
    "for i in driver.find_elements(By.XPATH,'//div[@class=\"features pull-right fs-12 flex\"]'):\n",
    "    try:\n",
    "        meal.append(i.text.split('\\n')[-3])\n",
    "    except:\n",
    "        meal.append('No Meal')"
   ]
  },
  {
   "cell_type": "code",
   "execution_count": 208,
   "id": "935ebd78",
   "metadata": {},
   "outputs": [
    {
     "data": {
      "text/plain": [
       "(698, 698, 698, 698, 698, 698, 698, 698, 698, 698)"
      ]
     },
     "execution_count": 208,
     "metadata": {},
     "output_type": "execute_result"
    }
   ],
   "source": [
    "len(airline),len(date),len(source),len(destination),len(dep),len(arr),len(stop),len(dur),len(pr),len(meal)"
   ]
  },
  {
   "cell_type": "markdown",
   "id": "4109b176",
   "metadata": {},
   "source": [
    "**Pune - Indore**\n",
    "\n",
    "**Date : 30/09/2022**"
   ]
  },
  {
   "cell_type": "code",
   "execution_count": 209,
   "id": "5e45ac00",
   "metadata": {},
   "outputs": [],
   "source": [
    "nex = driver.find_element(By.XPATH,'/html/body/section[2]/section/section[2]/section[1]/div[1]/div/div[1]/div/ul/li[8]/div/p[1]')\n",
    "nex.click()"
   ]
  },
  {
   "cell_type": "code",
   "execution_count": 210,
   "id": "15bbfa84",
   "metadata": {},
   "outputs": [],
   "source": [
    "for i in driver.find_elements(By.XPATH,'//span[@class=\"i-b text ellipsis\"]'):\n",
    "    airline.append(i.text)\n",
    "    date.append('30/09/2022')\n",
    "    source.append('Pune')\n",
    "    destination.append('Indore')\n",
    "\n",
    "for i in driver.find_elements(By.XPATH,'//div[@class=\"i-b pr\"]'):\n",
    "    dep.append(i.text)\n",
    "    \n",
    "for i in driver.find_elements(By.XPATH,'//p[@class=\"bold fs-15 mb-2 pr time\"]'):\n",
    "    arr.append(i.text.split('\\n')[0])\n",
    "    \n",
    "for i in driver.find_elements(By.XPATH,'//div[@class=\" font-lightgrey fs-10 tipsy i-b fs-10\"]'):\n",
    "    stop.append(i.text)\n",
    "    \n",
    "for i in driver.find_elements(By.XPATH,'//p[@class=\"fs-12 bold du mb-2\"]'):\n",
    "    dur.append(i.text)\n",
    "    \n",
    "for i in driver.find_elements(By.XPATH,'//div[@class=\"pr i-b mr-2\"]'):\n",
    "    pr.append(i.text)\n",
    "    \n",
    "for i in driver.find_elements(By.XPATH,'//div[@class=\"features pull-right fs-12 flex\"]'):\n",
    "    try:\n",
    "        meal.append(i.text.split('\\n')[-3])\n",
    "    except:\n",
    "        meal.append('No Meal')"
   ]
  },
  {
   "cell_type": "code",
   "execution_count": 211,
   "id": "6cf47b82",
   "metadata": {},
   "outputs": [
    {
     "data": {
      "text/plain": [
       "(726, 726, 726, 726, 726, 726, 726, 726, 726, 726)"
      ]
     },
     "execution_count": 211,
     "metadata": {},
     "output_type": "execute_result"
    }
   ],
   "source": [
    "len(airline),len(date),len(source),len(destination),len(dep),len(arr),len(stop),len(dur),len(pr),len(meal)"
   ]
  },
  {
   "cell_type": "markdown",
   "id": "79d9592e",
   "metadata": {},
   "source": [
    "**Pune - Indore**\n",
    "\n",
    "**Date : 01/10/2022**"
   ]
  },
  {
   "cell_type": "code",
   "execution_count": 212,
   "id": "00515435",
   "metadata": {},
   "outputs": [],
   "source": [
    "nex = driver.find_element(By.XPATH,'/html/body/section[2]/section/section[2]/section[1]/div[1]/div/div[1]/div/ul/li[9]/div/p[1]')\n",
    "nex.click()"
   ]
  },
  {
   "cell_type": "code",
   "execution_count": 213,
   "id": "7600b24b",
   "metadata": {},
   "outputs": [
    {
     "data": {
      "text/plain": [
       "(748, 748, 748, 748, 748, 748, 748, 748, 748, 748)"
      ]
     },
     "execution_count": 213,
     "metadata": {},
     "output_type": "execute_result"
    }
   ],
   "source": [
    "for i in driver.find_elements(By.XPATH,'//span[@class=\"i-b text ellipsis\"]'):\n",
    "    airline.append(i.text)\n",
    "    date.append('01/10/2022')\n",
    "    source.append('Pune')\n",
    "    destination.append('Indore')\n",
    "\n",
    "for i in driver.find_elements(By.XPATH,'//div[@class=\"i-b pr\"]'):\n",
    "    dep.append(i.text)\n",
    "    \n",
    "for i in driver.find_elements(By.XPATH,'//p[@class=\"bold fs-15 mb-2 pr time\"]'):\n",
    "    arr.append(i.text.split('\\n')[0])\n",
    "    \n",
    "for i in driver.find_elements(By.XPATH,'//div[@class=\" font-lightgrey fs-10 tipsy i-b fs-10\"]'):\n",
    "    stop.append(i.text)\n",
    "    \n",
    "for i in driver.find_elements(By.XPATH,'//p[@class=\"fs-12 bold du mb-2\"]'):\n",
    "    dur.append(i.text)\n",
    "    \n",
    "for i in driver.find_elements(By.XPATH,'//div[@class=\"pr i-b mr-2\"]'):\n",
    "    pr.append(i.text)\n",
    "    \n",
    "for i in driver.find_elements(By.XPATH,'//div[@class=\"features pull-right fs-12 flex\"]'):\n",
    "    try:\n",
    "        meal.append(i.text.split('\\n')[-3])\n",
    "    except:\n",
    "        meal.append('No Meal')\n",
    "        \n",
    "len(airline),len(date),len(source),len(destination),len(dep),len(arr),len(stop),len(dur),len(pr),len(meal)"
   ]
  },
  {
   "cell_type": "markdown",
   "id": "60da7acc",
   "metadata": {},
   "source": [
    "**Pune - Indore**\n",
    "\n",
    "**Date : 02/10/2022**"
   ]
  },
  {
   "cell_type": "code",
   "execution_count": 214,
   "id": "1ae6daf8",
   "metadata": {},
   "outputs": [],
   "source": [
    "nex = driver.find_element(By.XPATH,'/html/body/section[2]/section/section[2]/section[1]/div[1]/div/div[1]/div/ul/li[10]/div/p[1]')\n",
    "nex.click()"
   ]
  },
  {
   "cell_type": "code",
   "execution_count": 215,
   "id": "bf7e2939",
   "metadata": {},
   "outputs": [
    {
     "data": {
      "text/plain": [
       "(773, 773, 773, 773, 773, 773, 773, 773, 773, 773)"
      ]
     },
     "execution_count": 215,
     "metadata": {},
     "output_type": "execute_result"
    }
   ],
   "source": [
    "for i in driver.find_elements(By.XPATH,'//span[@class=\"i-b text ellipsis\"]'):\n",
    "    airline.append(i.text)\n",
    "    date.append('02/10/2022')\n",
    "    source.append('Pune')\n",
    "    destination.append('Indore')\n",
    "\n",
    "for i in driver.find_elements(By.XPATH,'//div[@class=\"i-b pr\"]'):\n",
    "    dep.append(i.text)\n",
    "    \n",
    "for i in driver.find_elements(By.XPATH,'//p[@class=\"bold fs-15 mb-2 pr time\"]'):\n",
    "    arr.append(i.text.split('\\n')[0])\n",
    "    \n",
    "for i in driver.find_elements(By.XPATH,'//div[@class=\" font-lightgrey fs-10 tipsy i-b fs-10\"]'):\n",
    "    stop.append(i.text)\n",
    "    \n",
    "for i in driver.find_elements(By.XPATH,'//p[@class=\"fs-12 bold du mb-2\"]'):\n",
    "    dur.append(i.text)\n",
    "    \n",
    "for i in driver.find_elements(By.XPATH,'//div[@class=\"pr i-b mr-2\"]'):\n",
    "    pr.append(i.text)\n",
    "    \n",
    "for i in driver.find_elements(By.XPATH,'//div[@class=\"features pull-right fs-12 flex\"]'):\n",
    "    try:\n",
    "        meal.append(i.text.split('\\n')[-3])\n",
    "    except:\n",
    "        meal.append('No Meal')\n",
    "        \n",
    "len(airline),len(date),len(source),len(destination),len(dep),len(arr),len(stop),len(dur),len(pr),len(meal)"
   ]
  },
  {
   "cell_type": "markdown",
   "id": "613e7a3a",
   "metadata": {},
   "source": [
    "**Kolkata - Bangalore**\n",
    "\n",
    "**Date : 29/09/2022**"
   ]
  },
  {
   "cell_type": "code",
   "execution_count": 216,
   "id": "64b0dbe9",
   "metadata": {},
   "outputs": [],
   "source": [
    "driver.get('https://flight.yatra.com/air-search-ui/dom2/trigger?type=O&viewName=normal&flexi=0&noOfSegments=1&origin=CCU&originCountry=IN&destination=BLR&destinationCountry=IN&flight_depart_date=29%2F09%2F2022&ADT=1&CHD=0&INF=0&class=Economy&source=fresco-home&unqvaldesktop=816702656361')"
   ]
  },
  {
   "cell_type": "code",
   "execution_count": 217,
   "id": "4e60f65e",
   "metadata": {},
   "outputs": [],
   "source": [
    "for _ in range(500):\n",
    "    driver.execute_script(\"window.scrollBy(0,500)\")"
   ]
  },
  {
   "cell_type": "code",
   "execution_count": 218,
   "id": "cd35bb7f",
   "metadata": {},
   "outputs": [
    {
     "data": {
      "text/plain": [
       "(902, 902, 902, 902, 902, 902, 902, 902, 902, 902)"
      ]
     },
     "execution_count": 218,
     "metadata": {},
     "output_type": "execute_result"
    }
   ],
   "source": [
    "for i in driver.find_elements(By.XPATH,'//span[@class=\"i-b text ellipsis\"]'):\n",
    "    airline.append(i.text)\n",
    "    date.append('29/09/2022')\n",
    "    source.append('Kolkata')\n",
    "    destination.append('Bangalore')\n",
    "\n",
    "for i in driver.find_elements(By.XPATH,'//div[@class=\"i-b pr\"]'):\n",
    "    dep.append(i.text)\n",
    "    \n",
    "for i in driver.find_elements(By.XPATH,'//p[@class=\"bold fs-15 mb-2 pr time\"]'):\n",
    "    arr.append(i.text.split('\\n')[0])\n",
    "    \n",
    "for i in driver.find_elements(By.XPATH,'//div[@class=\" font-lightgrey fs-10 tipsy i-b fs-10\"]'):\n",
    "    stop.append(i.text)\n",
    "    \n",
    "for i in driver.find_elements(By.XPATH,'//p[@class=\"fs-12 bold du mb-2\"]'):\n",
    "    dur.append(i.text)\n",
    "    \n",
    "for i in driver.find_elements(By.XPATH,'//div[@class=\"pr i-b mr-2\"]'):\n",
    "    pr.append(i.text)\n",
    "    \n",
    "for i in driver.find_elements(By.XPATH,'//div[@class=\"features pull-right fs-12 flex\"]'):\n",
    "    try:\n",
    "        meal.append(i.text.split('\\n')[-3])\n",
    "    except:\n",
    "        meal.append('No Meal')\n",
    "        \n",
    "len(airline),len(date),len(source),len(destination),len(dep),len(arr),len(stop),len(dur),len(pr),len(meal)"
   ]
  },
  {
   "cell_type": "markdown",
   "id": "3ed37e1d",
   "metadata": {},
   "source": [
    "**Kolkata - Bangalore**\n",
    "\n",
    "**Date : 30/09/2022**"
   ]
  },
  {
   "cell_type": "code",
   "execution_count": 219,
   "id": "5c9ce12b",
   "metadata": {},
   "outputs": [],
   "source": [
    "nex = driver.find_element(By.XPATH,'/html/body/section[2]/section/section[2]/section[1]/div[1]/div/div[1]/div/ul/li[8]/div/p[1]')\n",
    "nex.click()"
   ]
  },
  {
   "cell_type": "code",
   "execution_count": 220,
   "id": "2635fadb",
   "metadata": {},
   "outputs": [],
   "source": [
    "for _ in range(500):\n",
    "    driver.execute_script(\"window.scrollBy(0,500)\")"
   ]
  },
  {
   "cell_type": "code",
   "execution_count": 221,
   "id": "2683a40b",
   "metadata": {},
   "outputs": [
    {
     "data": {
      "text/plain": [
       "(1039, 1039, 1039, 1039, 1039, 1039, 1039, 1039, 1039, 1039)"
      ]
     },
     "execution_count": 221,
     "metadata": {},
     "output_type": "execute_result"
    }
   ],
   "source": [
    "for i in driver.find_elements(By.XPATH,'//span[@class=\"i-b text ellipsis\"]'):\n",
    "    airline.append(i.text)\n",
    "    date.append('30/09/2022')\n",
    "    source.append('Kolkata')\n",
    "    destination.append('Bangalore')\n",
    "\n",
    "for i in driver.find_elements(By.XPATH,'//div[@class=\"i-b pr\"]'):\n",
    "    dep.append(i.text)\n",
    "    \n",
    "for i in driver.find_elements(By.XPATH,'//p[@class=\"bold fs-15 mb-2 pr time\"]'):\n",
    "    arr.append(i.text.split('\\n')[0])\n",
    "    \n",
    "for i in driver.find_elements(By.XPATH,'//div[@class=\" font-lightgrey fs-10 tipsy i-b fs-10\"]'):\n",
    "    stop.append(i.text)\n",
    "    \n",
    "for i in driver.find_elements(By.XPATH,'//p[@class=\"fs-12 bold du mb-2\"]'):\n",
    "    dur.append(i.text)\n",
    "    \n",
    "for i in driver.find_elements(By.XPATH,'//div[@class=\"pr i-b mr-2\"]'):\n",
    "    pr.append(i.text)\n",
    "    \n",
    "for i in driver.find_elements(By.XPATH,'//div[@class=\"features pull-right fs-12 flex\"]'):\n",
    "    try:\n",
    "        meal.append(i.text.split('\\n')[-3])\n",
    "    except:\n",
    "        meal.append('No Meal')\n",
    "        \n",
    "len(airline),len(date),len(source),len(destination),len(dep),len(arr),len(stop),len(dur),len(pr),len(meal)"
   ]
  },
  {
   "cell_type": "markdown",
   "id": "02179a29",
   "metadata": {},
   "source": [
    "**Kolkata - Bangalore**\n",
    "\n",
    "**Date : 01/10/2022**"
   ]
  },
  {
   "cell_type": "code",
   "execution_count": 222,
   "id": "cca57b43",
   "metadata": {},
   "outputs": [],
   "source": [
    "nex = driver.find_element(By.XPATH,'/html/body/section[2]/section/section[2]/section[1]/div[1]/div/div[1]/div/ul/li[9]/div/p[1]')\n",
    "nex.click()"
   ]
  },
  {
   "cell_type": "code",
   "execution_count": 223,
   "id": "9d390519",
   "metadata": {},
   "outputs": [],
   "source": [
    "for _ in range(500):\n",
    "    driver.execute_script(\"window.scrollBy(0,500)\")"
   ]
  },
  {
   "cell_type": "code",
   "execution_count": 224,
   "id": "b641eeaa",
   "metadata": {},
   "outputs": [
    {
     "data": {
      "text/plain": [
       "(1170, 1170, 1170, 1170, 1170, 1170, 1170, 1170, 1170, 1170)"
      ]
     },
     "execution_count": 224,
     "metadata": {},
     "output_type": "execute_result"
    }
   ],
   "source": [
    "for i in driver.find_elements(By.XPATH,'//span[@class=\"i-b text ellipsis\"]'):\n",
    "    airline.append(i.text)\n",
    "    date.append('01/10/2022')\n",
    "    source.append('Kolkata')\n",
    "    destination.append('Bangalore')\n",
    "\n",
    "for i in driver.find_elements(By.XPATH,'//div[@class=\"i-b pr\"]'):\n",
    "    dep.append(i.text)\n",
    "    \n",
    "for i in driver.find_elements(By.XPATH,'//p[@class=\"bold fs-15 mb-2 pr time\"]'):\n",
    "    arr.append(i.text.split('\\n')[0])\n",
    "    \n",
    "for i in driver.find_elements(By.XPATH,'//div[@class=\" font-lightgrey fs-10 tipsy i-b fs-10\"]'):\n",
    "    stop.append(i.text)\n",
    "    \n",
    "for i in driver.find_elements(By.XPATH,'//p[@class=\"fs-12 bold du mb-2\"]'):\n",
    "    dur.append(i.text)\n",
    "    \n",
    "for i in driver.find_elements(By.XPATH,'//div[@class=\"pr i-b mr-2\"]'):\n",
    "    pr.append(i.text)\n",
    "    \n",
    "for i in driver.find_elements(By.XPATH,'//div[@class=\"features pull-right fs-12 flex\"]'):\n",
    "    try:\n",
    "        meal.append(i.text.split('\\n')[-3])\n",
    "    except:\n",
    "        meal.append('No Meal')\n",
    "        \n",
    "len(airline),len(date),len(source),len(destination),len(dep),len(arr),len(stop),len(dur),len(pr),len(meal)"
   ]
  },
  {
   "cell_type": "markdown",
   "id": "0ce6a273",
   "metadata": {},
   "source": [
    "**Kolkata - Bangalore**\n",
    "\n",
    "**Date : 02/10/2022**"
   ]
  },
  {
   "cell_type": "code",
   "execution_count": 225,
   "id": "6580479c",
   "metadata": {},
   "outputs": [],
   "source": [
    "nex = driver.find_element(By.XPATH,'/html/body/section[2]/section/section[2]/section[1]/div[1]/div/div[1]/div/ul/li[9]/div/p[1]')\n",
    "nex.click()"
   ]
  },
  {
   "cell_type": "code",
   "execution_count": 226,
   "id": "99125584",
   "metadata": {},
   "outputs": [],
   "source": [
    "for _ in range(500):\n",
    "    driver.execute_script(\"window.scrollBy(0,500)\")"
   ]
  },
  {
   "cell_type": "code",
   "execution_count": 227,
   "id": "209a12f6",
   "metadata": {},
   "outputs": [
    {
     "data": {
      "text/plain": [
       "(1301, 1301, 1301, 1301, 1301, 1301, 1301, 1301, 1301, 1301)"
      ]
     },
     "execution_count": 227,
     "metadata": {},
     "output_type": "execute_result"
    }
   ],
   "source": [
    "for i in driver.find_elements(By.XPATH,'//span[@class=\"i-b text ellipsis\"]'):\n",
    "    airline.append(i.text)\n",
    "    date.append('02/10/2022')\n",
    "    source.append('Kolkata')\n",
    "    destination.append('Bangalore')\n",
    "\n",
    "for i in driver.find_elements(By.XPATH,'//div[@class=\"i-b pr\"]'):\n",
    "    dep.append(i.text)\n",
    "    \n",
    "for i in driver.find_elements(By.XPATH,'//p[@class=\"bold fs-15 mb-2 pr time\"]'):\n",
    "    arr.append(i.text.split('\\n')[0])\n",
    "    \n",
    "for i in driver.find_elements(By.XPATH,'//div[@class=\" font-lightgrey fs-10 tipsy i-b fs-10\"]'):\n",
    "    stop.append(i.text)\n",
    "    \n",
    "for i in driver.find_elements(By.XPATH,'//p[@class=\"fs-12 bold du mb-2\"]'):\n",
    "    dur.append(i.text)\n",
    "    \n",
    "for i in driver.find_elements(By.XPATH,'//div[@class=\"pr i-b mr-2\"]'):\n",
    "    pr.append(i.text)\n",
    "    \n",
    "for i in driver.find_elements(By.XPATH,'//div[@class=\"features pull-right fs-12 flex\"]'):\n",
    "    try:\n",
    "        meal.append(i.text.split('\\n')[-3])\n",
    "    except:\n",
    "        meal.append('No Meal')\n",
    "        \n",
    "len(airline),len(date),len(source),len(destination),len(dep),len(arr),len(stop),len(dur),len(pr),len(meal)"
   ]
  },
  {
   "cell_type": "markdown",
   "id": "9ce706d1",
   "metadata": {},
   "source": [
    "**Indore - Goa**\n",
    "\n",
    "**Date : 29/09/2022**"
   ]
  },
  {
   "cell_type": "code",
   "execution_count": 228,
   "id": "9abe3f7f",
   "metadata": {},
   "outputs": [],
   "source": [
    "driver.get('https://flight.yatra.com/air-search-ui/dom2/trigger?ADT=1&CHD=0&INF=0&class=Economy&destination=GOI&destinationCountry=IN&flexi=0&flight_depart_date=29%2F09%2F2022&hb=0&noOfSegments=1&origin=IDR&originCountry=IN&type=O&unique=1663922749876&viewName=normal')"
   ]
  },
  {
   "cell_type": "code",
   "execution_count": 229,
   "id": "434af3d7",
   "metadata": {},
   "outputs": [],
   "source": [
    "for _ in range(500):\n",
    "    driver.execute_script(\"window.scrollBy(0,500)\")"
   ]
  },
  {
   "cell_type": "code",
   "execution_count": 230,
   "id": "ab490e4b",
   "metadata": {},
   "outputs": [
    {
     "data": {
      "text/plain": [
       "(1326, 1326, 1326, 1326, 1326, 1326, 1326, 1326, 1326, 1326)"
      ]
     },
     "execution_count": 230,
     "metadata": {},
     "output_type": "execute_result"
    }
   ],
   "source": [
    "for i in driver.find_elements(By.XPATH,'//span[@class=\"i-b text ellipsis\"]'):\n",
    "    airline.append(i.text)\n",
    "    date.append('29/09/2022')\n",
    "    source.append('Indore')\n",
    "    destination.append('Goa')\n",
    "\n",
    "for i in driver.find_elements(By.XPATH,'//div[@class=\"i-b pr\"]'):\n",
    "    dep.append(i.text)\n",
    "    \n",
    "for i in driver.find_elements(By.XPATH,'//p[@class=\"bold fs-15 mb-2 pr time\"]'):\n",
    "    arr.append(i.text.split('\\n')[0])\n",
    "    \n",
    "for i in driver.find_elements(By.XPATH,'//div[@class=\" font-lightgrey fs-10 tipsy i-b fs-10\"]'):\n",
    "    stop.append(i.text)\n",
    "    \n",
    "for i in driver.find_elements(By.XPATH,'//p[@class=\"fs-12 bold du mb-2\"]'):\n",
    "    dur.append(i.text)\n",
    "    \n",
    "for i in driver.find_elements(By.XPATH,'//div[@class=\"pr i-b mr-2\"]'):\n",
    "    pr.append(i.text)\n",
    "    \n",
    "for i in driver.find_elements(By.XPATH,'//div[@class=\"features pull-right fs-12 flex\"]'):\n",
    "    try:\n",
    "        meal.append(i.text.split('\\n')[-3])\n",
    "    except:\n",
    "        meal.append('No Meal')\n",
    "        \n",
    "len(airline),len(date),len(source),len(destination),len(dep),len(arr),len(stop),len(dur),len(pr),len(meal)"
   ]
  },
  {
   "cell_type": "markdown",
   "id": "e09eb266",
   "metadata": {},
   "source": [
    "**Indore - Goa**\n",
    "\n",
    "**Date : 30/09/2022**"
   ]
  },
  {
   "cell_type": "code",
   "execution_count": 231,
   "id": "0669a915",
   "metadata": {},
   "outputs": [],
   "source": [
    "nex = driver.find_element(By.XPATH,'/html/body/section[2]/section/section[2]/section[1]/div[1]/div/div[1]/div/ul/li[8]/div/p[1]')\n",
    "nex.click()"
   ]
  },
  {
   "cell_type": "code",
   "execution_count": 232,
   "id": "9a3b46ce",
   "metadata": {},
   "outputs": [],
   "source": [
    "for _ in range(500):\n",
    "    driver.execute_script(\"window.scrollBy(0,500)\")"
   ]
  },
  {
   "cell_type": "code",
   "execution_count": 233,
   "id": "2a0cd76f",
   "metadata": {},
   "outputs": [
    {
     "data": {
      "text/plain": [
       "(1374, 1374, 1374, 1374, 1374, 1374, 1374, 1374, 1374, 1374)"
      ]
     },
     "execution_count": 233,
     "metadata": {},
     "output_type": "execute_result"
    }
   ],
   "source": [
    "for i in driver.find_elements(By.XPATH,'//span[@class=\"i-b text ellipsis\"]'):\n",
    "    airline.append(i.text)\n",
    "    date.append('30/09/2022')\n",
    "    source.append('Indore')\n",
    "    destination.append('Goa')\n",
    "\n",
    "for i in driver.find_elements(By.XPATH,'//div[@class=\"i-b pr\"]'):\n",
    "    dep.append(i.text)\n",
    "    \n",
    "for i in driver.find_elements(By.XPATH,'//p[@class=\"bold fs-15 mb-2 pr time\"]'):\n",
    "    arr.append(i.text.split('\\n')[0])\n",
    "    \n",
    "for i in driver.find_elements(By.XPATH,'//div[@class=\" font-lightgrey fs-10 tipsy i-b fs-10\"]'):\n",
    "    stop.append(i.text)\n",
    "    \n",
    "for i in driver.find_elements(By.XPATH,'//p[@class=\"fs-12 bold du mb-2\"]'):\n",
    "    dur.append(i.text)\n",
    "    \n",
    "for i in driver.find_elements(By.XPATH,'//div[@class=\"pr i-b mr-2\"]'):\n",
    "    pr.append(i.text)\n",
    "    \n",
    "for i in driver.find_elements(By.XPATH,'//div[@class=\"features pull-right fs-12 flex\"]'):\n",
    "    try:\n",
    "        meal.append(i.text.split('\\n')[-3])\n",
    "    except:\n",
    "        meal.append('No Meal')\n",
    "        \n",
    "len(airline),len(date),len(source),len(destination),len(dep),len(arr),len(stop),len(dur),len(pr),len(meal)"
   ]
  },
  {
   "cell_type": "markdown",
   "id": "35edd317",
   "metadata": {},
   "source": [
    "**Indore - Goa**\n",
    "\n",
    "**Date : 01/10/2022**"
   ]
  },
  {
   "cell_type": "code",
   "execution_count": 237,
   "id": "3cd91fde",
   "metadata": {},
   "outputs": [],
   "source": [
    "nex = driver.find_element(By.XPATH,'/html/body/section[2]/section/section[2]/section[1]/div[1]/div/div[1]/div/ul/li[9]/div/p[1]')\n",
    "nex.click()"
   ]
  },
  {
   "cell_type": "code",
   "execution_count": 238,
   "id": "f4816f51",
   "metadata": {},
   "outputs": [],
   "source": [
    "for _ in range(500):\n",
    "    driver.execute_script(\"window.scrollBy(0,500)\")"
   ]
  },
  {
   "cell_type": "code",
   "execution_count": 239,
   "id": "daf7f926",
   "metadata": {},
   "outputs": [
    {
     "data": {
      "text/plain": [
       "(1419, 1419, 1419, 1419, 1419, 1419, 1419, 1419, 1419, 1419)"
      ]
     },
     "execution_count": 239,
     "metadata": {},
     "output_type": "execute_result"
    }
   ],
   "source": [
    "for i in driver.find_elements(By.XPATH,'//span[@class=\"i-b text ellipsis\"]'):\n",
    "    airline.append(i.text)\n",
    "    date.append('01/10/2022')\n",
    "    source.append('Indore')\n",
    "    destination.append('Goa')\n",
    "\n",
    "for i in driver.find_elements(By.XPATH,'//div[@class=\"i-b pr\"]'):\n",
    "    dep.append(i.text)\n",
    "    \n",
    "for i in driver.find_elements(By.XPATH,'//p[@class=\"bold fs-15 mb-2 pr time\"]'):\n",
    "    arr.append(i.text.split('\\n')[0])\n",
    "    \n",
    "for i in driver.find_elements(By.XPATH,'//div[@class=\" font-lightgrey fs-10 tipsy i-b fs-10\"]'):\n",
    "    stop.append(i.text)\n",
    "    \n",
    "for i in driver.find_elements(By.XPATH,'//p[@class=\"fs-12 bold du mb-2\"]'):\n",
    "    dur.append(i.text)\n",
    "    \n",
    "for i in driver.find_elements(By.XPATH,'//div[@class=\"pr i-b mr-2\"]'):\n",
    "    pr.append(i.text)\n",
    "    \n",
    "for i in driver.find_elements(By.XPATH,'//div[@class=\"features pull-right fs-12 flex\"]'):\n",
    "    try:\n",
    "        meal.append(i.text.split('\\n')[-3])\n",
    "    except:\n",
    "        meal.append('No Meal')\n",
    "        \n",
    "len(airline),len(date),len(source),len(destination),len(dep),len(arr),len(stop),len(dur),len(pr),len(meal)"
   ]
  },
  {
   "cell_type": "markdown",
   "id": "3a12d960",
   "metadata": {},
   "source": [
    "**Indore - Goa**\n",
    "\n",
    "**Date : 02/10/2022**"
   ]
  },
  {
   "cell_type": "code",
   "execution_count": 240,
   "id": "9b665448",
   "metadata": {},
   "outputs": [],
   "source": [
    "nex = driver.find_element(By.XPATH,'/html/body/section[2]/section/section[2]/section[1]/div[1]/div/div[1]/div/ul/li[10]/div/p[1]')\n",
    "nex.click()"
   ]
  },
  {
   "cell_type": "code",
   "execution_count": 241,
   "id": "605dcd9a",
   "metadata": {},
   "outputs": [],
   "source": [
    "for _ in range(500):\n",
    "    driver.execute_script(\"window.scrollBy(0,500)\")"
   ]
  },
  {
   "cell_type": "code",
   "execution_count": 242,
   "id": "08f94157",
   "metadata": {},
   "outputs": [
    {
     "data": {
      "text/plain": [
       "(1444, 1444, 1444, 1444, 1444, 1444, 1444, 1444, 1444, 1444)"
      ]
     },
     "execution_count": 242,
     "metadata": {},
     "output_type": "execute_result"
    }
   ],
   "source": [
    "for i in driver.find_elements(By.XPATH,'//span[@class=\"i-b text ellipsis\"]'):\n",
    "    airline.append(i.text)\n",
    "    date.append('02/10/2022')\n",
    "    source.append('Indore')\n",
    "    destination.append('Goa')\n",
    "\n",
    "for i in driver.find_elements(By.XPATH,'//div[@class=\"i-b pr\"]'):\n",
    "    dep.append(i.text)\n",
    "    \n",
    "for i in driver.find_elements(By.XPATH,'//p[@class=\"bold fs-15 mb-2 pr time\"]'):\n",
    "    arr.append(i.text.split('\\n')[0])\n",
    "    \n",
    "for i in driver.find_elements(By.XPATH,'//div[@class=\" font-lightgrey fs-10 tipsy i-b fs-10\"]'):\n",
    "    stop.append(i.text)\n",
    "    \n",
    "for i in driver.find_elements(By.XPATH,'//p[@class=\"fs-12 bold du mb-2\"]'):\n",
    "    dur.append(i.text)\n",
    "    \n",
    "for i in driver.find_elements(By.XPATH,'//div[@class=\"pr i-b mr-2\"]'):\n",
    "    pr.append(i.text)\n",
    "    \n",
    "for i in driver.find_elements(By.XPATH,'//div[@class=\"features pull-right fs-12 flex\"]'):\n",
    "    try:\n",
    "        meal.append(i.text.split('\\n')[-3])\n",
    "    except:\n",
    "        meal.append('No Meal')\n",
    "        \n",
    "len(airline),len(date),len(source),len(destination),len(dep),len(arr),len(stop),len(dur),len(pr),len(meal)"
   ]
  },
  {
   "cell_type": "markdown",
   "id": "3139b0be",
   "metadata": {},
   "source": [
    "## ixigo.com"
   ]
  },
  {
   "cell_type": "markdown",
   "id": "a2e8ef7d",
   "metadata": {},
   "source": [
    "**Chennai - Goa**\n",
    "\n",
    "**Date : 29/09/2022**"
   ]
  },
  {
   "cell_type": "code",
   "execution_count": 243,
   "id": "835342c6",
   "metadata": {},
   "outputs": [],
   "source": [
    "driver.get('https://www.ixigo.com/search/result/flight?from=MAA&to=GOI&date=29092022&returnDate=&adults=1&children=0&infants=0&class=e&source=Search%20Form')"
   ]
  },
  {
   "cell_type": "code",
   "execution_count": 244,
   "id": "379326ef",
   "metadata": {},
   "outputs": [],
   "source": [
    "for i in driver.find_elements(By.XPATH,'//div[@class=\"u-uppercase u-text-ellipsis\"]'):\n",
    "    airline.append(i.text)\n",
    "    date.append('29/09/2022')\n",
    "    source.append('Chennai')\n",
    "    destination.append('Goa')\n",
    "    \n",
    "for i in driver.find_elements(By.XPATH,'//div[@class=\"left-wing\"]'):\n",
    "    dep.append(i.text.split('\\n')[1])\n",
    "    \n",
    "for i in driver.find_elements(By.XPATH,'//div[@class=\"right-wing\"]'):\n",
    "    arr.append(i.text.split('\\n')[1])\n",
    "    \n",
    "for i in driver.find_elements(By.XPATH,'//div[@class=\"label br \"]'):\n",
    "    stop.append(i.text)\n",
    "    \n",
    "for i in driver.find_elements(By.XPATH,'//div[@class=\"label tl \"]'):\n",
    "    dur.append(i.text)\n",
    "    \n",
    "for i in driver.find_elements(By.XPATH,'//div[@class=\"price-section\"]'):\n",
    "    pr.append(i.text)\n",
    "    meal.append('Available')"
   ]
  },
  {
   "cell_type": "code",
   "execution_count": 245,
   "id": "acb22f26",
   "metadata": {},
   "outputs": [
    {
     "data": {
      "text/plain": [
       "(1459, 1459, 1459, 1459, 1459, 1459, 1459, 1459, 1459, 1459)"
      ]
     },
     "execution_count": 245,
     "metadata": {},
     "output_type": "execute_result"
    }
   ],
   "source": [
    "len(airline),len(date),len(source),len(destination),len(dep),len(arr),len(stop),len(dur),len(pr),len(meal)"
   ]
  },
  {
   "cell_type": "markdown",
   "id": "108de7b7",
   "metadata": {},
   "source": [
    "**Chennai - Goa**\n",
    "\n",
    "**Date : 30/09/2022**"
   ]
  },
  {
   "cell_type": "code",
   "execution_count": 246,
   "id": "969f07a1",
   "metadata": {},
   "outputs": [],
   "source": [
    "nex = driver.find_element(By.XPATH,'/html/body/div[1]/div/div[4]/div[1]/div[1]/div[3]/div/div/div[1]/a[8]/div[1]')\n",
    "nex.click()"
   ]
  },
  {
   "cell_type": "code",
   "execution_count": 247,
   "id": "2dd58bba",
   "metadata": {},
   "outputs": [
    {
     "data": {
      "text/plain": [
       "(1474, 1474, 1474, 1474, 1474, 1474, 1474, 1474, 1474, 1474)"
      ]
     },
     "execution_count": 247,
     "metadata": {},
     "output_type": "execute_result"
    }
   ],
   "source": [
    "for i in driver.find_elements(By.XPATH,'//div[@class=\"u-uppercase u-text-ellipsis\"]'):\n",
    "    airline.append(i.text)\n",
    "    date.append('30/09/2022')\n",
    "    source.append('Chennai')\n",
    "    destination.append('Goa')\n",
    "    \n",
    "for i in driver.find_elements(By.XPATH,'//div[@class=\"left-wing\"]'):\n",
    "    dep.append(i.text.split('\\n')[1])\n",
    "    \n",
    "for i in driver.find_elements(By.XPATH,'//div[@class=\"right-wing\"]'):\n",
    "    arr.append(i.text.split('\\n')[1])\n",
    "    \n",
    "for i in driver.find_elements(By.XPATH,'//div[@class=\"label br \"]'):\n",
    "    stop.append(i.text)\n",
    "    \n",
    "for i in driver.find_elements(By.XPATH,'//div[@class=\"label tl \"]'):\n",
    "    dur.append(i.text)\n",
    "    \n",
    "for i in driver.find_elements(By.XPATH,'//div[@class=\"price-section\"]'):\n",
    "    pr.append(i.text)\n",
    "    meal.append('Available')\n",
    "    \n",
    "len(airline),len(date),len(source),len(destination),len(dep),len(arr),len(stop),len(dur),len(pr),len(meal)"
   ]
  },
  {
   "cell_type": "markdown",
   "id": "47ea81d0",
   "metadata": {},
   "source": [
    "**Chennai - Goa**\n",
    "\n",
    "**Date : 01/10/2022**"
   ]
  },
  {
   "cell_type": "code",
   "execution_count": 248,
   "id": "d7b40956",
   "metadata": {},
   "outputs": [],
   "source": [
    "nex = driver.find_element(By.XPATH,'/html/body/div[1]/div/div[4]/div[1]/div[1]/div[3]/div/div/div[1]/a[9]/div[1]')\n",
    "nex.click()"
   ]
  },
  {
   "cell_type": "code",
   "execution_count": 249,
   "id": "eb172dca",
   "metadata": {},
   "outputs": [
    {
     "data": {
      "text/plain": [
       "(1490, 1490, 1490, 1490, 1490, 1490, 1490, 1490, 1490, 1490)"
      ]
     },
     "execution_count": 249,
     "metadata": {},
     "output_type": "execute_result"
    }
   ],
   "source": [
    "for i in driver.find_elements(By.XPATH,'//div[@class=\"u-uppercase u-text-ellipsis\"]'):\n",
    "    airline.append(i.text)\n",
    "    date.append('01/10/2022')\n",
    "    source.append('Chennai')\n",
    "    destination.append('Goa')\n",
    "    \n",
    "for i in driver.find_elements(By.XPATH,'//div[@class=\"left-wing\"]'):\n",
    "    dep.append(i.text.split('\\n')[1])\n",
    "    \n",
    "for i in driver.find_elements(By.XPATH,'//div[@class=\"right-wing\"]'):\n",
    "    arr.append(i.text.split('\\n')[1])\n",
    "    \n",
    "for i in driver.find_elements(By.XPATH,'//div[@class=\"label br \"]'):\n",
    "    stop.append(i.text)\n",
    "    \n",
    "for i in driver.find_elements(By.XPATH,'//div[@class=\"label tl \"]'):\n",
    "    dur.append(i.text)\n",
    "    \n",
    "for i in driver.find_elements(By.XPATH,'//div[@class=\"price-section\"]'):\n",
    "    pr.append(i.text)\n",
    "    meal.append('Available')\n",
    "    \n",
    "len(airline),len(date),len(source),len(destination),len(dep),len(arr),len(stop),len(dur),len(pr),len(meal)"
   ]
  },
  {
   "cell_type": "markdown",
   "id": "1ae25527",
   "metadata": {},
   "source": [
    "**Chennai - Goa**\n",
    "\n",
    "**Date : 02/10/2022**"
   ]
  },
  {
   "cell_type": "code",
   "execution_count": 250,
   "id": "497b33ea",
   "metadata": {},
   "outputs": [],
   "source": [
    "nex = driver.find_element(By.XPATH,'/html/body/div[1]/div/div[4]/div[1]/div[1]/div[3]/div/div/div[1]/a[10]/div[1]')\n",
    "nex.click()"
   ]
  },
  {
   "cell_type": "code",
   "execution_count": 253,
   "id": "fef8956e",
   "metadata": {},
   "outputs": [
    {
     "data": {
      "text/plain": [
       "(1506, 1506, 1506, 1506, 1506, 1506, 1506, 1506, 1506, 1506)"
      ]
     },
     "execution_count": 253,
     "metadata": {},
     "output_type": "execute_result"
    }
   ],
   "source": [
    "for i in driver.find_elements(By.XPATH,'//div[@class=\"u-uppercase u-text-ellipsis\"]'):\n",
    "    airline.append(i.text)\n",
    "    date.append('02/10/2022')\n",
    "    source.append('Chennai')\n",
    "    destination.append('Goa')\n",
    "    \n",
    "for i in driver.find_elements(By.XPATH,'//div[@class=\"left-wing\"]'):\n",
    "    dep.append(i.text.split('\\n')[1])\n",
    "    \n",
    "for i in driver.find_elements(By.XPATH,'//div[@class=\"right-wing\"]'):\n",
    "    arr.append(i.text.split('\\n')[1])\n",
    "    \n",
    "for i in driver.find_elements(By.XPATH,'//div[@class=\"label br \"]'):\n",
    "    stop.append(i.text)\n",
    "    \n",
    "for i in driver.find_elements(By.XPATH,'//div[@class=\"label tl \"]'):\n",
    "    dur.append(i.text)\n",
    "    \n",
    "for i in driver.find_elements(By.XPATH,'//div[@class=\"price-section\"]'):\n",
    "    pr.append(i.text)\n",
    "    meal.append('Available')\n",
    "    \n",
    "len(airline),len(date),len(source),len(destination),len(dep),len(arr),len(stop),len(dur),len(pr),len(meal)"
   ]
  },
  {
   "cell_type": "markdown",
   "id": "9ba8f484",
   "metadata": {},
   "source": [
    "**Hyderabad - Mumbai**\n",
    "\n",
    "**Date : 29/09/2022**"
   ]
  },
  {
   "cell_type": "code",
   "execution_count": 256,
   "id": "55c34fcc",
   "metadata": {},
   "outputs": [],
   "source": [
    "driver.get('https://www.ixigo.com/search/result/flight?from=HYD&to=BOM&date=29092022&returnDate=&adults=1&children=0&infants=0&class=e&source=Outlook')"
   ]
  },
  {
   "cell_type": "code",
   "execution_count": 257,
   "id": "1ccfe21b",
   "metadata": {},
   "outputs": [
    {
     "data": {
      "text/plain": [
       "(1522, 1522, 1522, 1522, 1522, 1522, 1522, 1522, 1522, 1522)"
      ]
     },
     "execution_count": 257,
     "metadata": {},
     "output_type": "execute_result"
    }
   ],
   "source": [
    "for i in driver.find_elements(By.XPATH,'//div[@class=\"u-uppercase u-text-ellipsis\"]'):\n",
    "    airline.append(i.text)\n",
    "    date.append('29/09/2022')\n",
    "    source.append('Hyderabad')\n",
    "    destination.append('Mumbai')\n",
    "    \n",
    "for i in driver.find_elements(By.XPATH,'//div[@class=\"left-wing\"]'):\n",
    "    dep.append(i.text.split('\\n')[1])\n",
    "    \n",
    "for i in driver.find_elements(By.XPATH,'//div[@class=\"right-wing\"]'):\n",
    "    arr.append(i.text.split('\\n')[1])\n",
    "    \n",
    "for i in driver.find_elements(By.XPATH,'//div[@class=\"label br \"]'):\n",
    "    stop.append(i.text)\n",
    "    \n",
    "for i in driver.find_elements(By.XPATH,'//div[@class=\"label tl \"]'):\n",
    "    dur.append(i.text)\n",
    "    \n",
    "for i in driver.find_elements(By.XPATH,'//div[@class=\"price-section\"]'):\n",
    "    pr.append(i.text)\n",
    "    meal.append('Available')\n",
    "    \n",
    "len(airline),len(date),len(source),len(destination),len(dep),len(arr),len(stop),len(dur),len(pr),len(meal)"
   ]
  },
  {
   "cell_type": "markdown",
   "id": "286009c0",
   "metadata": {},
   "source": [
    "**Hyderabad - Mumbai**\n",
    "\n",
    "**Date : 30/09/2022**"
   ]
  },
  {
   "cell_type": "code",
   "execution_count": 258,
   "id": "4dcae6ee",
   "metadata": {},
   "outputs": [],
   "source": [
    "nex = driver.find_element(By.XPATH,'/html/body/div[1]/div/div[4]/div[1]/div[1]/div[3]/div/div/div[1]/a[8]/div[1]')\n",
    "nex.click()"
   ]
  },
  {
   "cell_type": "code",
   "execution_count": 259,
   "id": "02bd74d6",
   "metadata": {},
   "outputs": [
    {
     "data": {
      "text/plain": [
       "(1538, 1538, 1538, 1538, 1538, 1538, 1538, 1538, 1538, 1538)"
      ]
     },
     "execution_count": 259,
     "metadata": {},
     "output_type": "execute_result"
    }
   ],
   "source": [
    "for i in driver.find_elements(By.XPATH,'//div[@class=\"u-uppercase u-text-ellipsis\"]'):\n",
    "    airline.append(i.text)\n",
    "    date.append('30/09/2022')\n",
    "    source.append('Hyderabad')\n",
    "    destination.append('Mumbai')\n",
    "    \n",
    "for i in driver.find_elements(By.XPATH,'//div[@class=\"left-wing\"]'):\n",
    "    dep.append(i.text.split('\\n')[1])\n",
    "    \n",
    "for i in driver.find_elements(By.XPATH,'//div[@class=\"right-wing\"]'):\n",
    "    arr.append(i.text.split('\\n')[1])\n",
    "    \n",
    "for i in driver.find_elements(By.XPATH,'//div[@class=\"label br \"]'):\n",
    "    stop.append(i.text)\n",
    "    \n",
    "for i in driver.find_elements(By.XPATH,'//div[@class=\"label tl \"]'):\n",
    "    dur.append(i.text)\n",
    "    \n",
    "for i in driver.find_elements(By.XPATH,'//div[@class=\"price-section\"]'):\n",
    "    pr.append(i.text)\n",
    "    meal.append('Available')\n",
    "    \n",
    "len(airline),len(date),len(source),len(destination),len(dep),len(arr),len(stop),len(dur),len(pr),len(meal)"
   ]
  },
  {
   "cell_type": "markdown",
   "id": "5be15d83",
   "metadata": {},
   "source": [
    "**Hyderabad - Mumbai**\n",
    "\n",
    "**Date : 01/10/2022**"
   ]
  },
  {
   "cell_type": "code",
   "execution_count": 260,
   "id": "60cd7e96",
   "metadata": {},
   "outputs": [],
   "source": [
    "nex = driver.find_element(By.XPATH,'/html/body/div[1]/div/div[4]/div[1]/div[1]/div[3]/div/div/div[1]/a[9]/div[1]')\n",
    "nex.click()"
   ]
  },
  {
   "cell_type": "code",
   "execution_count": 261,
   "id": "d81bc335",
   "metadata": {},
   "outputs": [
    {
     "data": {
      "text/plain": [
       "(1553, 1553, 1553, 1553, 1553, 1553, 1553, 1553, 1553, 1553)"
      ]
     },
     "execution_count": 261,
     "metadata": {},
     "output_type": "execute_result"
    }
   ],
   "source": [
    "for i in driver.find_elements(By.XPATH,'//div[@class=\"u-uppercase u-text-ellipsis\"]'):\n",
    "    airline.append(i.text)\n",
    "    date.append('01/10/2022')\n",
    "    source.append('Hyderabad')\n",
    "    destination.append('Mumbai')\n",
    "    \n",
    "for i in driver.find_elements(By.XPATH,'//div[@class=\"left-wing\"]'):\n",
    "    dep.append(i.text.split('\\n')[1])\n",
    "    \n",
    "for i in driver.find_elements(By.XPATH,'//div[@class=\"right-wing\"]'):\n",
    "    arr.append(i.text.split('\\n')[1])\n",
    "    \n",
    "for i in driver.find_elements(By.XPATH,'//div[@class=\"label br \"]'):\n",
    "    stop.append(i.text)\n",
    "    \n",
    "for i in driver.find_elements(By.XPATH,'//div[@class=\"label tl \"]'):\n",
    "    dur.append(i.text)\n",
    "    \n",
    "for i in driver.find_elements(By.XPATH,'//div[@class=\"price-section\"]'):\n",
    "    pr.append(i.text)\n",
    "    meal.append('Available')\n",
    "    \n",
    "len(airline),len(date),len(source),len(destination),len(dep),len(arr),len(stop),len(dur),len(pr),len(meal)"
   ]
  },
  {
   "cell_type": "markdown",
   "id": "29b3fcc8",
   "metadata": {},
   "source": [
    "**Hyderabad - Mumbai**\n",
    "\n",
    "**Date : 02/10/2022**"
   ]
  },
  {
   "cell_type": "code",
   "execution_count": 263,
   "id": "35f46c80",
   "metadata": {},
   "outputs": [],
   "source": [
    "nex = driver.find_element(By.XPATH,'/html/body/div[1]/div/div[4]/div[1]/div[1]/div[3]/div/div/div[1]/a[10]/div[1]')\n",
    "nex.click()"
   ]
  },
  {
   "cell_type": "code",
   "execution_count": 264,
   "id": "11a4ee99",
   "metadata": {},
   "outputs": [
    {
     "data": {
      "text/plain": [
       "(1569, 1569, 1569, 1569, 1569, 1569, 1569, 1569, 1569, 1569)"
      ]
     },
     "execution_count": 264,
     "metadata": {},
     "output_type": "execute_result"
    }
   ],
   "source": [
    "for i in driver.find_elements(By.XPATH,'//div[@class=\"u-uppercase u-text-ellipsis\"]'):\n",
    "    airline.append(i.text)\n",
    "    date.append('01/10/2022')\n",
    "    source.append('Hyderabad')\n",
    "    destination.append('Mumbai')\n",
    "    \n",
    "for i in driver.find_elements(By.XPATH,'//div[@class=\"left-wing\"]'):\n",
    "    dep.append(i.text.split('\\n')[1])\n",
    "    \n",
    "for i in driver.find_elements(By.XPATH,'//div[@class=\"right-wing\"]'):\n",
    "    arr.append(i.text.split('\\n')[1])\n",
    "    \n",
    "for i in driver.find_elements(By.XPATH,'//div[@class=\"label br \"]'):\n",
    "    stop.append(i.text)\n",
    "    \n",
    "for i in driver.find_elements(By.XPATH,'//div[@class=\"label tl \"]'):\n",
    "    dur.append(i.text)\n",
    "    \n",
    "for i in driver.find_elements(By.XPATH,'//div[@class=\"price-section\"]'):\n",
    "    pr.append(i.text)\n",
    "    meal.append('Available')\n",
    "    \n",
    "len(airline),len(date),len(source),len(destination),len(dep),len(arr),len(stop),len(dur),len(pr),len(meal)"
   ]
  },
  {
   "cell_type": "markdown",
   "id": "d6904bdf",
   "metadata": {},
   "source": [
    "**Mumbai - New Delhi**\n",
    "\n",
    "**Date : 29/09/2022**"
   ]
  },
  {
   "cell_type": "code",
   "execution_count": 265,
   "id": "1e2d6f85",
   "metadata": {},
   "outputs": [],
   "source": [
    "driver.get('https://www.ixigo.com/search/result/flight?from=BOM&to=DEL&date=29092022&returnDate=&adults=1&children=0&infants=0&class=e&source=Search%20Form')"
   ]
  },
  {
   "cell_type": "code",
   "execution_count": 266,
   "id": "7898ed92",
   "metadata": {},
   "outputs": [
    {
     "data": {
      "text/plain": [
       "(1584, 1584, 1584, 1584, 1584, 1584, 1584, 1584, 1584, 1584)"
      ]
     },
     "execution_count": 266,
     "metadata": {},
     "output_type": "execute_result"
    }
   ],
   "source": [
    "for i in driver.find_elements(By.XPATH,'//div[@class=\"u-uppercase u-text-ellipsis\"]'):\n",
    "    airline.append(i.text)\n",
    "    date.append('29/09/2022')\n",
    "    source.append('Mumbai')\n",
    "    destination.append('New Delhi')\n",
    "    \n",
    "for i in driver.find_elements(By.XPATH,'//div[@class=\"left-wing\"]'):\n",
    "    dep.append(i.text.split('\\n')[1])\n",
    "    \n",
    "for i in driver.find_elements(By.XPATH,'//div[@class=\"right-wing\"]'):\n",
    "    arr.append(i.text.split('\\n')[1])\n",
    "    \n",
    "for i in driver.find_elements(By.XPATH,'//div[@class=\"label br \"]'):\n",
    "    stop.append(i.text)\n",
    "    \n",
    "for i in driver.find_elements(By.XPATH,'//div[@class=\"label tl \"]'):\n",
    "    dur.append(i.text)\n",
    "    \n",
    "for i in driver.find_elements(By.XPATH,'//div[@class=\"price-section\"]'):\n",
    "    pr.append(i.text)\n",
    "    meal.append('Available')\n",
    "    \n",
    "len(airline),len(date),len(source),len(destination),len(dep),len(arr),len(stop),len(dur),len(pr),len(meal)"
   ]
  },
  {
   "cell_type": "markdown",
   "id": "09b14517",
   "metadata": {},
   "source": [
    "**Mumbai - New Delhi**\n",
    "\n",
    "**Date : 30/09/2022**"
   ]
  },
  {
   "cell_type": "code",
   "execution_count": 267,
   "id": "9d80435e",
   "metadata": {},
   "outputs": [],
   "source": [
    "nex = driver.find_element(By.XPATH,'/html/body/div[1]/div/div[4]/div[1]/div[1]/div[3]/div/div/div[1]/a[8]/div[1]')\n",
    "nex.click()"
   ]
  },
  {
   "cell_type": "code",
   "execution_count": 268,
   "id": "2a3fbfbb",
   "metadata": {},
   "outputs": [
    {
     "data": {
      "text/plain": [
       "(1599, 1599, 1599, 1599, 1599, 1599, 1599, 1599, 1599, 1599)"
      ]
     },
     "execution_count": 268,
     "metadata": {},
     "output_type": "execute_result"
    }
   ],
   "source": [
    "for i in driver.find_elements(By.XPATH,'//div[@class=\"u-uppercase u-text-ellipsis\"]'):\n",
    "    airline.append(i.text)\n",
    "    date.append('30/09/2022')\n",
    "    source.append('Mumbai')\n",
    "    destination.append('New Delhi')\n",
    "    \n",
    "for i in driver.find_elements(By.XPATH,'//div[@class=\"left-wing\"]'):\n",
    "    dep.append(i.text.split('\\n')[1])\n",
    "    \n",
    "for i in driver.find_elements(By.XPATH,'//div[@class=\"right-wing\"]'):\n",
    "    arr.append(i.text.split('\\n')[1])\n",
    "    \n",
    "for i in driver.find_elements(By.XPATH,'//div[@class=\"label br \"]'):\n",
    "    stop.append(i.text)\n",
    "    \n",
    "for i in driver.find_elements(By.XPATH,'//div[@class=\"label tl \"]'):\n",
    "    dur.append(i.text)\n",
    "    \n",
    "for i in driver.find_elements(By.XPATH,'//div[@class=\"price-section\"]'):\n",
    "    pr.append(i.text)\n",
    "    meal.append('Available')\n",
    "    \n",
    "len(airline),len(date),len(source),len(destination),len(dep),len(arr),len(stop),len(dur),len(pr),len(meal)"
   ]
  },
  {
   "cell_type": "markdown",
   "id": "8d1030a4",
   "metadata": {},
   "source": [
    "**Mumbai - New Delhi**\n",
    "\n",
    "**Date : 01/10/2022**"
   ]
  },
  {
   "cell_type": "code",
   "execution_count": 269,
   "id": "2084df38",
   "metadata": {},
   "outputs": [],
   "source": [
    "nex = driver.find_element(By.XPATH,'/html/body/div[1]/div/div[4]/div[1]/div[1]/div[3]/div/div/div[1]/a[9]/div[1]')\n",
    "nex.click()"
   ]
  },
  {
   "cell_type": "code",
   "execution_count": 270,
   "id": "fed41691",
   "metadata": {},
   "outputs": [
    {
     "data": {
      "text/plain": [
       "(1615, 1615, 1615, 1615, 1615, 1615, 1615, 1615, 1615, 1615)"
      ]
     },
     "execution_count": 270,
     "metadata": {},
     "output_type": "execute_result"
    }
   ],
   "source": [
    "for i in driver.find_elements(By.XPATH,'//div[@class=\"u-uppercase u-text-ellipsis\"]'):\n",
    "    airline.append(i.text)\n",
    "    date.append('01/10/2022')\n",
    "    source.append('Mumbai')\n",
    "    destination.append('New Delhi')\n",
    "    \n",
    "for i in driver.find_elements(By.XPATH,'//div[@class=\"left-wing\"]'):\n",
    "    dep.append(i.text.split('\\n')[1])\n",
    "    \n",
    "for i in driver.find_elements(By.XPATH,'//div[@class=\"right-wing\"]'):\n",
    "    arr.append(i.text.split('\\n')[1])\n",
    "    \n",
    "for i in driver.find_elements(By.XPATH,'//div[@class=\"label br \"]'):\n",
    "    stop.append(i.text)\n",
    "    \n",
    "for i in driver.find_elements(By.XPATH,'//div[@class=\"label tl \"]'):\n",
    "    dur.append(i.text)\n",
    "    \n",
    "for i in driver.find_elements(By.XPATH,'//div[@class=\"price-section\"]'):\n",
    "    pr.append(i.text)\n",
    "    meal.append('Available')\n",
    "    \n",
    "len(airline),len(date),len(source),len(destination),len(dep),len(arr),len(stop),len(dur),len(pr),len(meal)"
   ]
  },
  {
   "cell_type": "markdown",
   "id": "6bfcede5",
   "metadata": {},
   "source": [
    "**Mumbai - New Delhi**\n",
    "\n",
    "**Date : 02/10/2022**"
   ]
  },
  {
   "cell_type": "code",
   "execution_count": 271,
   "id": "72142a12",
   "metadata": {},
   "outputs": [],
   "source": [
    "nex = driver.find_element(By.XPATH,'/html/body/div[1]/div/div[4]/div[1]/div[1]/div[3]/div/div/div[1]/a[10]/div[1]')\n",
    "nex.click()"
   ]
  },
  {
   "cell_type": "code",
   "execution_count": 272,
   "id": "3ba143c4",
   "metadata": {},
   "outputs": [
    {
     "data": {
      "text/plain": [
       "(1631, 1631, 1631, 1631, 1631, 1631, 1631, 1631, 1631, 1631)"
      ]
     },
     "execution_count": 272,
     "metadata": {},
     "output_type": "execute_result"
    }
   ],
   "source": [
    "for i in driver.find_elements(By.XPATH,'//div[@class=\"u-uppercase u-text-ellipsis\"]'):\n",
    "    airline.append(i.text)\n",
    "    date.append('02/10/2022')\n",
    "    source.append('Mumbai')\n",
    "    destination.append('New Delhi')\n",
    "    \n",
    "for i in driver.find_elements(By.XPATH,'//div[@class=\"left-wing\"]'):\n",
    "    dep.append(i.text.split('\\n')[1])\n",
    "    \n",
    "for i in driver.find_elements(By.XPATH,'//div[@class=\"right-wing\"]'):\n",
    "    arr.append(i.text.split('\\n')[1])\n",
    "    \n",
    "for i in driver.find_elements(By.XPATH,'//div[@class=\"label br \"]'):\n",
    "    stop.append(i.text)\n",
    "    \n",
    "for i in driver.find_elements(By.XPATH,'//div[@class=\"label tl \"]'):\n",
    "    dur.append(i.text)\n",
    "    \n",
    "for i in driver.find_elements(By.XPATH,'//div[@class=\"price-section\"]'):\n",
    "    pr.append(i.text)\n",
    "    meal.append('Available')\n",
    "    \n",
    "len(airline),len(date),len(source),len(destination),len(dep),len(arr),len(stop),len(dur),len(pr),len(meal)"
   ]
  },
  {
   "cell_type": "code",
   "execution_count": 278,
   "id": "4d9591cf",
   "metadata": {},
   "outputs": [],
   "source": [
    "driver.close()"
   ]
  },
  {
   "cell_type": "markdown",
   "id": "8019f3c8",
   "metadata": {},
   "source": [
    "## Dataset"
   ]
  },
  {
   "cell_type": "code",
   "execution_count": 273,
   "id": "54008cb0",
   "metadata": {},
   "outputs": [],
   "source": [
    "flight = pd.DataFrame({'Flight':airline, 'Date':date, 'Duration':dur, 'Source':source, 'Destination':destination,\n",
    "                      'Departure':dep, 'Arrival':arr,'Stops':stop, 'Meal':meal, 'Price':pr})"
   ]
  },
  {
   "cell_type": "code",
   "execution_count": 279,
   "id": "53ae1f8b",
   "metadata": {},
   "outputs": [
    {
     "data": {
      "text/html": [
       "<div>\n",
       "<style scoped>\n",
       "    .dataframe tbody tr th:only-of-type {\n",
       "        vertical-align: middle;\n",
       "    }\n",
       "\n",
       "    .dataframe tbody tr th {\n",
       "        vertical-align: top;\n",
       "    }\n",
       "\n",
       "    .dataframe thead th {\n",
       "        text-align: right;\n",
       "    }\n",
       "</style>\n",
       "<table border=\"1\" class=\"dataframe\">\n",
       "  <thead>\n",
       "    <tr style=\"text-align: right;\">\n",
       "      <th></th>\n",
       "      <th>Flight</th>\n",
       "      <th>Date</th>\n",
       "      <th>Duration</th>\n",
       "      <th>Source</th>\n",
       "      <th>Destination</th>\n",
       "      <th>Departure</th>\n",
       "      <th>Arrival</th>\n",
       "      <th>Stops</th>\n",
       "      <th>Meal</th>\n",
       "      <th>Price</th>\n",
       "    </tr>\n",
       "  </thead>\n",
       "  <tbody>\n",
       "    <tr>\n",
       "      <th>0</th>\n",
       "      <td>SpiceJet</td>\n",
       "      <td>29/09/2022</td>\n",
       "      <td>2h 30m</td>\n",
       "      <td>New Delhi</td>\n",
       "      <td>Bangalore</td>\n",
       "      <td>20:00</td>\n",
       "      <td>22:30</td>\n",
       "      <td>Non Stop</td>\n",
       "      <td>No Meal</td>\n",
       "      <td>7,419</td>\n",
       "    </tr>\n",
       "    <tr>\n",
       "      <th>1</th>\n",
       "      <td>SpiceJet</td>\n",
       "      <td>29/09/2022</td>\n",
       "      <td>2h 50m</td>\n",
       "      <td>New Delhi</td>\n",
       "      <td>Bangalore</td>\n",
       "      <td>06:05</td>\n",
       "      <td>08:55</td>\n",
       "      <td>Non Stop</td>\n",
       "      <td>No Meal</td>\n",
       "      <td>7,419</td>\n",
       "    </tr>\n",
       "    <tr>\n",
       "      <th>2</th>\n",
       "      <td>Air India</td>\n",
       "      <td>29/09/2022</td>\n",
       "      <td>2h 50m</td>\n",
       "      <td>New Delhi</td>\n",
       "      <td>Bangalore</td>\n",
       "      <td>21:15</td>\n",
       "      <td>00:05</td>\n",
       "      <td>Non Stop</td>\n",
       "      <td>Free Meal</td>\n",
       "      <td>7,425</td>\n",
       "    </tr>\n",
       "    <tr>\n",
       "      <th>3</th>\n",
       "      <td>Air Asia</td>\n",
       "      <td>29/09/2022</td>\n",
       "      <td>5h 30m</td>\n",
       "      <td>New Delhi</td>\n",
       "      <td>Bangalore</td>\n",
       "      <td>15:30</td>\n",
       "      <td>21:00</td>\n",
       "      <td>1 Stop</td>\n",
       "      <td>No Meal</td>\n",
       "      <td>7,710</td>\n",
       "    </tr>\n",
       "    <tr>\n",
       "      <th>4</th>\n",
       "      <td>Air Asia</td>\n",
       "      <td>29/09/2022</td>\n",
       "      <td>6h 15m</td>\n",
       "      <td>New Delhi</td>\n",
       "      <td>Bangalore</td>\n",
       "      <td>08:00</td>\n",
       "      <td>14:15</td>\n",
       "      <td>1 Stop</td>\n",
       "      <td>No Meal</td>\n",
       "      <td>7,710</td>\n",
       "    </tr>\n",
       "    <tr>\n",
       "      <th>5</th>\n",
       "      <td>Air Asia</td>\n",
       "      <td>29/09/2022</td>\n",
       "      <td>6h 30m</td>\n",
       "      <td>New Delhi</td>\n",
       "      <td>Bangalore</td>\n",
       "      <td>20:00</td>\n",
       "      <td>02:30</td>\n",
       "      <td>1 Stop</td>\n",
       "      <td>No Meal</td>\n",
       "      <td>7,710</td>\n",
       "    </tr>\n",
       "    <tr>\n",
       "      <th>6</th>\n",
       "      <td>Air Asia</td>\n",
       "      <td>29/09/2022</td>\n",
       "      <td>6h 55m</td>\n",
       "      <td>New Delhi</td>\n",
       "      <td>Bangalore</td>\n",
       "      <td>06:05</td>\n",
       "      <td>13:00</td>\n",
       "      <td>1 Stop</td>\n",
       "      <td>No Meal</td>\n",
       "      <td>7,710</td>\n",
       "    </tr>\n",
       "    <tr>\n",
       "      <th>7</th>\n",
       "      <td>Air Asia</td>\n",
       "      <td>29/09/2022</td>\n",
       "      <td>8h 00m</td>\n",
       "      <td>New Delhi</td>\n",
       "      <td>Bangalore</td>\n",
       "      <td>14:55</td>\n",
       "      <td>22:55</td>\n",
       "      <td>1 Stop</td>\n",
       "      <td>No Meal</td>\n",
       "      <td>7,710</td>\n",
       "    </tr>\n",
       "    <tr>\n",
       "      <th>8</th>\n",
       "      <td>SpiceJet</td>\n",
       "      <td>29/09/2022</td>\n",
       "      <td>7h 30m</td>\n",
       "      <td>New Delhi</td>\n",
       "      <td>Bangalore</td>\n",
       "      <td>09:20</td>\n",
       "      <td>16:50</td>\n",
       "      <td>1 Stop</td>\n",
       "      <td>No Meal</td>\n",
       "      <td>8,214</td>\n",
       "    </tr>\n",
       "    <tr>\n",
       "      <th>9</th>\n",
       "      <td>SpiceJet</td>\n",
       "      <td>29/09/2022</td>\n",
       "      <td>23h 45m</td>\n",
       "      <td>New Delhi</td>\n",
       "      <td>Bangalore</td>\n",
       "      <td>17:05</td>\n",
       "      <td>16:50</td>\n",
       "      <td>1 Stop</td>\n",
       "      <td>No Meal</td>\n",
       "      <td>8,214</td>\n",
       "    </tr>\n",
       "    <tr>\n",
       "      <th>10</th>\n",
       "      <td>Air Asia</td>\n",
       "      <td>29/09/2022</td>\n",
       "      <td>5h 45m</td>\n",
       "      <td>New Delhi</td>\n",
       "      <td>Bangalore</td>\n",
       "      <td>10:40</td>\n",
       "      <td>16:25</td>\n",
       "      <td>1 Stop</td>\n",
       "      <td>No Meal</td>\n",
       "      <td>8,452</td>\n",
       "    </tr>\n",
       "    <tr>\n",
       "      <th>11</th>\n",
       "      <td>IndiGo</td>\n",
       "      <td>29/09/2022</td>\n",
       "      <td>6h 25m</td>\n",
       "      <td>New Delhi</td>\n",
       "      <td>Bangalore</td>\n",
       "      <td>15:20</td>\n",
       "      <td>21:45</td>\n",
       "      <td>1 Stop</td>\n",
       "      <td>No Meal</td>\n",
       "      <td>4 left at8,535</td>\n",
       "    </tr>\n",
       "    <tr>\n",
       "      <th>12</th>\n",
       "      <td>IndiGo</td>\n",
       "      <td>29/09/2022</td>\n",
       "      <td>5h 00m</td>\n",
       "      <td>New Delhi</td>\n",
       "      <td>Bangalore</td>\n",
       "      <td>05:15</td>\n",
       "      <td>10:15</td>\n",
       "      <td>1 Stop</td>\n",
       "      <td>No Meal</td>\n",
       "      <td>8,786</td>\n",
       "    </tr>\n",
       "    <tr>\n",
       "      <th>13</th>\n",
       "      <td>SpiceJet</td>\n",
       "      <td>29/09/2022</td>\n",
       "      <td>10h 30m</td>\n",
       "      <td>New Delhi</td>\n",
       "      <td>Bangalore</td>\n",
       "      <td>12:05</td>\n",
       "      <td>22:35</td>\n",
       "      <td>1 Stop</td>\n",
       "      <td>No Meal</td>\n",
       "      <td>9,228</td>\n",
       "    </tr>\n",
       "    <tr>\n",
       "      <th>14</th>\n",
       "      <td>Vistara</td>\n",
       "      <td>29/09/2022</td>\n",
       "      <td>2h 40m</td>\n",
       "      <td>New Delhi</td>\n",
       "      <td>Bangalore</td>\n",
       "      <td>08:10</td>\n",
       "      <td>10:50</td>\n",
       "      <td>Non Stop</td>\n",
       "      <td>Free Meal</td>\n",
       "      <td>2 left at9,418</td>\n",
       "    </tr>\n",
       "    <tr>\n",
       "      <th>15</th>\n",
       "      <td>Vistara</td>\n",
       "      <td>29/09/2022</td>\n",
       "      <td>2h 45m</td>\n",
       "      <td>New Delhi</td>\n",
       "      <td>Bangalore</td>\n",
       "      <td>06:15</td>\n",
       "      <td>09:00</td>\n",
       "      <td>Non Stop</td>\n",
       "      <td>Free Meal</td>\n",
       "      <td>9,418</td>\n",
       "    </tr>\n",
       "    <tr>\n",
       "      <th>16</th>\n",
       "      <td>Vistara</td>\n",
       "      <td>29/09/2022</td>\n",
       "      <td>2h 45m</td>\n",
       "      <td>New Delhi</td>\n",
       "      <td>Bangalore</td>\n",
       "      <td>09:05</td>\n",
       "      <td>11:50</td>\n",
       "      <td>Non Stop</td>\n",
       "      <td>Free Meal</td>\n",
       "      <td>9,418</td>\n",
       "    </tr>\n",
       "    <tr>\n",
       "      <th>17</th>\n",
       "      <td>Vistara</td>\n",
       "      <td>29/09/2022</td>\n",
       "      <td>2h 45m</td>\n",
       "      <td>New Delhi</td>\n",
       "      <td>Bangalore</td>\n",
       "      <td>16:05</td>\n",
       "      <td>18:50</td>\n",
       "      <td>Non Stop</td>\n",
       "      <td>Free Meal</td>\n",
       "      <td>1 left at9,418</td>\n",
       "    </tr>\n",
       "    <tr>\n",
       "      <th>18</th>\n",
       "      <td>Go First</td>\n",
       "      <td>29/09/2022</td>\n",
       "      <td>4h 30m</td>\n",
       "      <td>New Delhi</td>\n",
       "      <td>Bangalore</td>\n",
       "      <td>19:40</td>\n",
       "      <td>00:10</td>\n",
       "      <td>1 Stop</td>\n",
       "      <td>No Meal</td>\n",
       "      <td>9,418</td>\n",
       "    </tr>\n",
       "    <tr>\n",
       "      <th>19</th>\n",
       "      <td>Go First</td>\n",
       "      <td>29/09/2022</td>\n",
       "      <td>11h 10m</td>\n",
       "      <td>New Delhi</td>\n",
       "      <td>Bangalore</td>\n",
       "      <td>10:40</td>\n",
       "      <td>21:50</td>\n",
       "      <td>1 Stop</td>\n",
       "      <td>No Meal</td>\n",
       "      <td>9,418</td>\n",
       "    </tr>\n",
       "  </tbody>\n",
       "</table>\n",
       "</div>"
      ],
      "text/plain": [
       "       Flight        Date Duration     Source Destination Departure Arrival  \\\n",
       "0    SpiceJet  29/09/2022   2h 30m  New Delhi   Bangalore     20:00   22:30   \n",
       "1    SpiceJet  29/09/2022   2h 50m  New Delhi   Bangalore     06:05   08:55   \n",
       "2   Air India  29/09/2022   2h 50m  New Delhi   Bangalore     21:15   00:05   \n",
       "3    Air Asia  29/09/2022   5h 30m  New Delhi   Bangalore     15:30   21:00   \n",
       "4    Air Asia  29/09/2022   6h 15m  New Delhi   Bangalore     08:00   14:15   \n",
       "5    Air Asia  29/09/2022   6h 30m  New Delhi   Bangalore     20:00   02:30   \n",
       "6    Air Asia  29/09/2022   6h 55m  New Delhi   Bangalore     06:05   13:00   \n",
       "7    Air Asia  29/09/2022   8h 00m  New Delhi   Bangalore     14:55   22:55   \n",
       "8    SpiceJet  29/09/2022   7h 30m  New Delhi   Bangalore     09:20   16:50   \n",
       "9    SpiceJet  29/09/2022  23h 45m  New Delhi   Bangalore     17:05   16:50   \n",
       "10   Air Asia  29/09/2022   5h 45m  New Delhi   Bangalore     10:40   16:25   \n",
       "11     IndiGo  29/09/2022   6h 25m  New Delhi   Bangalore     15:20   21:45   \n",
       "12     IndiGo  29/09/2022   5h 00m  New Delhi   Bangalore     05:15   10:15   \n",
       "13   SpiceJet  29/09/2022  10h 30m  New Delhi   Bangalore     12:05   22:35   \n",
       "14    Vistara  29/09/2022   2h 40m  New Delhi   Bangalore     08:10   10:50   \n",
       "15    Vistara  29/09/2022   2h 45m  New Delhi   Bangalore     06:15   09:00   \n",
       "16    Vistara  29/09/2022   2h 45m  New Delhi   Bangalore     09:05   11:50   \n",
       "17    Vistara  29/09/2022   2h 45m  New Delhi   Bangalore     16:05   18:50   \n",
       "18   Go First  29/09/2022   4h 30m  New Delhi   Bangalore     19:40   00:10   \n",
       "19   Go First  29/09/2022  11h 10m  New Delhi   Bangalore     10:40   21:50   \n",
       "\n",
       "       Stops       Meal           Price  \n",
       "0   Non Stop    No Meal           7,419  \n",
       "1   Non Stop    No Meal           7,419  \n",
       "2   Non Stop  Free Meal           7,425  \n",
       "3     1 Stop    No Meal           7,710  \n",
       "4     1 Stop    No Meal           7,710  \n",
       "5     1 Stop    No Meal           7,710  \n",
       "6     1 Stop    No Meal           7,710  \n",
       "7     1 Stop    No Meal           7,710  \n",
       "8     1 Stop    No Meal           8,214  \n",
       "9     1 Stop    No Meal           8,214  \n",
       "10    1 Stop    No Meal           8,452  \n",
       "11    1 Stop    No Meal  4 left at8,535  \n",
       "12    1 Stop    No Meal           8,786  \n",
       "13    1 Stop    No Meal           9,228  \n",
       "14  Non Stop  Free Meal  2 left at9,418  \n",
       "15  Non Stop  Free Meal           9,418  \n",
       "16  Non Stop  Free Meal           9,418  \n",
       "17  Non Stop  Free Meal  1 left at9,418  \n",
       "18    1 Stop    No Meal           9,418  \n",
       "19    1 Stop    No Meal           9,418  "
      ]
     },
     "execution_count": 279,
     "metadata": {},
     "output_type": "execute_result"
    }
   ],
   "source": [
    "flight.head(20)"
   ]
  },
  {
   "cell_type": "code",
   "execution_count": 275,
   "id": "cdfbdacc",
   "metadata": {},
   "outputs": [],
   "source": [
    "flight.to_csv('Flight_price.csv')"
   ]
  }
 ],
 "metadata": {
  "kernelspec": {
   "display_name": "Python 3 (ipykernel)",
   "language": "python",
   "name": "python3"
  },
  "language_info": {
   "codemirror_mode": {
    "name": "ipython",
    "version": 3
   },
   "file_extension": ".py",
   "mimetype": "text/x-python",
   "name": "python",
   "nbconvert_exporter": "python",
   "pygments_lexer": "ipython3",
   "version": "3.9.7"
  }
 },
 "nbformat": 4,
 "nbformat_minor": 5
}
